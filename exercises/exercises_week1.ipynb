{
 "cells": [
  {
   "cell_type": "markdown",
   "metadata": {},
   "source": [
    "> **Note:** Every week, you will be solving exercises posed in a Jupyter notebook that looks like this one. Because you are cloning a Github repository that only we can push to, you should **NOT EDIT** any of the files you pull from Github. Instead, what you should do, is either make a new notebook and write your solutions in there, or **make a copy of this notebook and save it somewhere else** on your computer, not inside the `tsds` folder that you cloned, so you can write your answers in there. If you edit the notebook you pulled from Github, those edits (possible your solutions to the exercises) may be overwritten and lost the next time you pull from Github. This is important, so don't hesitate to ask if it is unclear."
   ]
  },
  {
   "cell_type": "markdown",
   "metadata": {},
   "source": [
    "# Week 1: Introduction and Python"
   ]
  },
  {
   "cell_type": "markdown",
   "metadata": {},
   "source": [
    "*Thursday, February 8, 2018*"
   ]
  },
  {
   "cell_type": "markdown",
   "metadata": {
    "ExecuteTime": {
     "end_time": "2017-08-23T15:30:03.634114Z",
     "start_time": "2017-08-23T15:30:03.629294Z"
    }
   },
   "source": [
    "We start out with the basics. The exercises today cover:\n",
    "\n",
    "* 1.0: Executing Python code\n",
    "* 1.1: Python for Data Science\n",
    "* 1.2: JSON data from Reddit\n",
    "* 1.3: Visualization"
   ]
  },
  {
   "cell_type": "markdown",
   "metadata": {},
   "source": [
    "## Exercises\n",
    "Below are your first exercises. The exercises are numbered by the convention `[session]`.`[section]`.`[problem]`.`[subproblem]`. For example, exercise 4.2.3.1 is in week 4, section 2, problem 3, and subproblem 1. You can solve them inside this notebook (make sure it's a copy of the original that exists outside the `tsds` folder), or you can make a new notebook and solve them with reference so the exercise numbers. We will try to keep exercise numbering concise. If you encounter errors or inconsistencies, please let us know."
   ]
  },
  {
   "cell_type": "markdown",
   "metadata": {},
   "source": [
    "### Part 1.0: Executing Python code"
   ]
  },
  {
   "cell_type": "markdown",
   "metadata": {},
   "source": [
    "We will be writing a lot of Python code in this course, but before we throw ourselves at that it's appropriate with a short review of some of the many ways to do that.\n",
    "\n",
    "Let's say you have written some code. However, amazing and elegant it may be it's little more than a bunch of text unless you choose to execute it. There are three ways you can do that: \n",
    "1. Save it in a file that ends with '.py' and execute it from your terminal/console.\n",
    "2. Save it in a file and execute it inside an IDE.\n",
    "3. Put it in a Jupyter notebook and run it inside a code cell.\n",
    "\n",
    "We will focus on 1. and 3, but **MOSTLY 3**. In the two subsections below, we explain how do to either.\n",
    "\n",
    "*Note: Regarding 2., IDE's are great for software development and debugging, but a lot of the functionality that supports that can also feel bloated and get in the way when you try to do Data Science.*"
   ]
  },
  {
   "cell_type": "markdown",
   "metadata": {},
   "source": [
    "#### Using scripts"
   ]
  },
  {
   "cell_type": "markdown",
   "metadata": {
    "ExecuteTime": {
     "end_time": "2018-02-07T06:10:35.326645Z",
     "start_time": "2018-02-07T06:10:35.315424Z"
    }
   },
   "source": [
    "Let's say you have some code that reads:\n",
    "\n",
    "    def unwrap(l, depth=1):\n",
    "        def _unwrap_one(l):\n",
    "            return [v for t in l for v in t]\n",
    "\n",
    "        if depth <= 0:\n",
    "            return l\n",
    "        try:\n",
    "            if depth == 1:\n",
    "                return _unwrap_one(l)\n",
    "            return unwrap(_unwrap_one(l), depth=depth-1)\n",
    "        except TypeError:\n",
    "            raise TypeError(\"Max-depth exceeded. Set `depth` to a lower value.\")\n",
    "\n",
    "    nested_lists = [[[1, 2, 0, -1], [7, 3, 4]], [[5, 6], [7, 8, 9, 10]]]\n",
    "\n",
    "    print(nested_lists)\n",
    "    print(unwrap(nested_lists, depth=2))"
   ]
  },
  {
   "cell_type": "markdown",
   "metadata": {
    "ExecuteTime": {
     "end_time": "2018-02-07T05:54:14.913009Z",
     "start_time": "2018-02-07T05:54:09.439239Z"
    }
   },
   "source": [
    "> **Ex. 1.0.1**: From your terminal/console, execute this code as a script. Below we list some suggested steps you can take to do this.\n",
    "* Create an empty file `yourfilename.py` and put the code inside it.\n",
    "* Open a terminal (Mac) or the Anaconda Prompt (Windows).\n",
    "* Navigate to the directory where you put the file.\n",
    "* Run `python yourfilename.py`."
   ]
  },
  {
   "cell_type": "markdown",
   "metadata": {},
   "source": [
    "[Answer to Ex. 1.0.1] (can be a screenshot of your terminal)."
   ]
  },
  {
   "cell_type": "markdown",
   "metadata": {},
   "source": [
    "That's it! Now you know how to execute Python scripts!"
   ]
  },
  {
   "cell_type": "markdown",
   "metadata": {},
   "source": [
    "#### Using Jupyter notebooks"
   ]
  },
  {
   "cell_type": "markdown",
   "metadata": {
    "ExecuteTime": {
     "end_time": "2018-01-16T07:42:48.172973Z",
     "start_time": "2018-01-16T07:42:48.161163Z"
    }
   },
   "source": [
    ">**IMPORTANT NOTICE**: You may be tempted to skip ahead and start solving coding problems right away. If you know Jupyter notebooks like the back of your hand, by all means do, but if not you will be doing yourself a huge disservice by moving on too fast. Below, we introduce the most important things you need to know about Jupyter notebooks and save you the trouble of figuring it out by trial and error. Invest 10-15 focussed **minutes** on this section you will save yourself **hours** down the road.\n",
    "\n",
    "This document is what we call a *Jupyter notebook*. It's essentially just a list of *cells* that can have code inside of them. There are two very basic things you must know about notebooks:\n",
    "\n",
    "1. **There are two types of cells: \"code cells\" and \"Markdown cells\"**. Code cells are for writing executable code, and Markdown cells (like this one) are for explaining things in text and making your notebook more readable. A typical workflow that you will soon get use to, is something like: solving a problem with some code in a *code cell* and explaining your reasoning or the results you obtained in a *Markdown cell*. You can toggle cell type when you are in *command mode* by pressing <kbd>y</kbd> for code and <kbd>m</kbd> for Markdown. **Try to do that**. Change this Markdown cell to a code cell, and change it back again. What happens if you execute (<kbd>shift</kbd>+<kbd>enter</kbd>) this cell as code cell, compared to when it is a Markdown cell?\n",
    "\n",
    "2. **There are two modes: \"edit mode\" and \"command mode\"**. You enter command mode by pressing <kbd>esc</kbd> or clicking outside a cell, and edit mode by clicking a cell and pressing <kbd>enter</kbd> or double clicking a cell. When you're in edit mode, the outline of the current cell turns green and whatever you type into your keyboard goes into that cell, whether it is a code or Markdown cell. When you're in command mode, the outline of the latest edited cell turns blue and your keys become *hotkeys that execute commands*. **Beware of <kbd>x</kbd> and <kbd>d</kbd>**. Read the full list of hotkeys by pressing <kbd>h</kbd> in command mode to figure out why.\n",
    "\n",
    ">*Heads up:* Because we'll be using Jupyter notebooks so much in this course, we strongly recommend investing 5 minutes more than you would normally, playing around with cell types, modes and hotkeys. It will save you heaps of time down the road.\n",
    "\n",
    "When you run a code cell by pressing <kbd>shift</kbd> + <kbd>enter</kbd>, the code gets evaluated by the Python interpreter installed on your computer. The interpreter always returns some output, so unless you store it in a variable, it gets printed below the cell. In general, you will use code cells for doing analysis and working with data.\n",
    "\n",
    "*Markdown* is a simple markup language for formatting text (similar to *HTML* or $\\LaTeX$, which you may know). You will typically use it for writing explanations about how you solve the exercises and the results you get, and styling your notebook with sections and subsections. It can do **bold**, *italics* and $\\LaTeX$ formatting (for equations), and much much more. You can read about the Markdown language [here](http://daringfireball.net/projects/markdown/)."
   ]
  },
  {
   "cell_type": "markdown",
   "metadata": {
    "ExecuteTime": {
     "end_time": "2017-08-23T14:01:10.834257Z",
     "start_time": "2017-08-23T14:01:10.826472Z"
    }
   },
   "source": [
    ">**Ex. 1.0.2**: In the Markdown cell below, write a short text that shows that you can:\n",
    ">* Create sections\n",
    ">* Write words in bold and italics\n",
    ">* Write an equation in LateX formatting\n",
    ">* Create bullet lists\n",
    ">* Create [hyperlinks](https://en.wikipedia.org/wiki/Hyperlink)\n",
    "\n",
    ">*Hint: Remember to execute the cell (<kbd>shift</kbd>+<kbd>enter</kbd>) so the Markdown gets rendered.*"
   ]
  },
  {
   "cell_type": "markdown",
   "metadata": {},
   "source": [
    "[Answer to Ex. 1.0.2]"
   ]
  },
  {
   "cell_type": "markdown",
   "metadata": {},
   "source": [
    "<hr>"
   ]
  },
  {
   "cell_type": "markdown",
   "metadata": {},
   "source": [
    "### Part 1.1: Python for Data Science"
   ]
  },
  {
   "cell_type": "markdown",
   "metadata": {},
   "source": [
    "The following exercises start with some basic Python, run through them if you're an expert, take you're time if you're not. We then move on to some of the most used tools for Data Science. These are all things you will use repeatedly throughout the course."
   ]
  },
  {
   "cell_type": "markdown",
   "metadata": {},
   "source": [
    "#### Basic Python"
   ]
  },
  {
   "cell_type": "markdown",
   "metadata": {},
   "source": [
    "(Skip 1.1.1-11 if you completed `Training_notebook.ipynb`)\n",
    " \n",
    "Use the following exercises to calibrate your expectations: If you find them hard, you should probably invest some more time getting up to speed (see the [course preparation page](https://github.com/abjer/tsds/wiki/Course-preparation)). If they're easy enough you have earned yourself a deep sigh of relief."
   ]
  },
  {
   "cell_type": "markdown",
   "metadata": {},
   "source": [
    ">**Ex. 1.1.1**: Create a list, `a`, that contains the numbers from $1$ to $1110$ (including $1$ and $1110$), incremented by one, using the `range` function. Print the first 10 elements of `a`. Also print its [type](https://stackoverflow.com/questions/2225038/determine-the-type-of-an-object)."
   ]
  },
  {
   "cell_type": "code",
   "execution_count": 46,
   "metadata": {
    "ExecuteTime": {
     "end_time": "2018-01-16T09:25:56.162842Z",
     "start_time": "2018-01-16T09:25:56.159664Z"
    },
    "collapsed": true,
    "run_control": {
     "frozen": false,
     "read_only": false
    }
   },
   "outputs": [],
   "source": [
    "# [Answer to Ex. 1.1.1]"
   ]
  },
  {
   "cell_type": "markdown",
   "metadata": {},
   "source": [
    ">**Ex. 1.1.2**: Show that you understand [slicing](http://stackoverflow.com/questions/509211/explain-pythons-slice-notation) in Python by extracting a list, `b`, with the numbers from $760$ to $769$ (including both) from the list created above. Print `b`."
   ]
  },
  {
   "cell_type": "code",
   "execution_count": 47,
   "metadata": {
    "ExecuteTime": {
     "end_time": "2018-01-16T09:26:00.571221Z",
     "start_time": "2018-01-16T09:26:00.568028Z"
    },
    "collapsed": true,
    "run_control": {
     "frozen": false,
     "read_only": false
    }
   },
   "outputs": [],
   "source": [
    "# [Answer to Ex. 1.1.2]"
   ]
  },
  {
   "cell_type": "markdown",
   "metadata": {},
   "source": [
    "> **Ex. 1.2.3**: Create a dictionary `d`, that maps between numbers in `b` and their index in the list. Demonstrate that it works by printing `d[765]`, which should evaluate to 5. Also print `b`'s type."
   ]
  },
  {
   "cell_type": "code",
   "execution_count": 24,
   "metadata": {
    "ExecuteTime": {
     "end_time": "2018-02-07T09:20:10.201918Z",
     "start_time": "2018-02-07T09:20:10.198807Z"
    },
    "collapsed": true,
    "run_control": {
     "frozen": false,
     "read_only": false
    }
   },
   "outputs": [],
   "source": [
    "# [Answer to Ex. 1.1.3]"
   ]
  },
  {
   "cell_type": "markdown",
   "metadata": {},
   "source": [
    ">**Ex. 1.1.4**: Define a function that takes as input a number $x$ and outputs the number multiplied by itself plus three $f(x) = x(x+3)$. "
   ]
  },
  {
   "cell_type": "code",
   "execution_count": 25,
   "metadata": {
    "ExecuteTime": {
     "end_time": "2018-02-07T09:20:17.945965Z",
     "start_time": "2018-02-07T09:20:17.942691Z"
    },
    "collapsed": true,
    "run_control": {
     "frozen": false,
     "read_only": false
    }
   },
   "outputs": [],
   "source": [
    "# [Answer to Ex. 1.1.4]"
   ]
  },
  {
   "cell_type": "markdown",
   "metadata": {},
   "source": [
    ">**Ex. 1.1.5**: Apply this function to every element of the list `b` using a `for` loop and append the results to a new list `c`. Print `c`."
   ]
  },
  {
   "cell_type": "code",
   "execution_count": 26,
   "metadata": {
    "ExecuteTime": {
     "end_time": "2018-02-07T09:20:24.400379Z",
     "start_time": "2018-02-07T09:20:24.397255Z"
    },
    "collapsed": true,
    "run_control": {
     "frozen": false,
     "read_only": false
    }
   },
   "outputs": [],
   "source": [
    "# [Answer to Ex. 1.1.5]"
   ]
  },
  {
   "cell_type": "markdown",
   "metadata": {},
   "source": [
    ">**Ex. 1.1.6**: Do the exact same thing using a *list comprehension*."
   ]
  },
  {
   "cell_type": "code",
   "execution_count": 27,
   "metadata": {
    "ExecuteTime": {
     "end_time": "2018-02-07T09:20:30.648924Z",
     "start_time": "2018-02-07T09:20:30.645729Z"
    },
    "collapsed": true,
    "run_control": {
     "frozen": false,
     "read_only": false
    }
   },
   "outputs": [],
   "source": [
    "# [Answer to Ex. 1.1.6]"
   ]
  },
  {
   "cell_type": "markdown",
   "metadata": {},
   "source": [
    ">**Ex. 1.1.7**: Write the numbers in `c` to a text file with one number per line."
   ]
  },
  {
   "cell_type": "code",
   "execution_count": 28,
   "metadata": {
    "ExecuteTime": {
     "end_time": "2018-02-07T09:20:36.936813Z",
     "start_time": "2018-02-07T09:20:36.933797Z"
    },
    "collapsed": true,
    "run_control": {
     "frozen": false,
     "read_only": false
    }
   },
   "outputs": [],
   "source": [
    "# [Answer to Ex. 1.1.7]"
   ]
  },
  {
   "cell_type": "markdown",
   "metadata": {},
   "source": [
    ">**Ex. 1.1.8**: Show that you understand how strings work in Python. You should:\n",
    ">\n",
    ">1. Add a comment above each line of code that explains it.\n",
    ">2. Find all the lines where **a string** is put into a string. How many are there?\n",
    ">3. Explain the difference between `%d`, `%s` and `%r`.\n",
    ">\n",
    ">[Source](https://learnpythonthehardway.org/book/ex6.html)"
   ]
  },
  {
   "cell_type": "code",
   "execution_count": 17,
   "metadata": {
    "ExecuteTime": {
     "end_time": "2018-02-07T09:12:12.870765Z",
     "start_time": "2018-02-07T09:12:12.858654Z"
    },
    "run_control": {
     "frozen": false,
     "read_only": false
    }
   },
   "outputs": [
    {
     "name": "stdout",
     "output_type": "stream",
     "text": [
      "There are 10 types of people.\n",
      "Those who know binary and those who don't.\n",
      "I said: 'There are 10 types of people.'.\n",
      "I also said: 'Those who know binary and those who don't.'.\n",
      "Isn't that joke so funny?! False\n",
      "This is the left side of...a string with a right side.\n"
     ]
    }
   ],
   "source": [
    "# This is an example of a comment\n",
    "\n",
    "x = \"There are %d types of people.\" % 10\n",
    "binary = \"binary\"\n",
    "do_not = \"don't\"\n",
    "y = \"Those who know %s and those who %s.\" % (binary, do_not)\n",
    "\n",
    "print(x)\n",
    "print(y)\n",
    "\n",
    "print(\"I said: %r.\" % x)\n",
    "print(\"I also said: '%s'.\" % y)\n",
    "\n",
    "hilarious = False\n",
    "joke_evaluation = \"Isn't that joke so funny?! %r\"\n",
    "\n",
    "print(joke_evaluation % hilarious)\n",
    "\n",
    "w = \"This is the left side of...\"\n",
    "e = \"a string with a right side.\"\n",
    "\n",
    "print(w + e)"
   ]
  },
  {
   "cell_type": "markdown",
   "metadata": {},
   "source": [
    "[Answer to Ex. 1.1.8.2]"
   ]
  },
  {
   "cell_type": "markdown",
   "metadata": {},
   "source": [
    "[Answer to Ex. 1.1.8.3]"
   ]
  },
  {
   "cell_type": "markdown",
   "metadata": {},
   "source": [
    "> **Ex. 1.1.9**: What does 5 / 2 give in Python 3.6? How do you make 'integer division' in Python 3.6?"
   ]
  },
  {
   "cell_type": "markdown",
   "metadata": {},
   "source": [
    "[Answer to Ex. 1.1.9]"
   ]
  },
  {
   "cell_type": "markdown",
   "metadata": {},
   "source": [
    "> **Ex. 1.1.10**: Loop over `b` (from Ex. 1.1.2) and print only the elements that are odd numbers.\n",
    "\n",
    ">*Hint: Use an `if` statement.*"
   ]
  },
  {
   "cell_type": "code",
   "execution_count": 31,
   "metadata": {
    "ExecuteTime": {
     "end_time": "2018-02-07T09:37:48.241368Z",
     "start_time": "2018-02-07T09:37:48.238132Z"
    },
    "collapsed": true,
    "run_control": {
     "frozen": false,
     "read_only": false
    }
   },
   "outputs": [],
   "source": [
    "# [Answer to Ex. 1.1.10]"
   ]
  },
  {
   "cell_type": "markdown",
   "metadata": {},
   "source": [
    "> **Ex. 1.1.11**: What is the point of using `try` and `except`? Explain. Write some code that shows how to use these."
   ]
  },
  {
   "cell_type": "code",
   "execution_count": 32,
   "metadata": {
    "ExecuteTime": {
     "end_time": "2018-02-07T09:37:56.864246Z",
     "start_time": "2018-02-07T09:37:56.861079Z"
    },
    "collapsed": true,
    "run_control": {
     "frozen": false,
     "read_only": false
    }
   },
   "outputs": [],
   "source": [
    "# [Answer to Ex. 1.1.11]"
   ]
  },
  {
   "cell_type": "markdown",
   "metadata": {},
   "source": [
    "#### Essential tools for Data Science"
   ]
  },
  {
   "cell_type": "markdown",
   "metadata": {},
   "source": [
    "When working with data in Python there are some tools we use again and again. Some of the most low-level/basic ones are `collections` and `numpy` and more advanced ones are `pandas`, `sklearn` and `scipy`. In the following we do a few exercises with the first three mentioned here, but you will encounter all throughout this course. The purpose today is not to teach you everything, but just to get you warmed up and slightly familiar with the toolbox."
   ]
  },
  {
   "cell_type": "markdown",
   "metadata": {
    "ExecuteTime": {
     "end_time": "2018-02-07T09:48:54.997215Z",
     "start_time": "2018-02-07T09:48:54.990521Z"
    }
   },
   "source": [
    ">**Ex 1.1.12**: Just before, you learned about a `dict`, so now you're ready for a `defaultdict`.\n",
    "1. What is a `defaultdict`? How would you say it is different from a normal Python `dict`?\n",
    "2. Write some code that takes a list of tuples:\n",
    "\n",
    ">        l = [(\"a\", 1), (\"b\", 3), (\"a\", None), (\"c\", False), (\"b\", True), (\"a\", None)]\n",
    "\n",
    ">     And produces a `defaultdict` object\n",
    "\n",
    ">        defaultdict(<type 'list'>, {'a': [1, None, None], 'c': [False], 'b': [3, True]})\n",
    "\n",
    ">*Hint: you can import `defaultdict` from `collections`*"
   ]
  },
  {
   "cell_type": "markdown",
   "metadata": {
    "ExecuteTime": {
     "end_time": "2018-02-07T19:51:35.914990Z",
     "start_time": "2018-02-07T19:51:35.890091Z"
    }
   },
   "source": [
    "[Answer to Ex. 1.1.12.1]"
   ]
  },
  {
   "cell_type": "code",
   "execution_count": 104,
   "metadata": {
    "ExecuteTime": {
     "end_time": "2018-02-07T19:54:46.627910Z",
     "start_time": "2018-02-07T19:54:46.624233Z"
    },
    "collapsed": true,
    "run_control": {
     "frozen": false,
     "read_only": false
    }
   },
   "outputs": [],
   "source": [
    "# [Answer to Ex. 1.1.12.2]"
   ]
  },
  {
   "cell_type": "markdown",
   "metadata": {},
   "source": [
    ">**Ex 1.1.13**: Take a list `a = list(\"justreadtheinstructions\")` and\n",
    "1. count the number of times each element occurs using `Counter`,\n",
    "2. report the two most common elements\n",
    "\n",
    ">*Hint: you can import `Counter` from `collections`*"
   ]
  },
  {
   "cell_type": "code",
   "execution_count": 95,
   "metadata": {
    "ExecuteTime": {
     "end_time": "2018-02-07T19:51:46.904087Z",
     "start_time": "2018-02-07T19:51:46.898500Z"
    },
    "collapsed": true,
    "run_control": {
     "frozen": false,
     "read_only": false
    }
   },
   "outputs": [],
   "source": [
    "# [Answer to Ex. 1.1.13.1]"
   ]
  },
  {
   "cell_type": "code",
   "execution_count": null,
   "metadata": {
    "collapsed": true,
    "run_control": {
     "frozen": false,
     "read_only": false
    }
   },
   "outputs": [],
   "source": [
    "# [Answer to Ex. 1.1.13.2]"
   ]
  },
  {
   "cell_type": "markdown",
   "metadata": {
    "ExecuteTime": {
     "end_time": "2018-02-07T09:50:08.398523Z",
     "start_time": "2018-02-07T09:50:08.391787Z"
    }
   },
   "source": [
    ">**Ex 1.1.14**: Take another list `b = list(\"ofcourseistillloveyou\")` and\n",
    "1. get the `set` of characters that exist in both `a` and `b` (intersection),\n",
    "2. get the `set` of characters that exist in either `a` or `b` (union), and\n",
    "3. compute the [Jaccard similarity](https://en.wikipedia.org/wiki/Jaccard_index) between the distinct elements in `a` and `b`.\n",
    "\n",
    ">*Hint: use the `set` function to get a `set`-type object of distinct elements from a list*"
   ]
  },
  {
   "cell_type": "code",
   "execution_count": 96,
   "metadata": {
    "ExecuteTime": {
     "end_time": "2018-02-07T19:52:00.068046Z",
     "start_time": "2018-02-07T19:52:00.064911Z"
    },
    "collapsed": true,
    "run_control": {
     "frozen": false,
     "read_only": false
    }
   },
   "outputs": [],
   "source": [
    "# [Answer to Ex. 1.1.14.1]"
   ]
  },
  {
   "cell_type": "code",
   "execution_count": 102,
   "metadata": {
    "ExecuteTime": {
     "end_time": "2018-02-07T19:52:50.303989Z",
     "start_time": "2018-02-07T19:52:50.299872Z"
    },
    "collapsed": true,
    "run_control": {
     "frozen": false,
     "read_only": false
    }
   },
   "outputs": [],
   "source": [
    "# [Answer to Ex. 1.1.14.2]"
   ]
  },
  {
   "cell_type": "code",
   "execution_count": 103,
   "metadata": {
    "ExecuteTime": {
     "end_time": "2018-02-07T19:52:53.622237Z",
     "start_time": "2018-02-07T19:52:53.619099Z"
    },
    "collapsed": true,
    "run_control": {
     "frozen": false,
     "read_only": false
    }
   },
   "outputs": [],
   "source": [
    "# [Answer to Ex. 1.1.14.3]"
   ]
  },
  {
   "cell_type": "markdown",
   "metadata": {},
   "source": [
    ">**Ex. 1.1.15**: Using `numpy`, create:\n",
    "1. A 1-dimensional array with all the numbers from 0 to 10. Print it.\n",
    "2. A 2-dimensional array with 3 rows and 3 columns, containing random numbers between 0 and 1. Print it.\n",
    "\n",
    ">*Hint: It is pretty standard to import `numpy` as `np`. You do that simply by executing `import numpy as np`. Then you can write `np` instead of `numpy` when you use the module in your code. It's shorter and more convenient.*"
   ]
  },
  {
   "cell_type": "code",
   "execution_count": 97,
   "metadata": {
    "ExecuteTime": {
     "end_time": "2018-02-07T19:52:04.802114Z",
     "start_time": "2018-02-07T19:52:04.798163Z"
    },
    "collapsed": true,
    "run_control": {
     "frozen": false,
     "read_only": false
    }
   },
   "outputs": [],
   "source": [
    "# [Answer to Ex. 1.1.15.1]"
   ]
  },
  {
   "cell_type": "code",
   "execution_count": 101,
   "metadata": {
    "ExecuteTime": {
     "end_time": "2018-02-07T19:52:37.024913Z",
     "start_time": "2018-02-07T19:52:37.021602Z"
    },
    "collapsed": true,
    "run_control": {
     "frozen": false,
     "read_only": false
    }
   },
   "outputs": [],
   "source": [
    "# [Answer to Ex. 1.1.15.2]"
   ]
  },
  {
   "cell_type": "markdown",
   "metadata": {
    "ExecuteTime": {
     "end_time": "2018-02-07T11:37:47.274088Z",
     "start_time": "2018-02-07T11:37:47.061478Z"
    }
   },
   "source": [
    ">**Ex. 1.1.16**: Using `numpy`, compute:\n",
    "1. `2 * [2, 3]`,\n",
    "2. `[3, 8] + [6, 1]`,\n",
    "3. `[3, 8] * [6, 1]` and\n",
    "4. `[3, 8] · [6, 1]` (that's a dot product)\n",
    "\n",
    ">For each, explain what happens."
   ]
  },
  {
   "cell_type": "code",
   "execution_count": 98,
   "metadata": {
    "ExecuteTime": {
     "end_time": "2018-02-07T19:52:09.633379Z",
     "start_time": "2018-02-07T19:52:09.630021Z"
    },
    "collapsed": true,
    "run_control": {
     "frozen": false,
     "read_only": false
    }
   },
   "outputs": [],
   "source": [
    "# [Answer to Ex. 1.1.16.1]"
   ]
  },
  {
   "cell_type": "code",
   "execution_count": null,
   "metadata": {
    "collapsed": true,
    "run_control": {
     "frozen": false,
     "read_only": false
    }
   },
   "outputs": [],
   "source": [
    "# [Answer to Ex. 1.1.16.2]"
   ]
  },
  {
   "cell_type": "code",
   "execution_count": null,
   "metadata": {
    "collapsed": true,
    "run_control": {
     "frozen": false,
     "read_only": false
    }
   },
   "outputs": [],
   "source": [
    "# [Answer to Ex. 1.1.16.3]"
   ]
  },
  {
   "cell_type": "code",
   "execution_count": null,
   "metadata": {
    "collapsed": true,
    "run_control": {
     "frozen": false,
     "read_only": false
    }
   },
   "outputs": [],
   "source": [
    "# [Answer to Ex. 1.1.16.4]"
   ]
  },
  {
   "cell_type": "markdown",
   "metadata": {},
   "source": [
    ">**Ex. 1.1.17**: Create a $5 \\times 5$ array, `X`, (a matrix) with random numbers and $5 \\times 1$ array `a` (a tall vector) with 5 random numbers, and compute the matrix-vector dot product between these two. Use `numpy`'s `dot` method. What happens if you just use `*`?"
   ]
  },
  {
   "cell_type": "code",
   "execution_count": 99,
   "metadata": {
    "ExecuteTime": {
     "end_time": "2018-02-07T19:52:14.136895Z",
     "start_time": "2018-02-07T19:52:14.133694Z"
    },
    "collapsed": true,
    "run_control": {
     "frozen": false,
     "read_only": false
    }
   },
   "outputs": [],
   "source": [
    "# [Answer to Ex. 1.1.17]"
   ]
  },
  {
   "cell_type": "markdown",
   "metadata": {},
   "source": [
    ">**Ex. 1.1.18**: Convert `X` into a `pandas` dataframe, and give it some column names (pick your five favorite words).\n",
    "* Display it.\n",
    "* [Read a bit about Pandas](https://en.wikipedia.org/wiki/Pandas_(software)) and explain briefly what it is and why one might want to use it rather than just `numpy`."
   ]
  },
  {
   "cell_type": "code",
   "execution_count": 100,
   "metadata": {
    "ExecuteTime": {
     "end_time": "2018-02-07T19:52:18.081040Z",
     "start_time": "2018-02-07T19:52:18.077726Z"
    },
    "collapsed": true,
    "run_control": {
     "frozen": false,
     "read_only": false
    }
   },
   "outputs": [],
   "source": [
    "# [Answer to Ex. 1.1.18]"
   ]
  },
  {
   "cell_type": "markdown",
   "metadata": {},
   "source": [
    "### Part 1.2: JSON data from Reddit"
   ]
  },
  {
   "cell_type": "markdown",
   "metadata": {},
   "source": [
    ">*(skip if you completed `Training_notebook.ipynb`)* \n",
    ">\n",
    ">**Ex. 1.2.1**: Learn about JSON by reading the **[wikipedia page](https://en.wikipedia.org/wiki/JSON)**. Then answer the following questions in the cell below.\n",
    ">\n",
    ">1. What do the letters stand for?\n",
    ">2. What is `json`?\n",
    ">3. Why is `json` superior to `xml`? (... or why not?)"
   ]
  },
  {
   "cell_type": "markdown",
   "metadata": {},
   "source": [
    "[Answers to Ex. 1.2.1.1-3]"
   ]
  },
  {
   "cell_type": "markdown",
   "metadata": {},
   "source": [
    ">**Ex. 1.2.2**: Use [`requests`](https://www.google.dk/search?q=python+requests+get+json&gws_rd=cr&ei=M5OdWaewD8Ti6AS54J24Bg), or another Python module, to store **[this data](https://www.reddit.com/r/gameofthrones/.json)** in JSON format in a new variable `data`. Show that the type of `data` is `dict`."
   ]
  },
  {
   "cell_type": "code",
   "execution_count": 105,
   "metadata": {
    "ExecuteTime": {
     "end_time": "2018-02-07T19:59:26.590585Z",
     "start_time": "2018-02-07T19:59:26.586464Z"
    },
    "collapsed": true,
    "run_control": {
     "frozen": false,
     "read_only": false
    }
   },
   "outputs": [],
   "source": [
    "# [Answer to Ex. 1.2.2]"
   ]
  },
  {
   "cell_type": "markdown",
   "metadata": {},
   "source": [
    ">**Ex. 1.2.3**: Let's try to inspect the data you retrieved. \n",
    ">1. Print the keys of `data`.\n",
    ">2. Use the `json` module to pretty-print your `data` variable as a string with `indent=4`.\n",
    ">\n",
    ">*Hint: 2. Call `.keys()` on the variable. 2. Use the `json` function `dumps`.*"
   ]
  },
  {
   "cell_type": "code",
   "execution_count": 54,
   "metadata": {
    "ExecuteTime": {
     "end_time": "2018-01-16T09:48:21.903660Z",
     "start_time": "2018-01-16T09:48:21.900453Z"
    },
    "collapsed": true,
    "run_control": {
     "frozen": false,
     "read_only": false
    }
   },
   "outputs": [],
   "source": [
    "# [Answer to Ex. 1.2.3.1]"
   ]
  },
  {
   "cell_type": "code",
   "execution_count": 55,
   "metadata": {
    "ExecuteTime": {
     "end_time": "2018-01-16T09:48:24.719596Z",
     "start_time": "2018-01-16T09:48:24.716363Z"
    },
    "collapsed": true,
    "run_control": {
     "frozen": false,
     "read_only": false
    }
   },
   "outputs": [],
   "source": [
    "# [Answer to Ex. 1.2.3.2]"
   ]
  },
  {
   "cell_type": "markdown",
   "metadata": {},
   "source": [
    ">**Ex. 1.2.4**: The URL reveals that the data is from reddit/r/gameofthrones, but can you recover that information from the data? See if you can find the string 'gameofthrones' and then print it by 'keying' into the JSON.\n",
    "\n",
    ">*Hint: 'Keying' is a word we just made up. By it, we mean the following. Consider a JSON object such as:*\n",
    ">\n",
    ">        my_json_obj = {\n",
    ">            'cats': {\n",
    ">                'awesome': ['Missy'],\n",
    ">                'useless': ['Kim', 'Frank', 'Sandy']\n",
    ">            },\n",
    ">            'dogs': {\n",
    ">                'awesome': ['Finn', 'Dolores', 'Fido', 'Casper'],\n",
    ">                'useless': []\n",
    ">            }\n",
    ">        }\n",
    ">\n",
    ">*We can get the list of useless cats by keying into `my_json_obj` like such:*\n",
    ">\n",
    ">        >>> my_json_obj['cats']['useless']\n",
    ">        Out [ ]: ['Kim', 'Frank', 'Sandy']\n",
    ">\n",
    ">*`my_json_obj['cats']` returns the dictionary `{'awesome': ['Missy'], 'useless': ['Kim', 'Frank', 'Sandy']}` and getting '`useless`' from that eventually gives us `['Kim', 'Frank', 'Sandy']`. If any of those list items were a list of a dictionary themselves, we could have kept keying deeper into the structure.*"
   ]
  },
  {
   "cell_type": "code",
   "execution_count": 56,
   "metadata": {
    "ExecuteTime": {
     "end_time": "2018-01-16T09:48:35.318185Z",
     "start_time": "2018-01-16T09:48:35.315067Z"
    },
    "collapsed": true,
    "run_control": {
     "frozen": false,
     "read_only": false
    }
   },
   "outputs": [],
   "source": [
    "# [Answer to Ex. 1.2.4]"
   ]
  },
  {
   "cell_type": "markdown",
   "metadata": {},
   "source": [
    ">**Ex 1.2.5**: Each post has a key that indicates whether it is a spoiler or not. Write two `for` loops (or list comprehensions for extra street credits):\n",
    ">1. One that counts the number of spoilers.\n",
    ">2. Another that only prints headlines that aren't spoilers."
   ]
  },
  {
   "cell_type": "code",
   "execution_count": 13,
   "metadata": {
    "ExecuteTime": {
     "end_time": "2017-08-26T07:47:28.901787Z",
     "start_time": "2017-08-26T07:47:28.899454Z"
    },
    "collapsed": true,
    "run_control": {
     "frozen": false,
     "read_only": false
    }
   },
   "outputs": [],
   "source": [
    "# [Answer to Ex. 1.2.5.1]"
   ]
  },
  {
   "cell_type": "code",
   "execution_count": 58,
   "metadata": {
    "ExecuteTime": {
     "end_time": "2018-01-16T09:49:13.258888Z",
     "start_time": "2018-01-16T09:49:13.255989Z"
    },
    "collapsed": true,
    "run_control": {
     "frozen": false,
     "read_only": false
    }
   },
   "outputs": [],
   "source": [
    "# [Answer to Ex. 1.2.5.2]"
   ]
  },
  {
   "cell_type": "markdown",
   "metadata": {},
   "source": [
    "<hr>"
   ]
  },
  {
   "cell_type": "markdown",
   "metadata": {},
   "source": [
    "### Part 1.3: Visualization"
   ]
  },
  {
   "cell_type": "markdown",
   "metadata": {},
   "source": [
    "One of the most fundamental responsibilities of a Data Scientist, is to accurately communicate her results. Tables with various statisics go a long way, but to really get a result under the skin of your CEO, you want *something that's visual*. To that end, there's a myriad of tools you can use, ranging from simple Excel charts to advanced interactive visualizations made in JavaScript. In these exercises we'll work with something that's right in the middle: `matplotlib`."
   ]
  },
  {
   "cell_type": "markdown",
   "metadata": {},
   "source": [
    "> **Ex. 1.3.1**: Run [this code](http://ulfaslak.com/tsds/get_num_comments_vs_score) in a new cell below. It retrieves data from lots of reddit posts and returns two lists, `x` corresponding to the number of comments that posts have received, and `y` corresponding to the number of upvotes. Use `matplotlib` to make a scatterplot of `x` versus `y`. **Put appropriate labels on your axes.**\n",
    "\n",
    ">*Hint: You can import matplotlib under the alias `plt` by executing `import matplotlib.pylab as plt`. You may also want to execute the magic function `%matplotlib inline` right above that.*"
   ]
  },
  {
   "cell_type": "code",
   "execution_count": 106,
   "metadata": {
    "ExecuteTime": {
     "end_time": "2018-02-07T20:06:49.902773Z",
     "start_time": "2018-02-07T20:06:49.899686Z"
    },
    "collapsed": true,
    "run_control": {
     "frozen": false,
     "read_only": false
    }
   },
   "outputs": [],
   "source": [
    "# [Answer to Ex. 1.3.1]"
   ]
  },
  {
   "cell_type": "markdown",
   "metadata": {},
   "source": [
    "> **Ex. 1.3.2**: Looks like there are some posts with abnormally large number of comments or upvotes. They kind of screw up the plot, because you can't see the trend in the region where most of the points are. We could remove them, but let's not—removing outliers just because they look bad is horrible practice (think about why). Instead, make the same plot, but with **both axes log scaled**. You may want to add 1 to every element in x and y, because some posts may have received zero comments or upvotes and log(0) is -∞."
   ]
  },
  {
   "cell_type": "code",
   "execution_count": 107,
   "metadata": {
    "ExecuteTime": {
     "end_time": "2018-02-07T20:06:57.084451Z",
     "start_time": "2018-02-07T20:06:57.081531Z"
    },
    "collapsed": true,
    "run_control": {
     "frozen": false,
     "read_only": false
    }
   },
   "outputs": [],
   "source": [
    "# [Answer to Ex. 1.3.2]"
   ]
  },
  {
   "cell_type": "markdown",
   "metadata": {},
   "source": [
    "> **Ex. 1.3.3**: Nice! This should look a bit more linear! Now, let's try to make that same plot but with `seaborn`s `kdeplot` method. `seaborn` is a slightly more advanced and stylish plotting library that can do a lot of cool things without a lot of code.\n",
    "\n",
    ">*Hint: execute `x = np.log(np.array(x) + 1)` and `y = np.log(np.array(y) + 1)`, so your data is log scaled from the start. Fiddle with the `bw` parameter in the `kdeplot` method until you get a nice looking plot. Look up what it means. See what you can do by changing other parameters*."
   ]
  },
  {
   "cell_type": "code",
   "execution_count": 108,
   "metadata": {
    "ExecuteTime": {
     "end_time": "2018-02-07T20:07:02.087040Z",
     "start_time": "2018-02-07T20:07:02.083710Z"
    },
    "collapsed": true,
    "run_control": {
     "frozen": false,
     "read_only": false
    }
   },
   "outputs": [],
   "source": [
    "# [Answer to Ex. 1.3.3]"
   ]
  },
  {
   "cell_type": "markdown",
   "metadata": {},
   "source": [
    "> **Ex. 1.3.4**: We may also want to know how the data is *distributed*. Histograms are a great tool for showing this—basically showing how the points are smeared out over different regions of their range. Use the `seaborn` function `jointplot` to visualize the distribution of the log transformed `x` and `y` variables along with their scatter plot. Explain what you see."
   ]
  },
  {
   "cell_type": "code",
   "execution_count": 109,
   "metadata": {
    "ExecuteTime": {
     "end_time": "2018-02-07T20:07:06.517176Z",
     "start_time": "2018-02-07T20:07:06.513908Z"
    },
    "collapsed": true,
    "run_control": {
     "frozen": false,
     "read_only": false
    }
   },
   "outputs": [],
   "source": [
    "# [Answer to Ex. 1.3.4]"
   ]
  }
 ],
 "metadata": {
  "kernelspec": {
   "display_name": "Python 2",
   "language": "python",
   "name": "python2"
  },
  "language_info": {
   "codemirror_mode": {
    "name": "ipython",
    "version": 2
   },
   "file_extension": ".py",
   "mimetype": "text/x-python",
   "name": "python",
   "nbconvert_exporter": "python",
   "pygments_lexer": "ipython2",
   "version": "2.7.14"
  },
  "nav_menu": {},
  "toc": {
   "navigate_menu": true,
   "number_sections": false,
   "sideBar": true,
   "threshold": 6,
   "toc_cell": false,
   "toc_section_display": "block",
   "toc_window_display": true
  }
 },
 "nbformat": 4,
 "nbformat_minor": 2
}
