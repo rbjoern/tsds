{
 "cells": [
  {
   "cell_type": "code",
   "execution_count": 1,
   "metadata": {
    "ExecuteTime": {
     "end_time": "2018-02-06T13:56:56.798776Z",
     "start_time": "2018-02-06T13:56:56.071801Z"
    },
    "collapsed": true,
    "run_control": {
     "frozen": false,
     "read_only": false
    }
   },
   "outputs": [],
   "source": [
    "import re\n",
    "\n",
    "import pandas as pd\n",
    "import requests "
   ]
  },
  {
   "cell_type": "markdown",
   "metadata": {},
   "source": [
    "**Part 2b.1: Scrape webpage for data links**"
   ]
  },
  {
   "cell_type": "code",
   "execution_count": 2,
   "metadata": {
    "ExecuteTime": {
     "end_time": "2018-02-06T13:56:59.299562Z",
     "start_time": "2018-02-06T13:56:58.263282Z"
    },
    "collapsed": true,
    "run_control": {
     "frozen": false,
     "read_only": false
    }
   },
   "outputs": [],
   "source": [
    "r = requests.get('http://data.kk.dk/dataset/faste-trafiktaellinger')\n",
    "html = r.text"
   ]
  },
  {
   "cell_type": "markdown",
   "metadata": {},
   "source": [
    "We find all urls with the regex code used below. This was found by Googling and discovering [this webpage](https://stackoverflow.com/questions/6883049/regex-to-find-urls-in-string-in-python))"
   ]
  },
  {
   "cell_type": "code",
   "execution_count": 3,
   "metadata": {
    "ExecuteTime": {
     "end_time": "2018-02-06T13:57:00.041009Z",
     "start_time": "2018-02-06T13:57:00.036145Z"
    },
    "collapsed": true,
    "run_control": {
     "frozen": false,
     "read_only": false
    }
   },
   "outputs": [],
   "source": [
    "re_url = 'http[s]?://(?:[a-zA-Z]|[0-9]|[$-_@.&+]|[!*\\(\\),]|(?:%[0-9a-fA-F][0-9a-fA-F]))+'\n",
    "urls = re.findall(re_url, html)"
   ]
  },
  {
   "cell_type": "markdown",
   "metadata": {},
   "source": [
    "We select the urls that link to MS Excel files"
   ]
  },
  {
   "cell_type": "code",
   "execution_count": 4,
   "metadata": {
    "ExecuteTime": {
     "end_time": "2018-02-06T13:57:02.121099Z",
     "start_time": "2018-02-06T13:57:02.117221Z"
    },
    "collapsed": true,
    "run_control": {
     "frozen": false,
     "read_only": false
    }
   },
   "outputs": [],
   "source": [
    "urls_w_data = [u for u in urls if u.endswith('.xlsx')]"
   ]
  },
  {
   "cell_type": "code",
   "execution_count": 5,
   "metadata": {
    "ExecuteTime": {
     "end_time": "2018-02-06T14:26:41.344851Z",
     "start_time": "2018-02-06T14:26:41.339102Z"
    }
   },
   "outputs": [
    {
     "data": {
      "text/plain": [
       "['http://data.kk.dk/dataset/5f9345b0-d73b-43ff-a659-e468d160bc61/resource/dcb49b51-1a17-40f6-82b4-34eaf58bce57/download/faste-trafiktaellinger-2005.xlsx',\n",
       " 'http://data.kk.dk/dataset/5f9345b0-d73b-43ff-a659-e468d160bc61/resource/0bfc0425-0b2f-43b4-be71-117b4265598d/download/faste-trafiktaellinger-2006.xlsx',\n",
       " 'http://data.kk.dk/storage/f/2015-05-11T07%3A35%3A06.512Z/faste-trafiktaellinger-2007.xlsx',\n",
       " 'http://data.kk.dk/dataset/5f9345b0-d73b-43ff-a659-e468d160bc61/resource/e4f321ad-76bc-483f-839e-e04cfea6bfc0/download/faste-trafiktaellinger-2008.xlsx',\n",
       " 'http://data.kk.dk/dataset/5f9345b0-d73b-43ff-a659-e468d160bc61/resource/bac5c582-bdd0-45db-b174-f835e82851bc/download/faste-trafiktaellinger-2009.xlsx',\n",
       " 'http://data.kk.dk/dataset/5f9345b0-d73b-43ff-a659-e468d160bc61/resource/a209aef9-802c-4cda-9b42-f4364877b04f/download/faste-trafiktaellinger-2010.xlsx',\n",
       " 'http://data.kk.dk/dataset/5f9345b0-d73b-43ff-a659-e468d160bc61/resource/8b2f60a9-17ac-437d-ae6e-ad44c0a49edd/download/faste-trafiktaellinger-2011.xlsx',\n",
       " 'http://data.kk.dk/dataset/5f9345b0-d73b-43ff-a659-e468d160bc61/resource/d41f5bc7-9834-4698-ad2c-3a4dc15d124a/download/faste-trafiktaellinger-2012.xlsx',\n",
       " 'http://data.kk.dk/dataset/5f9345b0-d73b-43ff-a659-e468d160bc61/resource/3cbd235e-9904-44b4-83f1-35630dbd8acc/download/faste-trafiktaellinger-2013.xlsx',\n",
       " 'http://data.kk.dk/dataset/5f9345b0-d73b-43ff-a659-e468d160bc61/resource/03f2768e-0ff0-4b42-9d3d-be268e131088/download/faste-trafiktaellinger-2014.xlsx']"
      ]
     },
     "execution_count": 5,
     "metadata": {},
     "output_type": "execute_result"
    }
   ],
   "source": [
    "urls_w_data"
   ]
  },
  {
   "cell_type": "markdown",
   "metadata": {},
   "source": [
    "We load the data using pandas' Excel reader. Details are found below line by line."
   ]
  },
  {
   "cell_type": "code",
   "execution_count": 6,
   "metadata": {
    "ExecuteTime": {
     "end_time": "2018-02-06T15:30:13.361936Z",
     "start_time": "2018-02-06T15:28:35.014799Z"
    },
    "collapsed": true,
    "run_control": {
     "frozen": false,
     "read_only": false
    }
   },
   "outputs": [],
   "source": [
    "# loading the datasets into a list using list comprehension\n",
    "# note that we skip the first 10 lines as they are not useful\n",
    "data_sets = [pd.read_excel(u, skiprows=10) for u in urls_w_data]"
   ]
  },
  {
   "cell_type": "code",
   "execution_count": 7,
   "metadata": {
    "ExecuteTime": {
     "end_time": "2018-02-06T15:30:13.438895Z",
     "start_time": "2018-02-06T15:30:13.364231Z"
    },
    "collapsed": true,
    "run_control": {
     "frozen": false,
     "read_only": false
    }
   },
   "outputs": [],
   "source": [
    "data_raw = pd.concat(data_sets)"
   ]
  },
  {
   "cell_type": "markdown",
   "metadata": {},
   "source": [
    "**Part 2b.2: Structure your dataset**"
   ]
  },
  {
   "cell_type": "code",
   "execution_count": 8,
   "metadata": {
    "ExecuteTime": {
     "end_time": "2018-02-06T15:30:13.523181Z",
     "start_time": "2018-02-06T15:30:13.441183Z"
    },
    "collapsed": true,
    "run_control": {
     "frozen": false,
     "read_only": false
    }
   },
   "outputs": [],
   "source": [
    "data_idx = data_raw.reset_index(drop=True)"
   ]
  },
  {
   "cell_type": "code",
   "execution_count": 9,
   "metadata": {
    "ExecuteTime": {
     "end_time": "2018-02-06T15:30:13.564451Z",
     "start_time": "2018-02-06T15:30:13.525398Z"
    },
    "collapsed": true,
    "run_control": {
     "frozen": false,
     "read_only": false
    }
   },
   "outputs": [],
   "source": [
    "data_idx.drop('Spor', axis=1, inplace=True)"
   ]
  },
  {
   "cell_type": "code",
   "execution_count": 10,
   "metadata": {
    "ExecuteTime": {
     "end_time": "2018-02-06T15:30:13.680151Z",
     "start_time": "2018-02-06T15:30:13.567764Z"
    },
    "collapsed": true,
    "run_control": {
     "frozen": false,
     "read_only": false
    }
   },
   "outputs": [],
   "source": [
    "dk_to_uk = {'Vejnavn':'road_name',\n",
    "            '(UTM32)':'UTM32_east',\n",
    "            '(UTM32).1':'UTM32_north',\n",
    "            'Dato':'date',\n",
    "            'Vej-Id':'road_id'}\n",
    "\n",
    "data_long = data_idx\\\n",
    "                .rename(columns={'index':'year'})\\\n",
    "                .rename(columns=dk_to_uk)"
   ]
  },
  {
   "cell_type": "code",
   "execution_count": 11,
   "metadata": {
    "ExecuteTime": {
     "end_time": "2018-02-06T15:30:13.732140Z",
     "start_time": "2018-02-06T15:30:13.683787Z"
    },
    "collapsed": true,
    "run_control": {
     "frozen": false,
     "read_only": false
    }
   },
   "outputs": [],
   "source": [
    "data_long = data_long.copy()\n",
    "\n",
    "del data_sets, data_raw, data_idx"
   ]
  },
  {
   "cell_type": "markdown",
   "metadata": {},
   "source": [
    "**Part 2b.3: String data, selection and rotation**"
   ]
  },
  {
   "cell_type": "code",
   "execution_count": 12,
   "metadata": {
    "ExecuteTime": {
     "end_time": "2018-02-06T15:30:13.869261Z",
     "start_time": "2018-02-06T15:30:13.734597Z"
    },
    "collapsed": true,
    "run_control": {
     "frozen": false,
     "read_only": false
    }
   },
   "outputs": [],
   "source": [
    "data_long['total'] = data_long.road_id.str[-1] == 'T'"
   ]
  },
  {
   "cell_type": "code",
   "execution_count": 13,
   "metadata": {
    "ExecuteTime": {
     "end_time": "2018-02-06T15:30:13.894817Z",
     "start_time": "2018-02-06T15:30:13.871660Z"
    },
    "collapsed": true,
    "run_control": {
     "frozen": false,
     "read_only": false
    }
   },
   "outputs": [],
   "source": [
    "data_long = data_long[data_long.total]"
   ]
  },
  {
   "cell_type": "code",
   "execution_count": 14,
   "metadata": {
    "ExecuteTime": {
     "end_time": "2018-02-06T15:30:13.903639Z",
     "start_time": "2018-02-06T15:30:13.896952Z"
    },
    "collapsed": true,
    "run_control": {
     "frozen": false,
     "read_only": false
    }
   },
   "outputs": [],
   "source": [
    "spatial_columns = ['road_name', 'UTM32_north', 'UTM32_east']\n",
    "data_geo = data_long[spatial_columns].copy()"
   ]
  },
  {
   "cell_type": "code",
   "execution_count": 15,
   "metadata": {
    "ExecuteTime": {
     "end_time": "2018-02-06T15:30:13.927138Z",
     "start_time": "2018-02-06T15:30:13.906252Z"
    },
    "collapsed": true,
    "run_control": {
     "frozen": false,
     "read_only": false
    }
   },
   "outputs": [],
   "source": [
    "data_geo.drop_duplicates(inplace=True)"
   ]
  },
  {
   "cell_type": "code",
   "execution_count": 16,
   "metadata": {
    "ExecuteTime": {
     "end_time": "2018-02-06T15:30:14.082791Z",
     "start_time": "2018-02-06T15:30:13.930775Z"
    },
    "collapsed": true,
    "run_control": {
     "frozen": false,
     "read_only": false
    }
   },
   "outputs": [],
   "source": [
    "id_columns = ['road_name', 'date']\n",
    "hour_columns = [c for c in data_long.columns if 'kl.' in c]\n",
    "\n",
    "data = pd.melt(data_long, \n",
    "               id_vars=id_columns, \n",
    "               value_vars=hour_columns,\n",
    "               var_name='hour_period',\n",
    "               value_name='traffic')\\\n",
    "         .copy()\n",
    "\n",
    "del data_long"
   ]
  },
  {
   "cell_type": "code",
   "execution_count": 17,
   "metadata": {
    "ExecuteTime": {
     "end_time": "2018-02-06T15:36:04.432434Z",
     "start_time": "2018-02-06T15:36:04.403077Z"
    }
   },
   "outputs": [
    {
     "data": {
      "text/html": [
       "<div>\n",
       "<style>\n",
       "    .dataframe thead tr:only-child th {\n",
       "        text-align: right;\n",
       "    }\n",
       "\n",
       "    .dataframe thead th {\n",
       "        text-align: left;\n",
       "    }\n",
       "\n",
       "    .dataframe tbody tr th {\n",
       "        vertical-align: top;\n",
       "    }\n",
       "</style>\n",
       "<table border=\"1\" class=\"dataframe\">\n",
       "  <thead>\n",
       "    <tr style=\"text-align: right;\">\n",
       "      <th></th>\n",
       "      <th>road_name</th>\n",
       "      <th>date</th>\n",
       "      <th>hour_period</th>\n",
       "      <th>traffic</th>\n",
       "    </tr>\n",
       "  </thead>\n",
       "  <tbody>\n",
       "    <tr>\n",
       "      <th>0</th>\n",
       "      <td>Ellebjergvej</td>\n",
       "      <td>01.04.2005</td>\n",
       "      <td>kl.00-01</td>\n",
       "      <td>191.0</td>\n",
       "    </tr>\n",
       "    <tr>\n",
       "      <th>1</th>\n",
       "      <td>Ellebjergvej</td>\n",
       "      <td>02.04.2005</td>\n",
       "      <td>kl.00-01</td>\n",
       "      <td>381.0</td>\n",
       "    </tr>\n",
       "    <tr>\n",
       "      <th>2</th>\n",
       "      <td>Ellebjergvej</td>\n",
       "      <td>03.04.2005</td>\n",
       "      <td>kl.00-01</td>\n",
       "      <td>457.0</td>\n",
       "    </tr>\n",
       "    <tr>\n",
       "      <th>3</th>\n",
       "      <td>Ellebjergvej</td>\n",
       "      <td>04.04.2005</td>\n",
       "      <td>kl.00-01</td>\n",
       "      <td>140.0</td>\n",
       "    </tr>\n",
       "    <tr>\n",
       "      <th>4</th>\n",
       "      <td>Ellebjergvej</td>\n",
       "      <td>05.04.2005</td>\n",
       "      <td>kl.00-01</td>\n",
       "      <td>159.0</td>\n",
       "    </tr>\n",
       "    <tr>\n",
       "      <th>5</th>\n",
       "      <td>Ellebjergvej</td>\n",
       "      <td>06.04.2005</td>\n",
       "      <td>kl.00-01</td>\n",
       "      <td>173.0</td>\n",
       "    </tr>\n",
       "    <tr>\n",
       "      <th>6</th>\n",
       "      <td>Ellebjergvej</td>\n",
       "      <td>07.04.2005</td>\n",
       "      <td>kl.00-01</td>\n",
       "      <td>190.0</td>\n",
       "    </tr>\n",
       "    <tr>\n",
       "      <th>7</th>\n",
       "      <td>Ellebjergvej</td>\n",
       "      <td>08.04.2005</td>\n",
       "      <td>kl.00-01</td>\n",
       "      <td>211.0</td>\n",
       "    </tr>\n",
       "    <tr>\n",
       "      <th>8</th>\n",
       "      <td>Ellebjergvej</td>\n",
       "      <td>09.04.2005</td>\n",
       "      <td>kl.00-01</td>\n",
       "      <td>366.0</td>\n",
       "    </tr>\n",
       "    <tr>\n",
       "      <th>9</th>\n",
       "      <td>Ellebjergvej</td>\n",
       "      <td>10.04.2005</td>\n",
       "      <td>kl.00-01</td>\n",
       "      <td>445.0</td>\n",
       "    </tr>\n",
       "    <tr>\n",
       "      <th>...</th>\n",
       "      <td>...</td>\n",
       "      <td>...</td>\n",
       "      <td>...</td>\n",
       "      <td>...</td>\n",
       "    </tr>\n",
       "    <tr>\n",
       "      <th>1435742</th>\n",
       "      <td>Ørestads Boulevard</td>\n",
       "      <td>22.12.2014</td>\n",
       "      <td>kl.23-24</td>\n",
       "      <td>80.0</td>\n",
       "    </tr>\n",
       "    <tr>\n",
       "      <th>1435743</th>\n",
       "      <td>Ørestads Boulevard</td>\n",
       "      <td>23.12.2014</td>\n",
       "      <td>kl.23-24</td>\n",
       "      <td>83.0</td>\n",
       "    </tr>\n",
       "    <tr>\n",
       "      <th>1435744</th>\n",
       "      <td>Ørestads Boulevard</td>\n",
       "      <td>24.12.2014</td>\n",
       "      <td>kl.23-24</td>\n",
       "      <td>230.0</td>\n",
       "    </tr>\n",
       "    <tr>\n",
       "      <th>1435745</th>\n",
       "      <td>Ørestads Boulevard</td>\n",
       "      <td>25.12.2014</td>\n",
       "      <td>kl.23-24</td>\n",
       "      <td>66.0</td>\n",
       "    </tr>\n",
       "    <tr>\n",
       "      <th>1435746</th>\n",
       "      <td>Ørestads Boulevard</td>\n",
       "      <td>26.12.2014</td>\n",
       "      <td>kl.23-24</td>\n",
       "      <td>62.0</td>\n",
       "    </tr>\n",
       "    <tr>\n",
       "      <th>1435747</th>\n",
       "      <td>Ørestads Boulevard</td>\n",
       "      <td>27.12.2014</td>\n",
       "      <td>kl.23-24</td>\n",
       "      <td>68.0</td>\n",
       "    </tr>\n",
       "    <tr>\n",
       "      <th>1435748</th>\n",
       "      <td>Ørestads Boulevard</td>\n",
       "      <td>28.12.2014</td>\n",
       "      <td>kl.23-24</td>\n",
       "      <td>62.0</td>\n",
       "    </tr>\n",
       "    <tr>\n",
       "      <th>1435749</th>\n",
       "      <td>Ørestads Boulevard</td>\n",
       "      <td>29.12.2014</td>\n",
       "      <td>kl.23-24</td>\n",
       "      <td>66.0</td>\n",
       "    </tr>\n",
       "    <tr>\n",
       "      <th>1435750</th>\n",
       "      <td>Ørestads Boulevard</td>\n",
       "      <td>30.12.2014</td>\n",
       "      <td>kl.23-24</td>\n",
       "      <td>110.0</td>\n",
       "    </tr>\n",
       "    <tr>\n",
       "      <th>1435751</th>\n",
       "      <td>Ørestads Boulevard</td>\n",
       "      <td>31.12.2014</td>\n",
       "      <td>kl.23-24</td>\n",
       "      <td>76.0</td>\n",
       "    </tr>\n",
       "  </tbody>\n",
       "</table>\n",
       "<p>1435752 rows × 4 columns</p>\n",
       "</div>"
      ],
      "text/plain": [
       "                  road_name        date hour_period  traffic\n",
       "0              Ellebjergvej  01.04.2005    kl.00-01    191.0\n",
       "1              Ellebjergvej  02.04.2005    kl.00-01    381.0\n",
       "2              Ellebjergvej  03.04.2005    kl.00-01    457.0\n",
       "3              Ellebjergvej  04.04.2005    kl.00-01    140.0\n",
       "4              Ellebjergvej  05.04.2005    kl.00-01    159.0\n",
       "5              Ellebjergvej  06.04.2005    kl.00-01    173.0\n",
       "6              Ellebjergvej  07.04.2005    kl.00-01    190.0\n",
       "7              Ellebjergvej  08.04.2005    kl.00-01    211.0\n",
       "8              Ellebjergvej  09.04.2005    kl.00-01    366.0\n",
       "9              Ellebjergvej  10.04.2005    kl.00-01    445.0\n",
       "...                     ...         ...         ...      ...\n",
       "1435742  Ørestads Boulevard  22.12.2014    kl.23-24     80.0\n",
       "1435743  Ørestads Boulevard  23.12.2014    kl.23-24     83.0\n",
       "1435744  Ørestads Boulevard  24.12.2014    kl.23-24    230.0\n",
       "1435745  Ørestads Boulevard  25.12.2014    kl.23-24     66.0\n",
       "1435746  Ørestads Boulevard  26.12.2014    kl.23-24     62.0\n",
       "1435747  Ørestads Boulevard  27.12.2014    kl.23-24     68.0\n",
       "1435748  Ørestads Boulevard  28.12.2014    kl.23-24     62.0\n",
       "1435749  Ørestads Boulevard  29.12.2014    kl.23-24     66.0\n",
       "1435750  Ørestads Boulevard  30.12.2014    kl.23-24    110.0\n",
       "1435751  Ørestads Boulevard  31.12.2014    kl.23-24     76.0\n",
       "\n",
       "[1435752 rows x 4 columns]"
      ]
     },
     "execution_count": 17,
     "metadata": {},
     "output_type": "execute_result"
    }
   ],
   "source": [
    "pd.options.display.max_rows = 20\n",
    "data"
   ]
  },
  {
   "cell_type": "code",
   "execution_count": 18,
   "metadata": {
    "ExecuteTime": {
     "end_time": "2018-02-06T15:19:57.046059Z",
     "start_time": "2018-02-06T15:19:56.856184Z"
    },
    "collapsed": true,
    "run_control": {
     "frozen": false,
     "read_only": false
    }
   },
   "outputs": [],
   "source": [
    "data.road_name = data.road_name.astype('category')"
   ]
  },
  {
   "cell_type": "markdown",
   "metadata": {},
   "source": [
    "**Part 2b.4: Structure temporal data**"
   ]
  },
  {
   "cell_type": "code",
   "execution_count": 19,
   "metadata": {
    "ExecuteTime": {
     "end_time": "2018-02-06T15:39:55.367911Z",
     "start_time": "2018-02-06T15:39:54.835787Z"
    },
    "collapsed": true,
    "run_control": {
     "frozen": false,
     "read_only": false
    }
   },
   "outputs": [],
   "source": [
    "data['hour'] = data.hour_period.str[3:5]"
   ]
  },
  {
   "cell_type": "code",
   "execution_count": 20,
   "metadata": {
    "ExecuteTime": {
     "end_time": "2018-02-06T15:41:23.129637Z",
     "start_time": "2018-02-06T15:41:15.832714Z"
    },
    "collapsed": true,
    "run_control": {
     "frozen": false,
     "read_only": false
    }
   },
   "outputs": [],
   "source": [
    "time_str = data.date + '-' + data.hour              \n",
    "data['time'] = pd.to_datetime(time_str, format='%d.%m.%Y-%H')\n",
    "\n",
    "data.drop(['hour', 'date', 'hour_period'], 1, inplace=True)"
   ]
  },
  {
   "cell_type": "code",
   "execution_count": 21,
   "metadata": {
    "collapsed": true,
    "run_control": {
     "frozen": false,
     "read_only": false
    }
   },
   "outputs": [],
   "source": [
    "data['week_day'] = data.time.dt.weekday"
   ]
  },
  {
   "cell_type": "code",
   "execution_count": 22,
   "metadata": {
    "run_control": {
     "frozen": false,
     "read_only": false
    }
   },
   "outputs": [
    {
     "name": "stdout",
     "output_type": "stream",
     "text": [
      "0    13\n",
      "1    13\n",
      "2    13\n",
      "Name: time, dtype: int64\n",
      "0    4\n",
      "1    4\n",
      "2    4\n",
      "Name: time, dtype: int64\n"
     ]
    }
   ],
   "source": [
    "print(data.time.dt.week.head(3))\n",
    "print(data.time.dt.month.head(3))"
   ]
  }
 ],
 "metadata": {
  "kernelspec": {
   "display_name": "Python 3",
   "language": "python",
   "name": "python3"
  },
  "language_info": {
   "codemirror_mode": {
    "name": "ipython",
    "version": 3
   },
   "file_extension": ".py",
   "mimetype": "text/x-python",
   "name": "python",
   "nbconvert_exporter": "python",
   "pygments_lexer": "ipython3",
   "version": "3.5.5"
  },
  "nav_menu": {},
  "toc": {
   "navigate_menu": true,
   "number_sections": true,
   "sideBar": true,
   "threshold": 6,
   "toc_cell": false,
   "toc_section_display": "block",
   "toc_window_display": false
  }
 },
 "nbformat": 4,
 "nbformat_minor": 2
}
