{
 "cells": [
  {
   "cell_type": "markdown",
   "metadata": {},
   "source": [
    "# Data API for Statistics Denmark (DST)\n",
    "\n",
    "This notebook provides a short demo on how to call the DST api. \n",
    "\n",
    "Another approach for Python is found in Kristian Urup Larsen's repository [here](https://github.com/Kristianuruplarsen/PyDST) that implements functions for pulling data. \n",
    "\n",
    "The notebook contains a function that takes as input a table code and certain input parameters. The output is a Pandas DataFrame. The notebook provides an example of how to apply the function and structure the results."
   ]
  },
  {
   "cell_type": "code",
   "execution_count": 8,
   "metadata": {},
   "outputs": [],
   "source": [
    "import requests\n",
    "from io import StringIO\n",
    "\n",
    "import pandas as pd\n",
    "\n",
    "dst_api_base = 'https://api.statbank.dk/v1/data/%s/csv?'\n",
    "options_base =  {'valuePresentation':'Default',\n",
    "                'timeOrder':'Ascending',\n",
    "                'allowVariablesInHead':'true'}\n",
    "\n",
    "def dst_api_dataframe(dataset, options_input={}):    \n",
    "    '''\n",
    "    This function produces a dataframe for the desired \n",
    "    Statistics Denmark (DST) table. It can be specified \n",
    "    to pull particular columns.\n",
    "    \n",
    "    Parameters\n",
    "    ----------\n",
    "    dataset : str\n",
    "        DST name/code table to fetch\n",
    "    options_input : dict, optional\n",
    "        The extra options can be speficied to pull particular\n",
    "        column values. E.g. {'ABC':'*'} will return all values \n",
    "        of the column 'ABC'. Note specific column values \n",
    "        requires separation with comma_char, see example below.\n",
    "        \n",
    "    Returns    \n",
    "    -------\n",
    "    df_out : pandas.DataFrame\n",
    "        Table with desired formatted as a pandas DataFrame.\n",
    "    '''\n",
    "    \n",
    "    url = dst_api_base % dataset\n",
    "    \n",
    "    options = options_base\n",
    "    \n",
    "    for k, v in options_input.items():\n",
    "        options[k] = v\n",
    "    \n",
    "    for k, v in options.items():\n",
    "        url += '%s=%s&' % (k,v) \n",
    "    \n",
    "    response = requests.get(url[:-1])\n",
    "    \n",
    "    df_out = pd.read_csv(StringIO(response.text), sep=';') \n",
    "    \n",
    "    return df_out \n",
    "    \n"
   ]
  },
  {
   "cell_type": "markdown",
   "metadata": {},
   "source": [
    "# Example of calling API\n",
    "\n",
    "In the following example we call the API using to fetch the table `KM5` which contain parish level demographic data. We want to pull all parishes for the years 2008-2010 and age 18-65."
   ]
  },
  {
   "cell_type": "code",
   "execution_count": 76,
   "metadata": {},
   "outputs": [],
   "source": [
    "parishes = '*' # all parish\n",
    "ages = '*'\n",
    "years = range(2008, 2011)\n",
    "\n",
    "comma_char = '%2C' # separation character for making url\n",
    "\n",
    "request_options =  {'SOGN': parishes, \n",
    "                    'TID': comma_char.join(map(str, years)),\n",
    "                    'ALDER': comma_char.join(map(str, ages))}\n",
    "    \n",
    "data = dst_api_dataframe('KM5', options_input=request_options)"
   ]
  },
  {
   "cell_type": "markdown",
   "metadata": {},
   "source": [
    "Basic structuring of the dataset which includes renaming to english names. It also preserves the codes for municipality and parish for easy joining with other datasets. Note `SOGNEKODE` means parish code."
   ]
  },
  {
   "cell_type": "code",
   "execution_count": 77,
   "metadata": {},
   "outputs": [],
   "source": [
    "data['age'] = data.ALDER.str[:-3].astype(int)\n",
    "\n",
    "data.drop('ALDER', axis=1, inplace=True)\n",
    "\n",
    "col_map = {'SOGN':'parish_info', \n",
    "           'TID':'year', \n",
    "           'INDHOLD':'obs_value'}\n",
    "\n",
    "data.rename(columns=col_map, inplace=True)\n",
    "data['KOMKODE'] = data.parish_info.str[:3].astype(int)\n",
    "data['SOGNEKODE'] = data.parish_info.str[4:8].astype(int)\n",
    "\n",
    "has_parish = ~ data.SOGNEKODE.isin([0, 9999])\n",
    "\n",
    "dataset = data[has_parish].drop('parish_info', 1)\n",
    "\n",
    "dataset.to_csv('danish_parish_demograhic_data.csv', index=False)"
   ]
  }
 ],
 "metadata": {
  "kernelspec": {
   "display_name": "Python 3",
   "language": "python",
   "name": "python3"
  },
  "language_info": {
   "codemirror_mode": {
    "name": "ipython",
    "version": 3
   },
   "file_extension": ".py",
   "mimetype": "text/x-python",
   "name": "python",
   "nbconvert_exporter": "python",
   "pygments_lexer": "ipython3",
   "version": "3.5.5"
  }
 },
 "nbformat": 4,
 "nbformat_minor": 2
}
