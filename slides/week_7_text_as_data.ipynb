{
 "cells": [
  {
   "cell_type": "code",
   "execution_count": null,
   "metadata": {
    "collapsed": true
   },
   "outputs": [],
   "source": [
    "import matplotlib.pyplot as plt\n",
    "%matplotlib inline\n",
    "import seaborn as sns\n",
    "import pandas as pd\n",
    "import numpy as np\n",
    "# import dependencies\n",
    "import nltk\n",
    "#nltk.download('all') # Uncomment this and run\n",
    "\n",
    "import re,gensim,spacy\n",
    "\n",
    "# start downloading the data we are gonna be using today.\n",
    "# Look up the Enron scandal: https://en.wikipedia.org/wiki/Enron_scandal\n",
    "# Find details about the dataset here: https://www.cs.cmu.edu/~./enron/\n",
    "# and here https://data.world/brianray/enron-email-dataset\n",
    "import pandas as pd\n",
    "#enron_link ='https://query.data.world/s/boypyv5j5ey55s3mgevys7hbz3halo' \n",
    "#enron_df = pd.read_csv(enron_link)\n",
    "#enron_df.to_csv('enron_data.csv',index=False) \n",
    "enron_df = pd.read_csv('enron_data.csv')\n",
    "enron_df = enron_df[enron_df.content.apply(type)==str] # filter non strings\n",
    "enron_categories = []\n",
    "for cat in range(1,13):\n",
    "    for level in range(1,3):\n",
    "        category = 'Cat_%d_level_%d'%(cat,level)\n",
    "        if category in enron_df.columns:\n",
    "            enron_categories.append(category)\n",
    "enron_df = enron_df[[col for col in enron_df.columns if not col in enron_categories and 'weight' not in col]]\n",
    "# pip install -U git+git://github.com/Computational-Content-Analysis-2018/lucem_illud.git\n",
    "# For an implementation of the stanford corenlp, uncomment this: import lucem_illud \n",
    "import lucem_illud\n",
    "lucem_illud.setupStanfordNLP()\n",
    "import lucem_illud.stanford as stanford"
   ]
  },
  {
   "cell_type": "markdown",
   "metadata": {},
   "source": [
    "# <center> Corruption, Money and Power <center> \n",
    "![](http://media.economist.com/sites/default/files/cf_images/GA/2002w04/CGA229.gif)\n",
    "![](http://i.dailymail.co.uk/i/pix/2011/12/08/article-2071852-0F1BE2BF00000578-966_468x383.jpg)"
   ]
  },
  {
   "cell_type": "markdown",
   "metadata": {
    "slideshow": {
     "slide_type": "slide"
    }
   },
   "source": [
    "**<center>Text as Data</center>**\n",
    "***<center>Information Extraction, Exploration and Prototyping</center>***\n",
    "\n",
    "<center>Snorre Ralund</center>"
   ]
  },
  {
   "cell_type": "markdown",
   "metadata": {
    "slideshow": {
     "slide_type": "slide"
    }
   },
   "source": [
    "![](http://3.bp.blogspot.com/-H5EfLEMD7gs/VU0R6T0cR5I/AAAAAAAABeA/3tTzaqPYdRw/s1600/desmazieres-borges-library-of-babel.jpg)\n",
    "\n",
    "Information about what people do, think, and feel lies embedded in text. Much of our social activity and communication is now done natively via text. The internet is full of information stored in text, and textual traces range from social media, emails and instant messaging, to automatically transcribed videos from youtube or memos from doctors, goverment records and digitized libraries. \n",
    "\n",
    "This vast supply of text has broad demand for natural language processing and machine learning tools to filter, search, and translate text into valuable data.\n",
    "\n",
    "And it has broad exciting opportunities for social scientists who knows how to get and handle text as data."
   ]
  },
  {
   "cell_type": "markdown",
   "metadata": {
    "slideshow": {
     "slide_type": "slide"
    }
   },
   "source": [
    "** Examples **\n",
    "* Chen 2013: *\"The effects of language on Economic Behaviour - Evidence from Savings Rates, Health Behaviors, and Retirement Assets\"*\n",
    "    * Quantifying the use of future tense in different languages and its connection to future oriented behavior: saving for retirement, practicing safe sex etc.\n",
    "* Gentzkow and Shapiro 2007: *\"What drives media slant? Evidence from U.S daily newspapers\"*\n",
    "\n",
    "*  Danescu-Niculescu-M et. al 20xx [*\"Echoes of Power: Language Effects and Power Differences in Social Interaction\"*](https://www.cs.cornell.edu/%7Ecristian/Echoes_of_power_files/echoes_of_power.pdf)"
   ]
  },
  {
   "cell_type": "markdown",
   "metadata": {
    "slideshow": {
     "slide_type": "slide"
    }
   },
   "source": [
    "**Agenda**\n",
    "\n",
    "Today I want you to get your hands dirty with manipulating and handling text in python.\n",
    "\n",
    "Before we start creating our own custom models to process text, I want you to get a good feeling with the off-the-shelf-tools available as well as basic processing of text you can do with python.\n",
    "\n",
    "We are gonna focus on **Information Extraction**\n",
    "\n",
    "and **Exploration**.\n",
    "\n",
    "\n",
    "This means developing the skills to do efficient exploratory analysis of text. \n",
    "\n",
    "While the generic tools I will be presenting are very powerful, it is however important from a scientific perspective, to stress that they serve mainly in the initial phase, as **Protyping** results.\n",
    "\n",
    "This is great, and for many purposes enough, but the next to sessions we shall focus on creating custom and more ***transparent*** and ***reliable*** models process text data.\n"
   ]
  },
  {
   "cell_type": "markdown",
   "metadata": {
    "slideshow": {
     "slide_type": "subslide"
    }
   },
   "source": [
    "** Headlines **\n",
    "* Text normalization, and representation.\n",
    "* Information extraction\n",
    "    * String Pattern extraction with regular expressions.\n",
    "    * Lexical methods.\n",
    "    * Model based information extraction.\n",
    "* Sentiment analysis\n",
    "* Part-of-tagging, named-entity-recognition.\n",
    "* Document Clustering"
   ]
  },
  {
   "cell_type": "markdown",
   "metadata": {
    "slideshow": {
     "slide_type": "slide"
    }
   },
   "source": [
    "# String operations with python"
   ]
  },
  {
   "cell_type": "markdown",
   "metadata": {
    "slideshow": {
     "slide_type": "fragment"
    }
   },
   "source": [
    "of course you already now your basics:\n",
    "\n",
    "`string.split\n",
    "string.strip\n",
    "string.replace`\n",
    "\n",
    "And sometimes this will be enough, but sometimes it is not."
   ]
  },
  {
   "cell_type": "markdown",
   "metadata": {
    "slideshow": {
     "slide_type": "slide"
    }
   },
   "source": [
    "# Regular Expressions\n",
    "![](https://cdn-images-1.medium.com/max/800/0*j1f-EFL7TDtf6K0o.jpg)"
   ]
  },
  {
   "cell_type": "markdown",
   "metadata": {
    "slideshow": {
     "slide_type": "subslide"
    }
   },
   "source": [
    "Regex can be a little terrifying:\n",
    "\n",
    "`pattern = '(?:(?:\\r\\n)?[ \\t])*(?:(?:(?:[^()<>@,;:\\\\\".\\[\\] \\000-\\031]+(?:(?:(?:\\r\\n)?[ \\t])+|\\Z|(?=[\\[\"()<>@,;:\\\\\".\\[\\]]))|\"(?:[^\\\"\\r\\\\]|\\\\.|(?:(?:\\r\\n)?[ \\t]))*\"(?:(?:\\r\\n)?[ \\t])*)(?:\\.(?:(?:\\r\\n)?[ \\t])*(?:[^()<>@,;:\\\\\".\\[\\] \\000-\\031]+(?:(?:(?:\\r\\n)?[ \\t])+|\\Z|(?=[\\[\"()<>@,;:\\\\\".\\[\\]]))|\"(?:[^\\\"\\r\\\\]|\\\\.|(?:(?:\\r\\n)?[ \\t]))*\"(?:(?:\\r\\n)?[ \\t])*))*@(?:(?:\\r\\n)?[ \\t])*(?:[^()<>@,;:\\\\\".\\[\\] \\000-\\031]+(?:(?:(?:\\r\\n)?[ \\t])+|\\Z|(?=[\\[\"()<>@,;:\\\\\".\\[\\]]))|\\[([^\\[\\]\\r\\\\]|\\\\.)*\\](?:(?:\\r\\n)?[ \\t])*)(?:\\.(?:(?:\\r\\n)?[ \\t])*(?:[^()<>@,;:\\\\\".\\[\\] \\000-\\031]+(?:(?:(?:\\r\\n)?[ \\t])+|\\Z|(?=[\\[\"()<>@,;:\\\\\".\\[\\]]))|\\[([^\\[\\]\\r\\\\]|\\\\.)*\\](?:(?:\\r\\n)?[ \\t])*))*|(?:[^()<>@,;:\\\\\".\\[\\] \\000-\\031]+(?:(?:(?:\\r\\n)?[ \\t])+|\\Z|(?=[\\[\"()<>@,;:\\\\\".\\[\\]]))|\"(?:[^\\\"\\r\\\\]|\\\\.|(?:(?:\\r\\n)?[ \\t]))*\"(?:(?:\\r\\n)?[ \\t])*)*\\<(?:(?:\\r\\n)?[ \\t])*(?:@(?:[^()<>@,;:\\\\\".\\[\\] \\000-\\031]+(?:(?:(?:\\r\\n)?[ \\t])+|\\Z|(?=[\\[\"()<>@,;:\\\\\".\\[\\]]))|\\[([^\\[\\]\\r\\\\]|\\\\.)*\\](?:(?:\\r\\n)?[ \\t])*)(?:\\.(?:(?:\\r\\n)?[ \\t])*(?:[^()<>@,;:\\\\\".\\[\\] \\000-\\031]+(?:(?:(?:\\r\\n)?[ \\t])+|\\Z|(?=[\\[\"()<>@,;:\\\\\".\\[\\]]))|\\[([^\\[\\]\\r\\\\]|\\\\.)*\\](?:(?:\\r\\n)?[ \\t])*))*(?:,@(?:(?:\\r\\n)?[ \\t])*(?:[^()<>@,;:\\\\\".\\[\\] \\000-\\031]+(?:(?:(?:\\r\\n)?[ \\t])+|\\Z|(?=[\\[\"()<>@,;:\\\\\".\\[\\]]))|\\[([^\\[\\]\\r\\\\]|\\\\.)*\\](?:(?:\\r\\n)?[ \\t])*)(?:\\.(?:(?:\\r\\n)?[ \\t])*(?:[^()<>@,;:\\\\\".\\[\\] \\000-\\031]+(?:(?:(?:\\r\\n)?[ \\t])+|\\Z|(?=[\\[\"()<>@,;:\\\\\".\\[\\]]))|\\[([^\\[\\]\\r\\\\]|\\\\.)*\\](?:(?:\\r\\n)?[ \\t])*))*)*:(?:(?:\\r\\n)?[ \\t])*)?(?:[^()<>@,;:\\\\\".\\[\\] \\000-\\031]+(?:(?:(?:\\r\\n)?[ \\t])+|\\Z|(?=[\\[\"()<>@,;:\\\\\".\\[\\]]))|\"(?:[^\\\"\\r\\\\]|\\\\.|(?:(?:\\r\\n)?[ \\t]))*\"(?:(?:\\r\\n)?[ \\t])*)(?:\\.(?:(?:\\r\\n)?[ \\t])*(?:[^()<>@,;:\\\\\".\\[\\] \\000-\\031]+(?:(?:(?:\\r\\n)?[ \\t])+|\\Z|(?=[\\[\"()<>@,;:\\\\\".\\[\\]]))|\"(?:[^\\\"\\r\\\\]|\\\\.|(?:(?:\\r\\n)?[ \\t]))*\"(?:(?:\\r\\n)?[ \\t])*))*@(?:(?:\\r\\n)?[ \\t])*(?:[^()<>@,;:\\\\\".\\[\\] \\000-\\031]+(?:(?:(?:\\r\\n)?[ \\t])+|\\Z|(?=[\\[\"()<>@,;:\\\\\".\\[\\]]))|\\[([^\\[\\]\\r\\\\]|\\\\.)*\\](?:(?:\\r\\n)?[ \\t])*)(?:\\.(?:(?:\\r\\n)?[ \\t])*(?:[^()<>@,;:\\\\\".\\[\\] \\000-\\031]+(?:(?:(?:\\r\\n)?[ \\t])+|\\Z|(?=[\\[\"()<>@,;:\\\\\".\\[\\]]))|\\[([^\\[\\]\\r\\\\]|\\\\.)*\\](?:(?:\\r\\n)?[ \\t])*))*\\>(?:(?:\\r\\n)?[ \\t])*)|(?:[^()<>@,;:\\\\\".\\[\\] \\000-\\031]+(?:(?:(?:\\r\\n)?[ \\t])+|\\Z|(?=[\\[\"()<>@,;:\\\\\".\\[\\]]))|\"(?:[^\\\"\\r\\\\]|\\\\.|(?:(?:\\r\\n)?[ \\t]))*\"(?:(?:\\r\\n)?[ \\t])*)*:(?:(?:\\r\\n)?[ \\t])*(?:(?:(?:[^()<>@,;:\\\\\".\\[\\] \\000-\\031]+(?:(?:(?:\\r\\n)?[ \\t])+|\\Z|(?=[\\[\"()<>@,;:\\\\\".\\[\\]]))|\"(?:[^\\\"\\r\\\\]|\\\\.|(?:(?:\\r\\n)?[ \\t]))*\"(?:(?:\\r\\n)?[ \\t])*)(?:\\.(?:(?:\\r\\n)?[ \\t])*(?:[^()<>@,;:\\\\\".\\[\\] \\000-\\031]+(?:(?:(?:\\r\\n)?[ \\t])+|\\Z|(?=[\\[\"()<>@,;:\\\\\".\\[\\]]))|\"(?:[^\\\"\\r\\\\]|\\\\.|(?:(?:\\r\\n)?[ \\t]))*\"(?:(?:\\r\\n)?[ \\t])*))*@(?:(?:\\r\\n)?[ \\t])*(?:[^()<>@,;:\\\\\".\\[\\] \\000-\\031]+(?:(?:(?:\\r\\n)?[ \\t])+|\\Z|(?=[\\[\"()<>@,;:\\\\\".\\[\\]]))|\\[([^\\[\\]\\r\\\\]|\\\\.)*\\](?:(?:\\r\\n)?[ \\t])*)(?:\\.(?:(?:\\r\\n)?[ \\t])*(?:[^()<>@,;:\\\\\".\\[\\] \\000-\\031]+(?:(?:(?:\\r\\n)?[ \\t])+|\\Z|(?=[\\[\"()<>@,;:\\\\\".\\[\\]]))|\\[([^\\[\\]\\r\\\\]|\\\\.)*\\](?:(?:\\r\\n)?[ \\t])*))*|(?:[^()<>@,;:\\\\\".\\[\\] \\000-\\031]+(?:(?:(?:\\r\\n)?[ \\t])+|\\Z|(?=[\\[\"()<>@,;:\\\\\".\\[\\]]))|\"(?:[^\\\"\\r\\\\]|\\\\.|(?:(?:\\r\\n)?[ \\t]))*\"(?:(?:\\r\\n)?[ \\t])*)*\\<(?:(?:\\r\\n)?[ \\t])*(?:@(?:[^()<>@,;:\\\\\".\\[\\] \\000-\\031]+(?:(?:(?:\\r\\n)?[ \\t])+|\\Z|(?=[\\[\"()<>@,;:\\\\\".\\[\\]]))|\\[([^\\[\\]\\r\\\\]|\\\\.)*\\](?:(?:\\r\\n)?[ \\t])*)(?:\\.(?:(?:\\r\\n)?[ \\t])*(?:[^()<>@,;:\\\\\".\\[\\] \\000-\\031]+(?:(?:(?:\\r\\n)?[ \\t])+|\\Z|(?=[\\[\"()<>@,;:\\\\\".\\[\\]]))|\\[([^\\[\\]\\r\\\\]|\\\\.)*\\](?:(?:\\r\\n)?[ \\t])*))*(?:,@(?:(?:\\r\\n)?[ \\t])*(?:[^()<>@,;:\\\\\".\\[\\] \\000-\\031]+(?:(?:(?:\\r\\n)?[ \\t])+|\\Z|(?=[\\[\"()<>@,;:\\\\\".\\[\\]]))|\\[([^\\[\\]\\r\\\\]|\\\\.)*\\](?:(?:\\r\\n)?[ \\t])*)(?:\\.(?:(?:\\r\\n)?[ \\t])*(?:[^()<>@,;:\\\\\".\\[\\] \\000-\\031]+(?:(?:(?:\\r\\n)?[ \\t])+|\\Z|(?=[\\[\"()<>@,;:\\\\\".\\[\\]]))|\\[([^\\[\\]\\r\\\\]|\\\\.)*\\](?:(?:\\r\\n)?[ \\t])*))*)*:(?:(?:\\r\\n)?[ \\t])*)?(?:[^()<>@,;:\\\\\".\\[\\] \\000-\\031]+(?:(?:(?:\\r\\n)?[ \\t])+|\\Z|(?=[\\[\"()<>@,;:\\\\\".\\[\\]]))|\"(?:[^\\\"\\r\\\\]|\\\\.|(?:(?:\\r\\n)?[ \\t]))*\"(?:(?:\\r\\n)?[ \\t])*)(?:\\.(?:(?:\\r\\n)?[ \\t])*(?:[^()<>@,;:\\\\\".\\[\\] \\000-\\031]+(?:(?:(?:\\r\\n)?[ \\t])+|\\Z|(?=[\\[\"()<>@,;:\\\\\".\\[\\]]))|\"(?:[^\\\"\\r\\\\]|\\\\.|(?:(?:\\r\\n)?[ \\t]))*\"(?:(?:\\r\\n)?[ \\t])*))*@(?:(?:\\r\\n)?[ \\t])*(?:[^()<>@,;:\\\\\".\\[\\] \\000-\\031]+(?:(?:(?:\\r\\n)?[ \\t])+|\\Z|(?=[\\[\"()<>@,;:\\\\\".\\[\\]]))|\\[([^\\[\\]\\r\\\\]|\\\\.)*\\](?:(?:\\r\\n)?[ \\t])*)(?:\\.(?:(?:\\r\\n)?[ \\t])*(?:[^()<>@,;:\\\\\".\\[\\] \\000-\\031]+(?:(?:(?:\\r\\n)?[ \\t])+|\\Z|(?=[\\[\"()<>@,;:\\\\\".\\[\\]]))|\\[([^\\[\\]\\r\\\\]|\\\\.)*\\](?:(?:\\r\\n)?[ \\t])*))*\\>(?:(?:\\r\\n)?[ \\t])*)(?:,\\s*(?:(?:[^()<>@,;:\\\\\".\\[\\] \\000-\\031]+(?:(?:(?:\\r\\n)?[ \\t])+|\\Z|(?=[\\[\"()<>@,;:\\\\\".\\[\\]]))|\"(?:[^\\\"\\r\\\\]|\\\\.|(?:(?:\\r\\n)?[ \\t]))*\"(?:(?:\\r\\n)?[ \\t])*)(?:\\.(?:(?:\\r\\n)?[ \\t])*(?:[^()<>@,;:\\\\\".\\[\\] \\000-\\031]+(?:(?:(?:\\r\\n)?[ \\t])+|\\Z|(?=[\\[\"()<>@,;:\\\\\".\\[\\]]))|\"(?:[^\\\"\\r\\\\]|\\\\.|(?:(?:\\r\\n)?[ \\t]))*\"(?:(?:\\r\\n)?[ \\t])*))*@(?:(?:\\r\\n)?[ \\t])*(?:[^()<>@,;:\\\\\".\\[\\] \\000-\\031]+(?:(?:(?:\\r\\n)?[ \\t])+|\\Z|(?=[\\[\"()<>@,;:\\\\\".\\[\\]]))|\\[([^\\[\\]\\r\\\\]|\\\\.)*\\](?:(?:\\r\\n)?[ \\t])*)(?:\\.(?:(?:\\r\\n)?[ \\t])*(?:[^()<>@,;:\\\\\".\\[\\] \\000-\\031]+(?:(?:(?:\\r\\n)?[ \\t])+|\\Z|(?=[\\[\"()<>@,;:\\\\\".\\[\\]]))|\\[([^\\[\\]\\r\\\\]|\\\\.)*\\](?:(?:\\r\\n)?[ \\t])*))*|(?:[^()<>@,;:\\\\\".\\[\\] \\000-\\031]+(?:(?:(?:\\r\\n)?[ \\t])+|\\Z|(?=[\\[\"()<>@,;:\\\\\".\\[\\]]))|\"(?:[^\\\"\\r\\\\]|\\\\.|(?:(?:\\r\\n)?[ \\t]))*\"(?:(?:\\r\\n)?[ \\t])*)*\\<(?:(?:\\r\\n)?[ \\t])*(?:@(?:[^()<>@,;:\\\\\".\\[\\] \\000-\\031]+(?:(?:(?:\\r\\n)?[ \\t])+|\\Z|(?=[\\[\"()<>@,;:\\\\\".\\[\\]]))|\\[([^\\[\\]\\r\\\\]|\\\\.)*\\](?:(?:\\r\\n)?[ \\t])*)(?:\\.(?:(?:\\r\\n)?[ \\t])*(?:[^()<>@,;:\\\\\".\\[\\] \\000-\\031]+(?:(?:(?:\\r\\n)?[ \\t])+|\\Z|(?=[\\[\"()<>@,;:\\\\\".\\[\\]]))|\\[([^\\[\\]\\r\\\\]|\\\\.)*\\](?:(?:\\r\\n)?[ \\t])*))*(?:,@(?:(?:\\r\\n)?[ \\t])*(?:[^()<>@,;:\\\\\".\\[\\] \\000-\\031]+(?:(?:(?:\\r\\n)?[ \\t])+|\\Z|(?=[\\[\"()<>@,;:\\\\\".\\[\\]]))|\\[([^\\[\\]\\r\\\\]|\\\\.)*\\](?:(?:\\r\\n)?[ \\t])*)(?:\\.(?:(?:\\r\\n)?[ \\t])*(?:[^()<>@,;:\\\\\".\\[\\] \\000-\\031]+(?:(?:(?:\\r\\n)?[ \\t])+|\\Z|(?=[\\[\"()<>@,;:\\\\\".\\[\\]]))|\\[([^\\[\\]\\r\\\\]|\\\\.)*\\](?:(?:\\r\\n)?[ \\t])*))*)*:(?:(?:\\r\\n)?[ \\t])*)?(?:[^()<>@,;:\\\\\".\\[\\] \\000-\\031]+(?:(?:(?:\\r\\n)?[ \\t])+|\\Z|(?=[\\[\"()<>@,;:\\\\\".\\[\\]]))|\"(?:[^\\\"\\r\\\\]|\\\\.|(?:(?:\\r\\n)?[ \\t]))*\"(?:(?:\\r\\n)?[ \\t])*)(?:\\.(?:(?:\\r\\n)?[ \\t])*(?:[^()<>@,;:\\\\\".\\[\\] \\000-\\031]+(?:(?:(?:\\r\\n)?[ \\t])+|\\Z|(?=[\\[\"()<>@,;:\\\\\".\\[\\]]))|\"(?:[^\\\"\\r\\\\]|\\\\.|(?:(?:\\r\\n)?[ \\t]))*\"(?:(?:\\r\\n)?[ \\t])*))*@(?:(?:\\r\\n)?[ \\t])*(?:[^()<>@,;:\\\\\".\\[\\] \\000-\\031]+(?:(?:(?:\\r\\n)?[ \\t])+|\\Z|(?=[\\[\"()<>@,;:\\\\\".\\[\\]]))|\\[([^\\[\\]\\r\\\\]|\\\\.)*\\](?:(?:\\r\\n)?[ \\t])*)(?:\\.(?:(?:\\r\\n)?[ \\t])*(?:[^()<>@,;:\\\\\".\\[\\] \\000-\\031]+(?:(?:(?:\\r\\n)?[ \\t])+|\\Z|(?=[\\[\"()<>@,;:\\\\\".\\[\\]]))|\\[([^\\[\\]\\r\\\\]|\\\\.)*\\](?:(?:\\r\\n)?[ \\t])*))*\\>(?:(?:\\r\\n)?[ \\t])*))*)?;\\s*)'`\n"
   ]
  },
  {
   "cell_type": "markdown",
   "metadata": {
    "slideshow": {
     "slide_type": "subslide"
    }
   },
   "source": [
    "It is extremely valuable when working with any kind of text, for searching, extracting and substituting specific patterns."
   ]
  },
  {
   "cell_type": "markdown",
   "metadata": {
    "slideshow": {
     "slide_type": "subslide"
    }
   },
   "source": [
    "## Example\n",
    "Lets imagine we were hackers trying to break into computers in our network. \n",
    "\n",
    "First we would need a way to search for the possible machines. \n",
    "Regular expressions to the rescue..."
   ]
  },
  {
   "cell_type": "code",
   "execution_count": 2,
   "metadata": {
    "slideshow": {
     "slide_type": "subslide"
    }
   },
   "outputs": [
    {
     "data": {
      "text/plain": [
       "'ant-2y5tlh2.samf.domain (192.38.122.169) at a4:4c:c8:ee:7e:06 [ether] on eno1\\n? (192.38.122.1) at 00:1f:ca:f8:2b:c9 [ether] on eno1\\n? (192.38.122.232) at 68:5b:35:a9:2c:d7 [ether] on eno1\\n? (192.38.122.97) at 68:5b:35:a9:2c:d7 [ether] on eno1\\n? (192.38.122.151) at 00:23:24:7c:93:ea [ether] on eno1\\n'"
      ]
     },
     "execution_count": 2,
     "metadata": {},
     "output_type": "execute_result"
    }
   ],
   "source": [
    "import os\n",
    "ip_lookup = os.popen('arp -a').read()\n",
    "ip_lookup"
   ]
  },
  {
   "cell_type": "code",
   "execution_count": 3,
   "metadata": {
    "slideshow": {
     "slide_type": "subslide"
    }
   },
   "outputs": [
    {
     "data": {
      "text/plain": [
       "[('a4:4c:c8:ee:7e:06', '192.38.122.169'),\n",
       " ('00:1f:ca:f8:2b:c9', '192.38.122.1'),\n",
       " ('68:5b:35:a9:2c:d7', '192.38.122.232'),\n",
       " ('68:5b:35:a9:2c:d7', '192.38.122.97'),\n",
       " ('00:23:24:7c:93:ea', '192.38.122.151')]"
      ]
     },
     "execution_count": 3,
     "metadata": {},
     "output_type": "execute_result"
    }
   ],
   "source": [
    "import re\n",
    "#mac_add = '(([0-9a-f]{2}\\:){5}[0-9a-f]{2})'\n",
    "#macs = [i[0] for i in re.findall(mac_add,ip_lookup)]\n",
    "mac_add = '([a-f0-9\\:]{17})'\n",
    "macs = re.findall(mac_add,ip_lookup)\n",
    "\n",
    "ip_pattern = '([0-9\\.]{9,})'\n",
    "ips = re.findall(ip_pattern,ip_lookup)\n",
    "list(zip(macs,ips))\n"
   ]
  },
  {
   "cell_type": "markdown",
   "metadata": {
    "slideshow": {
     "slide_type": "subslide"
    }
   },
   "source": [
    "** Regular Expression syntax **\n",
    "\n",
    "Ressources:\n",
    "\n",
    "Play around with it [here](http://regexr.com/) or in this notebook.\n",
    "\n",
    "Lookup all special characters [here](https://www.regular-expressions.info/refquick.html)\n",
    "\n",
    "* \\+ = 1 or more times\n",
    "* \\* = 0 or more times\n",
    "* {3} = exactly three times\n",
    "* ? = once or none\n",
    "* (?=)\t= Positive lookahead\n",
    "* (?!)\t= Negative lookahead\n",
    "* (?<=)\t= Positive lookbehind\n",
    "* (?<!) = Negative lookbehind\n",
    "* \\\\ = escape character, used to find characters that has special meaning with regex: e.g. \\+ \\*\n",
    "* () = defining a the match group: i.e. within the paranthesis is the pattern I care about.\n",
    "* [] = set of characters\n",
    "* ^ = applied within a set, it becomes the inverse of the set defined.\n",
    "* . = any characters except line break\n",
    "* | = or statement. p|b find characters a or b.\n",
    "* \\d = digits\n",
    "* \\D = any-non-digits.\n",
    "* \\s = whitespace-separator"
   ]
  },
  {
   "cell_type": "markdown",
   "metadata": {
    "slideshow": {
     "slide_type": "slide"
    }
   },
   "source": [
    "## Regular expressions (2): define - inspect - refine"
   ]
  },
  {
   "cell_type": "code",
   "execution_count": 4,
   "metadata": {
    "collapsed": true,
    "slideshow": {
     "slide_type": "subslide"
    }
   },
   "outputs": [],
   "source": [
    "def explore_regex(pattern,string_sample,n_output=10,before=10,after=10,shuffle=False):\n",
    "    count = 0\n",
    "    import random\n",
    "    length = len(string_sample)\n",
    "    \n",
    "    results = list(enumerate(re.finditer(pattern,string_sample)))\n",
    "    \n",
    "    if shuffle:\n",
    "        random.shuffle(results)\n",
    "    indices,results = zip(*results)\n",
    "    for result in results:\n",
    "        start,stop = result.span()\n",
    "        temp_after = min([length-stop,after])\n",
    "        temp_before = min([start,before])\n",
    "        print('Matched: %s\\tContext:%s'%(result.group(),string_sample[start-temp_before:stop+temp_after]))\n",
    "        count+=1\n",
    "        if count>n_output:\n",
    "            break\n",
    "    return [result.group() for result in results]"
   ]
  },
  {
   "cell_type": "markdown",
   "metadata": {
    "slideshow": {
     "slide_type": "slide"
    }
   },
   "source": [
    "### email example"
   ]
  },
  {
   "cell_type": "code",
   "execution_count": 5,
   "metadata": {
    "slideshow": {
     "slide_type": "subslide"
    }
   },
   "outputs": [
    {
     "data": {
      "text/plain": [
       "\"Thanks for the info. I appreciated the call the other day. It really helps me out to recieve info early like that. D From: Mary Jo Johnson 11/20/2000 03:38 PM To: Daren J Farmer/HOU/ECT@ECT, James McKay/HOU/ECT@ECT, Gary A Hanks/HOU/ECT@ECT cc: Jill T Zivley/HOU/ECT@ECT Subject: HILCORP old ocean volume According to Gary Hanks, we would like to have the gas on the valley line anyway ---------------------- Forwarded by Mary Jo Johnson/HOU/ECT on 11/20/2000 03:26 PM --------------------------- To: Jill T Zivley/HOU/ECT@ECT cc: Edward D Gottlob/HOU/ECT@ECT, Lauri A Allen/HOU/ECT@ECT Subject: Re: Producer service group? I can not believe you are sending emails form Hawaii!!!! You are crazy. I took care of Camden for the month- It is now 330 and Hilcorp has not responded. I spoke with Jerry Bubert several times today- emailed Mike LAnnou and left messages, and had him paged, and copied Hildebrand (the president). If we don't hear by 4pm, we are supposed to bypass the gas...........\\nGuys: We\""
      ]
     },
     "execution_count": 5,
     "metadata": {},
     "output_type": "execute_result"
    }
   ],
   "source": [
    "# First lets look at a sample\n",
    "sample_string = '\\n'.join(enron_df.sample(50).content) # the sample function is very nice for your workflow.\n",
    "sample_string[0:1000]"
   ]
  },
  {
   "cell_type": "code",
   "execution_count": 6,
   "metadata": {
    "slideshow": {
     "slide_type": "subslide"
    }
   },
   "outputs": [
    {
     "name": "stdout",
     "output_type": "stream",
     "text": [
      "Matched: <lgoldseth@svmg.org>\tContext:Goldseth\" <lgoldseth@svmg.org> 04/26/200\n",
      "Matched: <lgoldseth@svmg.org>\tContext:11 PM To: <lgoldseth@svmg.org> cc: Subje\n",
      "Matched: mcausholli@hotmail.com\tContext: 807-1039 mcausholli@hotmail.com (preferre\n",
      "Matched: Causey/Corp/Enron@ENRON,\tContext:: Richard Causey/Corp/Enron@ENRON, Sally Bec\n",
      "Matched: Beck/HOU/ECT@ECT\tContext:ON, Sally Beck/HOU/ECT@ECT cc: Subje\n",
      "Matched: Beck/HOU/ECT@ECT,\tContext:To: Sally Beck/HOU/ECT@ECT, Richard C\n",
      "Matched: Causey/Corp/Enron@ENRON,\tContext:, Richard Causey/Corp/Enron@ENRON, Gene Hump\n",
      "Matched: Humphrey/Enron@EnronXGate,\tContext:RON, Gene Humphrey/Enron@EnronXGate, Wanda Cur\n",
      "Matched: Curry/HOU/EES@EES,\tContext:te, Wanda Curry/HOU/EES@EES, Brent A P\n",
      "Matched: Price/Enron@EnronXGate,\tContext:, Brent A Price/Enron@EnronXGate, Charlene \n",
      "Matched: Jackson/Corp/Enron@ENRON,\tContext: Charlene Jackson/Corp/Enron@ENRON, Christie \n",
      "\n",
      "New Pattern: [0-9A-Za-z_\\.\\-]+@[\\.0-9A-Za-z]+\n",
      "Matched: lgoldseth@svmg.org\tContext:oldseth\" <lgoldseth@svmg.org> 04/26/20\n",
      "Matched: lgoldseth@svmg.org\tContext:1 PM To: <lgoldseth@svmg.org> cc: Subj\n",
      "Matched: mcausholli@hotmail.com\tContext: 807-1039 mcausholli@hotmail.com (preferre\n",
      "Matched: Enron@ENRON\tContext:usey/Corp/Enron@ENRON, Sally Be\n",
      "Matched: ECT@ECT\tContext: Beck/HOU/ECT@ECT cc: Subje\n",
      "Matched: ECT@ECT\tContext: Beck/HOU/ECT@ECT, Richard \n",
      "Matched: Enron@ENRON\tContext:usey/Corp/Enron@ENRON, Gene Hum\n",
      "Matched: Enron@EnronXGate\tContext: Humphrey/Enron@EnronXGate, Wanda Cu\n",
      "Matched: EES@EES\tContext:Curry/HOU/EES@EES, Brent A \n",
      "Matched: Enron@EnronXGate\tContext:t A Price/Enron@EnronXGate, Charlene\n",
      "Matched: Enron@ENRON\tContext:kson/Corp/Enron@ENRON, Christie\n"
     ]
    },
    {
     "data": {
      "text/plain": [
       "['Beck/HOU/ECT@ECT',\n",
       " 'Kingerski/NA/Enron@Enron,',\n",
       " 'Lowry/HOU/ECT@ECT,',\n",
       " 'mailto:abb@eslawfirm.com',\n",
       " 'Woods/DUB/EES@EES,',\n",
       " 'Shapiro/NA/Enron@ENRON,',\n",
       " 'Bowen/HOU/ECT@ECT',\n",
       " 'Thompson/HOU/ECT@ECT,',\n",
       " 'McMahon/HOU/ECT@ECT,',\n",
       " 'Benevides/HOU/EES@EES,']"
      ]
     },
     "execution_count": 6,
     "metadata": {},
     "output_type": "execute_result"
    }
   ],
   "source": [
    "sample_string = '\\n'.join(enron_df.sample(50).content)\n",
    "email_pattern = '@' # start defining a very broad one\n",
    "email_pattern = '[^\\s]+@[^\\s]+' # narrow it a little..  \\S = [^\\s]\n",
    "results1 = explore_regex(email_pattern,sample_string) \n",
    "email_pattern2 = '[0-9A-Za-z_\\.\\-]+@[\\.0-9A-Za-z]+' # refine\n",
    "print('\\nNew Pattern: %s'%email_pattern2)\n",
    "results2 = explore_regex(email_pattern2,sample_string)\n",
    "list(set(results1)-set(results2))[0:10] # inspect divergence"
   ]
  },
  {
   "cell_type": "code",
   "execution_count": null,
   "metadata": {
    "collapsed": true
   },
   "outputs": [],
   "source": [
    "RE_EMAIL = '[a-zA-Z0-9_.+-]+@[a-zA-Z0-9-]+\\.[a-zA-Z0-9-.]+'#'[\\b<][a-zA-Z0-9_.+-]+@[a-zA-Z0-9-]+\\.[a-zA-Z0-9-.]+[\\b>]'"
   ]
  },
  {
   "cell_type": "markdown",
   "metadata": {
    "slideshow": {
     "slide_type": "slide"
    }
   },
   "source": [
    "** Exercises **\n",
    "\n",
    "***Ex. 1.1***\n",
    "* Load the Enron email dataset and start mining numbers mentioned in the emails.\n",
    "    * Both literal numbers (millions,billions etc) and digits.\n",
    "    * Match currencies $ and percentages %\n",
    "* Rank the people talking most about numbers.\n",
    "\n",
    "***Ex. 1.2***\n",
    "* Find names mentioned in the emails. - i.e. marked by Capital letters that did not follow punctuation and newlines.\n",
    "    * This is a really hard task, so don't worry that it won't be perfect, it is just to get a feel of the task of extracting Entities from text.\n",
    "* Which names are mentioned the most, and which people talk most about who?\n",
    "\n"
   ]
  },
  {
   "cell_type": "code",
   "execution_count": null,
   "metadata": {
    "collapsed": true
   },
   "outputs": [],
   "source": [
    "# Your answer goes here or in the exercise notebook."
   ]
  },
  {
   "cell_type": "markdown",
   "metadata": {
    "slideshow": {
     "slide_type": "slide"
    }
   },
   "source": [
    "# From raw text to words and numbers\n",
    "## ... fortunatly we don't have to write everything in regex ourselves."
   ]
  },
  {
   "cell_type": "markdown",
   "metadata": {
    "slideshow": {
     "slide_type": "slide"
    }
   },
   "source": [
    "** Preprocessing **\n",
    "* Word tokenization and sentence detection\n",
    "    * the need can vary alot (social media, to old prose, and ocr based goverment documents.)\n",
    "* Ngram / skipgram / Collocations\n",
    "* Stemming / Lemmatization\n",
    "* Stopword remowal.\n"
   ]
  },
  {
   "cell_type": "markdown",
   "metadata": {
    "slideshow": {
     "slide_type": "slide"
    }
   },
   "source": [
    "**Tokenizer**"
   ]
  },
  {
   "cell_type": "code",
   "execution_count": 7,
   "metadata": {
    "collapsed": true,
    "slideshow": {
     "slide_type": "subslide"
    }
   },
   "outputs": [],
   "source": [
    "# Lets get some real native text.\n",
    "import requests\n",
    "qs = ['math','hard','sucks','ass','text','data','bitch']\n",
    "q = 'http://deepbeat.org/deepbeat.fcgi?l=en&nn=true&k=&m=multi'+'&q='.join(qs) # found using the network monitor.\n",
    "#original = 'http://deepbeat.org/deepbeat.fcgi?l=en&nn=true&k=&m=multi&q=math&q=sucks&q=&q=&q=&q=&q=&q=&q='\n",
    "lyrics = requests.get(q).json()"
   ]
  },
  {
   "cell_type": "code",
   "execution_count": 8,
   "metadata": {
    "slideshow": {
     "slide_type": "subslide"
    }
   },
   "outputs": [
    {
     "name": "stdout",
     "output_type": "stream",
     "text": [
      "Hey Ja Joey\n",
      "Legally and illegally\n",
      "Trouble comes naturally\n",
      "'' Bridge ''\n",
      "Uh really. Totally.\n",
      "Blood start flowing\n",
      "It's so lonelly\n",
      "Man I need Maui Wowie\n",
      "See cause usually\n",
      "Just like a hillbilly\n",
      "I will literally\n",
      "I smoke that Maui Wowie\n",
      "Snatch the gat brr-at! And lyrically wreck that ass officially\n",
      "I need Maui Wowie\n",
      "And bullshit usually\n",
      "I know you especially\n",
      "And acting unrationally\n",
      "I'll get my swagger goin'\n",
      "They want me chronally\n",
      "Breakfast at Papa Deaux's\n"
     ]
    }
   ],
   "source": [
    "rhymes = '\\n'.join([i['line'] for i in lyrics['rhymes']])\n",
    "print(rhymes)"
   ]
  },
  {
   "cell_type": "code",
   "execution_count": 9,
   "metadata": {
    "collapsed": true,
    "slideshow": {
     "slide_type": "subslide"
    }
   },
   "outputs": [],
   "source": [
    "#rhymes.split()\n",
    "#nltk.word_tokenize(rhymes)\n",
    "#nltk.sent_tokenize(rhymes)\n"
   ]
  },
  {
   "cell_type": "markdown",
   "metadata": {
    "slideshow": {
     "slide_type": "slide"
    }
   },
   "source": [
    "so it can parse tough rap lyrics. But what about **emotions**?"
   ]
  },
  {
   "cell_type": "code",
   "execution_count": 10,
   "metadata": {
    "slideshow": {
     "slide_type": "slide"
    }
   },
   "outputs": [
    {
     "data": {
      "text/plain": [
       "[':p', '<3', '<3', ':)', ':)', ':(', '<3', ':/', ':-/', ':|', ':p']"
      ]
     },
     "execution_count": 10,
     "metadata": {},
     "output_type": "execute_result"
    }
   ],
   "source": [
    "# practice emojiis here https://regexr.com/3a8o5\n",
    "import re\n",
    "pattern = '\\:\\)|\\:\\(|<3|\\:\\/(?!\\/)|\\:-\\/|\\:\\||\\:p(?![a-z])|\\:\\-\\)' # see nltk.sentiment.util.EMOTICON_RE for a more professional implementation\n",
    "emoticon_string = ''':p - that should match!\n",
    "no matches here: http://example.com\n",
    "* We don\\'t watch to match inside other :pencil: emoji syntax either\n",
    "* Probably shouldn\\'t match this `for (var i=0; i<3; i++){}`\n",
    "* This should match - I love (<3) Regular Expressions!\n",
    "* some code shouldn\\'t match: `<tag:person />`\n",
    ":) SO HAPPY\n",
    "\n",
    "\n",
    "===========================\n",
    "All emoticons listed out.\n",
    "these should always match!\n",
    ":) :( <3 :/ :-/ :| :p\n",
    "==========================='''\n",
    "re.findall(pattern,emoticon_string)"
   ]
  },
  {
   "cell_type": "code",
   "execution_count": 11,
   "metadata": {
    "collapsed": true,
    "slideshow": {
     "slide_type": "slide"
    }
   },
   "outputs": [],
   "source": [
    "#nltk.word_tokenize(emoticon_string)"
   ]
  },
  {
   "cell_type": "code",
   "execution_count": 12,
   "metadata": {
    "collapsed": true,
    "slideshow": {
     "slide_type": "slide"
    }
   },
   "outputs": [],
   "source": [
    "# Implementation in a tokenizer here:\n",
    "nltk.sentiment.vader.SentiText(emoticon_string).words_and_emoticons\n",
    "# If that doesn't work look at Bjarke Felbos work DeepMoji: https://github.com/bfelbo/DeepMoji/blob/master/deepmoji/tokenizer.py"
   ]
  },
  {
   "cell_type": "code",
   "execution_count": null,
   "metadata": {
    "collapsed": true,
    "slideshow": {
     "slide_type": "subslide"
    }
   },
   "outputs": [],
   "source": [
    "%timeit emotion_string.split()\n",
    "%timeit nltk.word_tokenize(emotion_string)\n",
    "%timeit nltk.sentiment.vader.SentiText(emoticon_string).words_and_emoticons"
   ]
  },
  {
   "cell_type": "markdown",
   "metadata": {
    "slideshow": {
     "slide_type": "slide"
    }
   },
   "source": [
    "## Preprocessing(2)\n",
    "Stemming, lemmatizing, stopwords, and non-digit words."
   ]
  },
  {
   "cell_type": "code",
   "execution_count": 13,
   "metadata": {
    "slideshow": {
     "slide_type": "subslide"
    }
   },
   "outputs": [
    {
     "name": "stdout",
     "output_type": "stream",
     "text": [
      "100000 loops, best of 3: 13.5 µs per loop\n",
      "The slowest run took 6.35 times longer than the fastest. This could mean that an intermediate result is being cached.\n",
      "1000000 loops, best of 3: 661 ns per loop\n",
      "The slowest run took 7.20 times longer than the fastest. This could mean that an intermediate result is being cached.\n",
      "1000000 loops, best of 3: 287 ns per loop\n"
     ]
    }
   ],
   "source": [
    "from nltk.corpus import stopwords\n",
    "\n",
    "stop_words_nltk = set(stopwords.words('english')) # remember to define as set for performance\n",
    "stop_words_list = stopwords.words('english')\n",
    "own_stop_words = set([\"the\",\"it\",\"she\",\"he\", \"a\",\"trump\",'idiot','failure','weak']) # Define your own list of stopwords\n",
    "\n",
    "%timeit [w for w in own_stop_words if w not in stop_words_list]\n",
    "%timeit [w for w in own_stop_words if w not in stop_words_nltk]\n",
    "%timeit own_stop_words&stop_words_nltk"
   ]
  },
  {
   "cell_type": "code",
   "execution_count": 14,
   "metadata": {
    "collapsed": true,
    "slideshow": {
     "slide_type": "subslide"
    }
   },
   "outputs": [],
   "source": [
    "#The stemmers and lemmers need to be initialized before being run\n",
    "porter = nltk.stem.porter.PorterStemmer() # \n",
    "snowball = nltk.stem.snowball.SnowballStemmer('english') # a greedy stripper\n",
    "wordnet = nltk.stem.WordNetLemmatizer()\n",
    "def normalize_tokens(tokens,lowercase=False\n",
    "                     ,remove_non_alpha=False\n",
    "                     , stopwords = False\n",
    "                     , stemmer = False\n",
    "                     , lemmer = False):\n",
    "    #We can use a generator here as we just need to iterate over it\n",
    "    workingIter = tokens\n",
    "    #removing non-words\n",
    "    if remove_non_alpha:\n",
    "        workingIter = (w for w in workingIter if w.isalpha())\n",
    "    \n",
    "    # lowering\n",
    "    if lowercase:\n",
    "        workingIter = (w.lower() for w in workingIter)\n",
    "    #Now we can use the semmer, if provided\n",
    "    if stemmer:\n",
    "        workingIter = (stemmer.stem(w) for w in workingIter)\n",
    "        \n",
    "    #And the lemmer\n",
    "    if lemmer:\n",
    "        workingIter = (lemmer.lemmatize(w) for w in workingIter)\n",
    "    \n",
    "    #And remove the stopwords\n",
    "    if stopwords:\n",
    "        workingIter = (w for w in workingIter if w not in stopwords)\n",
    "    #We will return a list with the stopwords removed\n",
    "    return list(workingIter)\n",
    "'state-of-the-art'.isalpha()"
   ]
  },
  {
   "cell_type": "markdown",
   "metadata": {
    "slideshow": {
     "slide_type": "slide"
    }
   },
   "source": [
    "Lets apply this to our email dataset."
   ]
  },
  {
   "cell_type": "code",
   "execution_count": 16,
   "metadata": {
    "slideshow": {
     "slide_type": "subslide"
    }
   },
   "outputs": [
    {
     "data": {
      "text/plain": [
       "0                                           [forecast]\n",
       "1    [traveling, business, meeting, take, fun, trip...\n",
       "2                          [test, successful, way, go]\n",
       "3    [randy, send, schedule, salary, level, everyon...\n",
       "4                                [let, shoot, tuesday]\n",
       "5     [greg, either, next, tuesday, thursday, phillip]\n",
       "6    [please, cc, following, distribution, list, up...\n",
       "7                                            [morning]\n",
       "8    [login, pallen, pw, think, required, isp, stat...\n",
       "9    [forwarded, phillip, k, pm, buckner, buck, pm,...\n",
       "Name: content, dtype: object"
      ]
     },
     "execution_count": 16,
     "metadata": {},
     "output_type": "execute_result"
    }
   ],
   "source": [
    "kwargs = {'lowercase':True\n",
    "        ,'remove_non_alpha':True,\n",
    "        'stopwords':stop_words_nltk,\n",
    "        'stemmer':False,'lemmer':wordnet}\n",
    "enron_df.iloc[0:10].content.apply(nltk.word_tokenize).apply(normalize_tokens\n",
    "                                                            ,**kwargs)#.apply(len)#apply(lambda x: len(set(x)))"
   ]
  },
  {
   "cell_type": "markdown",
   "metadata": {
    "slideshow": {
     "slide_type": "slide"
    }
   },
   "source": [
    "## Ngrams / SkipGrams and Collocations"
   ]
  },
  {
   "cell_type": "code",
   "execution_count": 20,
   "metadata": {
    "slideshow": {
     "slide_type": "subslide"
    }
   },
   "outputs": [
    {
     "name": "stdout",
     "output_type": "stream",
     "text": [
      "Unigrams\n",
      "[(' ', 62088), ('e', 35372), ('t', 25295), ('a', 24125), ('o', 21971), ('i', 20612), ('n', 20013), ('r', 19237), ('s', 18994), ('l', 12813), ('h', 11274), ('d', 10159), ('c', 9812), ('u', 7774), ('m', 7409), ('p', 6440), ('g', 6232), ('f', 5759), ('y', 5398), ('0', 5372)]\n",
      "\n",
      "BIGRAMS:\n",
      "[('e ', 9130), (' t', 7373), ('s ', 6495), ('th', 5810), ('er', 5347), ('he', 5156), (' a', 4857), ('t ', 4627), ('in', 4621), ('d ', 4488)]\n",
      "\n",
      "Trigrams:\n",
      "[(' th', 4731), ('the', 3777), ('20 ', 3516), ('he ', 3496), ('=20', 3489), ('ed ', 1857), (' to', 1819), ('ing', 1791), ('to ', 1618), ('er ', 1582)]\n"
     ]
    }
   ],
   "source": [
    "from collections import Counter\n",
    "#string_sample = ' '.join(enron_df.sample(100).content)\n",
    "sequence = string_sample # rhymes\n",
    "n = 1\n",
    "unigrams = Counter([sequence[i:i+n] for i in range(len(sequence)-n)])\n",
    "print('Unigrams')\n",
    "print(unigrams.most_common(20))\n",
    "n = 2 \n",
    "bigrams = Counter([sequence[i:i+n] for i in range(len(sequence)-n)])\n",
    "print('\\nBIGRAMS:')\n",
    "print(bigrams.most_common(10))\n",
    "n = 3\n",
    "trigrams = Counter([sequence[i:i+n] for i in range(len(sequence)-n)])\n",
    "print('\\nTrigrams:')\n",
    "print(trigrams.most_common(10))"
   ]
  },
  {
   "cell_type": "code",
   "execution_count": 27,
   "metadata": {
    "slideshow": {
     "slide_type": "subslide"
    }
   },
   "outputs": [
    {
     "name": "stdout",
     "output_type": "stream",
     "text": [
      "\n",
      "Skipgram:\n",
      "[(('Subject', '-', '-', '-', 'Analyst', 'program', 'needs', 'you'), 3), (('By', '-', '-', '-', 'Daily', 'News', 'Published', 'January'), 3), (('Jeff', '-', '-', '-', 'great', 'idea', 'Thanks', 'for'), 2), (('Sue', '-', '-', '-', 'Fax', 'Forwarded', 'by', 'Susan'), 2), (('Mara', '-', '-', '-', 'Forwarded', 'by', 'Susan', 'J'), 2), (('Enron', '-', '-', '-', 'by', 'Susan', 'J', 'on'), 2), (('Tel', '-', '-', '-', 'Susan', 'J', 'on', 'AM'), 2), (('Forwarded', '-', '-', '-', 'AM', 'From', 'Althea', 'Gordon'), 2), (('by', '-', '-', '-', 'From', 'Althea', 'Gordon', 'AM'), 2), (('cc', '-', '-', '-', 'and', 'Analyst', 'program', 'needs'), 2)]\n"
     ]
    }
   ],
   "source": [
    "# With sligth modification we can change it to do Word-based ngrams + skip.\n",
    "skip = 4 \n",
    "n = 4\n",
    "sequence = ''.join([i.lower() for i in ' '.join(enron_df.sample(100).content) if i.isalpha()])\n",
    "sequence = [i for i in normalize_tokens(nltk.word_tokenize(' '.join(enron_df.sample(100).content))) if i.isalpha()]\n",
    "bigrams = Counter(map(tuple,[[sequence[i]]+['-']*(skip-1)+sequence[i+skip:i+skip+n] for i in range(len(sequence[::skip])-(n+skip))]))\n",
    "print('\\nSkipgram:')\n",
    "print(bigrams.most_common(10))\n"
   ]
  },
  {
   "cell_type": "code",
   "execution_count": 22,
   "metadata": {
    "slideshow": {
     "slide_type": "subslide"
    }
   },
   "outputs": [
    {
     "name": "stdout",
     "output_type": "stream",
     "text": [
      "10 loops, best of 3: 53.7 ms per loop\n",
      "10 loops, best of 3: 112 ms per loop\n"
     ]
    }
   ],
   "source": [
    "def find_ngrams(sentence, n):\n",
    "    return Counter(zip(*[sentence[i:] for i in range(n)]))\n",
    "def find_ngrams2(sentence,n):\n",
    "    sequence = sentence\n",
    "    ngrams = Counter([sequence[i:i+n] for i in range(len(sequence)-n)])\n",
    "    return ngrams\n",
    "\n",
    "%timeit find_ngrams(string_sample,2)\n",
    "%timeit find_ngrams2(string_sample,2)\n"
   ]
  },
  {
   "cell_type": "markdown",
   "metadata": {
    "slideshow": {
     "slide_type": "slide"
    }
   },
   "source": [
    "But do these ngrams carry new information not already captured by unigrams?\n",
    "\n",
    "This is the question that the analysis of **Collocations** address."
   ]
  },
  {
   "cell_type": "code",
   "execution_count": 28,
   "metadata": {
    "collapsed": true,
    "slideshow": {
     "slide_type": "subslide"
    }
   },
   "outputs": [],
   "source": [
    "bigrams_nltk = nltk.collocations.BigramCollocationFinder.from_words(normalize_tokens(nltk.word_tokenize(string_sample),remove_non_alpha=True))"
   ]
  },
  {
   "cell_type": "code",
   "execution_count": 29,
   "metadata": {
    "scrolled": true,
    "slideshow": {
     "slide_type": "subslide"
    }
   },
   "outputs": [
    {
     "name": "stdout",
     "output_type": "stream",
     "text": [
      "[(('the', 'state'), 1100.2771170396554), (('Gov', 'Gray'), 552.4599329240316), (('PG', 'E'), 515.3614981642891), (('more', 'than'), 487.9573885343577), (('of', 'the'), 475.5636262816188), (('spot', 'market'), 459.8194752096102), (('Message', 'From'), 454.4625532655454), (('Gray', 'Davis'), 382.23969949385014), (('will', 'be'), 381.7073505058824), (('PM', 'To'), 353.0635786892882), (('Southern', 'California'), 335.9273787798102), (('Los', 'Angeles'), 330.46557708832546), (('San', 'Francisco'), 320.1798571113932), (('natural', 'gas'), 317.36167922815093), (('SDG', 'E'), 305.19660796712753), (('Regulatory', 'Commission'), 299.9497793133563), (('has', 'been'), 297.91841938071906), (('Water', 'Resources'), 292.98166169975667), (('Department', 'of'), 283.96199817230746), (('in', 'the'), 283.7455317900602), (('Energy', 'Regulatory'), 267.097281579992), (('San', 'Diego'), 261.5193490060009), (('Included', 'Inside'), 258.7476601552044), (('AM', 'To'), 256.6235737792331), (('Charges', 'Included'), 251.39975935136536)]\n",
      "[(('the', 'state'), 15.122401806763376), (('of', 'the'), 13.197296044544746), (('in', 'the'), 10.280778103100095), (('for', 'the'), 8.598728328370543), (('will', 'be'), 7.64593973792111), (('more', 'than'), 7.301336162675887), (('to', 'be'), 7.044207512069764), (('on', 'the'), 6.698167460029527), (('Department', 'of'), 6.308558809939814), (('spot', 'market'), 6.306470447720334), (('Gov', 'Gray'), 6.158366549165973), (('PG', 'E'), 6.156332405614054), (('at', 'the'), 6.134968347890571), (('has', 'been'), 6.026663886916707), (('by', 'the'), 6.012355658884259), (('Gray', 'Davis'), 5.977547869636435), (('would', 'be'), 5.888491108250257), (('Southern', 'California'), 5.8727471890741105), (('he', 'said'), 5.8587146268261705), (('of', 'Water'), 5.763581895282768), (('PM', 'To'), 5.726815004585962), (('said', 'he'), 5.685719436012203), (('that', 'the'), 5.620469915631722), (('Message', 'From'), 5.562678482268799), (('from', 'the'), 5.374684325306581), (('with', 'the'), 5.2704813647767565), (('have', 'been'), 5.207047171191115), (('to', 'pay'), 5.154396053790195), (('part', 'of'), 5.125491585121372), (('in', 'California'), 5.116600455632331), (('natural', 'gas'), 5.0896850457670295), (('would', 'have'), 5.0886259410714345), (('Duke', 'Energy'), 5.0733201876168135), (('San', 'Francisco'), 4.991968068081261), (('power', 'plant'), 4.984111033079535), (('and', 'other'), 4.981501730530807), (('energy', 'crisis'), 4.968663039180615), (('out', 'of'), 4.950506978545573), (('the', 'first'), 4.932367878937829), (('it', 'was'), 4.88393535581975)]\n"
     ]
    },
    {
     "data": {
      "text/plain": [
       "['chi_sq',\n",
       " 'dice',\n",
       " 'fisher',\n",
       " 'jaccard',\n",
       " 'likelihood_ratio',\n",
       " 'mi_like',\n",
       " 'phi_sq',\n",
       " 'pmi',\n",
       " 'poisson_stirling',\n",
       " 'raw_freq',\n",
       " 'student_t']"
      ]
     },
     "execution_count": 29,
     "metadata": {},
     "output_type": "execute_result"
    }
   ],
   "source": [
    "def count_bigram(count, wordsTuple, total):\n",
    "    return count\n",
    "#print(bigrams.nbest(count_bigram,n=10))\n",
    "bigram_measures = nltk.collocations.BigramAssocMeasures()\n",
    "print(bigrams_nltk.score_ngrams(bigram_measures.likelihood_ratio)[:25]) # likelihood of token a given token b / likelihood of token a\n",
    "#print(bigrams_nltk.score_ngrams(bigram_measures.raw_freq)[:25])\n",
    "#print([i for i in bigrams_nltk.score_ngrams(bigram_measures.jaccard) if i[1]!=1][0:25])\n",
    "print(bigrams_nltk.score_ngrams(bigram_measures.student_t)[:40])\n",
    "[s for s in dir(bigram_measures) if s[0] != '_']"
   ]
  },
  {
   "cell_type": "markdown",
   "metadata": {
    "slideshow": {
     "slide_type": "slide"
    }
   },
   "source": [
    "**Exercises**\n",
    "Ex.2.1\n",
    "* Print the colloction measure of all the matched person names found in using your own regex.\n",
    "* Replace the 10 names with the highest collocation measure, with a new identifier in the original string:\n",
    "    '/NAME/%s_%s__'%(collocation)\n"
   ]
  },
  {
   "cell_type": "code",
   "execution_count": 30,
   "metadata": {
    "collapsed": true,
    "scrolled": true,
    "slideshow": {
     "slide_type": "subslide"
    }
   },
   "outputs": [],
   "source": [
    "#dict(bigrams_nltk.score_ngrams(bigram_measures.student_t)[:100])"
   ]
  },
  {
   "cell_type": "markdown",
   "metadata": {
    "slideshow": {
     "slide_type": "slide"
    }
   },
   "source": [
    "# Lexical approaches to information extraction\n",
    "With this approach we simply we simply compare text to a set of words curated to mean something specific.\n",
    "\n",
    "This approach is widely used for sentiment analysis, but can also be used for prototyping other measurements including political topics: e.g. ['Climate change','co2','Global warming'].  "
   ]
  },
  {
   "cell_type": "markdown",
   "metadata": {
    "slideshow": {
     "slide_type": "subslide"
    }
   },
   "source": [
    "## Sentiment analysis\n",
    "Here we are gonna be comparing a few off-the-shelf lexical and rulebased approaches:\n",
    "\n",
    "* [Afinn (is danish!)](http://neuro.imm.dtu.dk/wiki/AFINN), \n",
    "* [Liu Hu (lexical)](http://www.cs.uic.edu/~liub/FBS/sentiment-analysis.html) and \n",
    "* [Vader (lexical and rulebased)](https://github.com/cjhutto/vaderSentiment).\n",
    "\n",
    "* ** Purely Lexical ** Naively Matching positive words. *\"You are beautiful.\"* \n",
    "* ** Rule-based ** Can Adopt hard-coded rules to counter more or less simple negations. *\"You are not particularly beautiful.\"*\n",
    "\n",
    ".. still lacks the ability to understand that the connotations: *\"You are extremely beautiful on the outside.\"*\n",
    "\n",
    "* ** Modelbased ** Supervised Models trained to adopt many different expression of emotions: for some exciting ones lookup **DeepMoji**, or the so-called **sentiment neuron**. \n"
   ]
  },
  {
   "cell_type": "code",
   "execution_count": 194,
   "metadata": {
    "slideshow": {
     "slide_type": "subslide"
    }
   },
   "outputs": [
    {
     "data": {
      "text/plain": [
       "'spoon-fed'"
      ]
     },
     "execution_count": 194,
     "metadata": {},
     "output_type": "execute_result"
    }
   ],
   "source": [
    "from nltk.corpus import opinion_lexicon\n",
    "negative_words = opinion_lexicon.negative()\n",
    "negative_words_set = set(opinion_lexicon.negative())\n",
    "#import requests\n",
    "#positive = set(requests.get('https://raw.githubusercontent.com/justingrimmer/WUSTL/master/positive-words.txt').text.split(';')[-1].split())\n",
    "#negative = set(requests.get('https://raw.githubusercontent.com/justingrimmer/WUSTL/master/negative-words.txt').text.split(';')[-1].split())\n",
    "#len(negative&negative_words_set),len(negative),len(negative_words_set)\n",
    "#negative_words_set-negative,negative-negative_words_set\n",
    "import random\n",
    "random.choice(negative_words)"
   ]
  },
  {
   "cell_type": "code",
   "execution_count": null,
   "metadata": {
    "collapsed": true,
    "slideshow": {
     "slide_type": "slide"
    }
   },
   "outputs": [],
   "source": [
    "%timeit 'fuck' in negative_words\n",
    "%timeit 'fuck' in negative_words_set # remember to lookup the lexicon in a set"
   ]
  },
  {
   "cell_type": "code",
   "execution_count": 198,
   "metadata": {
    "slideshow": {
     "slide_type": "subslide"
    }
   },
   "outputs": [
    {
     "data": {
      "text/plain": [
       "(0.0, 0.3333333333333333)"
      ]
     },
     "execution_count": 198,
     "metadata": {},
     "output_type": "execute_result"
    }
   ],
   "source": [
    "negative_words = set(opinion_lexicon.negative())\n",
    "positive_words = set(opinion_lexicon.positive())\n",
    "def match2lexicon(sentence,s):\n",
    "    matched = [w for w in sentence if w in s]\n",
    "    return matched\n",
    "def lexical_sentiment(sentence):\n",
    "    neg_sentence = match2lexicon(sentence,negative_words)\n",
    "    pos_sentence = match2lexicon(sentence,positive_words)\n",
    "    polarity = (len(pos_sentence)-len(neg_sentence))/len(sentence)\n",
    "    return polarity\n",
    "lexical_sentiment(['I','Love','You']),lexical_sentiment(['i','love','you']) # case-sensitive"
   ]
  },
  {
   "cell_type": "code",
   "execution_count": 199,
   "metadata": {
    "collapsed": true,
    "slideshow": {
     "slide_type": "subslide"
    }
   },
   "outputs": [],
   "source": [
    "sample_sentences = nltk.sent_tokenize(' '.join(enron_df.sample(50).content.values))\n",
    "tokenized_sentences = [nltk.word_tokenize(sentence) for sentence in sample_sentences]\n",
    "\n",
    "polarity_sentences = [lexical_sentiment(sentence) for sentence in tokenized_sentences]"
   ]
  },
  {
   "cell_type": "code",
   "execution_count": 190,
   "metadata": {
    "collapsed": true,
    "slideshow": {
     "slide_type": "subslide"
    }
   },
   "outputs": [],
   "source": [
    "import afinn # another lexicon version\n",
    "Afinn = afinn.Afinn(language='en',emoticons=True)"
   ]
  },
  {
   "cell_type": "code",
   "execution_count": 200,
   "metadata": {
    "collapsed": true
   },
   "outputs": [],
   "source": [
    "afinn_sentences = [Afinn.score(sentence) for sentence in sample_sentences]"
   ]
  },
  {
   "cell_type": "code",
   "execution_count": 203,
   "metadata": {},
   "outputs": [
    {
     "data": {
      "image/png": "[encoded data removed]",
      "text/plain": [
       "<Figure size 432x288 with 1 Axes>"
      ]
     },
     "metadata": {},
     "output_type": "display_data"
    }
   ],
   "source": [
    "plt.scatter(afinn_sentences,polarity_sentences)\n",
    "plt.xlabel('Afinn')\n",
    "plt.ylabel('Li Hue');"
   ]
  },
  {
   "cell_type": "markdown",
   "metadata": {
    "slideshow": {
     "slide_type": "slide"
    }
   },
   "source": [
    "** Rulebased **"
   ]
  },
  {
   "cell_type": "code",
   "execution_count": 205,
   "metadata": {
    "slideshow": {
     "slide_type": "subslide"
    }
   },
   "outputs": [
    {
     "data": {
      "text/plain": [
       "re.compile(r\"\\n    (?:\\n      [<>]?\\n      [:;=8]                     # eyes\\n      [\\-o\\*\\']?                 # optional nose\\n      [\\)\\]\\(\\[dDpP/\\:\\}\\{@\\|\\\\] # mouth\\n      |\\n      [\\)\\]\\(\\[dDpP/\\:\\}\\{@\\|\\\\] # mouth\\n      [\\-o\\*\\']?                 # optional nose\\n      [:;=8]                     # eyes\\n      [<>]?\\n      |\\n      <3                         # heart\\n    )\",\n",
       "re.IGNORECASE|re.UNICODE|re.VERBOSE)"
      ]
     },
     "execution_count": 205,
     "metadata": {},
     "output_type": "execute_result"
    }
   ],
   "source": [
    "from textblob import TextBlob\n",
    "import nltk.sentiment\n",
    "nltk.sentiment.util.EMOTICON_RE\n",
    "#nltk.sentiment.util.HAPPY\n",
    "#nltk.sentiment.util.SAD"
   ]
  },
  {
   "cell_type": "code",
   "execution_count": 218,
   "metadata": {},
   "outputs": [
    {
     "name": "stdout",
     "output_type": "stream",
     "text": [
      "{'neg': 0.512, 'neu': 0.488, 'pos': 0.0, 'compound': -0.4847}\n",
      "Sentiment(polarity=-0.425, subjectivity=1.0)\n"
     ]
    }
   ],
   "source": [
    "sentences = ['You are so beautiful, to me','You are very beautiful, on the inside','You are not beautiful']\n",
    "print(sentiment_analyzer.polarity_scores(sentences[-1]))\n",
    "b = TextBlob(sentences[-1])\n",
    "print(b.sentiment)"
   ]
  },
  {
   "cell_type": "code",
   "execution_count": 214,
   "metadata": {
    "collapsed": true,
    "slideshow": {
     "slide_type": "subslide"
    }
   },
   "outputs": [],
   "source": [
    "\n",
    "textblob_sentences = [TextBlob(sentence).sentiment.polarity for sentence in sample_sentences]\n",
    "\n",
    "sentiment_analyzer = nltk.sentiment.SentimentIntensityAnalyzer() # vader sentiment analyzer. Lexicon and rulebased.\n",
    "vader_sentiment = [sentiment_analyzer.polarity_scores(sentence) for sentence in sample_sentences]\n",
    "vader_sentiment = [sentiment['pos']-sentiment['neg'] for sentiment in vader_sentiment]\n"
   ]
  },
  {
   "cell_type": "code",
   "execution_count": 216,
   "metadata": {
    "slideshow": {
     "slide_type": "subslide"
    }
   },
   "outputs": [
    {
     "data": {
      "text/plain": [
       "<matplotlib.collections.PathCollection at 0x7f0830683080>"
      ]
     },
     "execution_count": 216,
     "metadata": {},
     "output_type": "execute_result"
    },
    {
     "data": {
      "image/png": "[encoded data removed]",
      "text/plain": [
       "<Figure size 432x288 with 1 Axes>"
      ]
     },
     "metadata": {},
     "output_type": "display_data"
    }
   ],
   "source": [
    "# Make an interactive plot or sample discord between the sentiment models. \n",
    "plt.scatter(vader_sentiment,textblob_sentences)"
   ]
  },
  {
   "cell_type": "markdown",
   "metadata": {
    "slideshow": {
     "slide_type": "slide"
    }
   },
   "source": [
    "\n",
    "# Modelbased Information Extraction"
   ]
  },
  {
   "cell_type": "markdown",
   "metadata": {
    "slideshow": {
     "slide_type": "fragment"
    }
   },
   "source": [
    "<center> ** Lets bring in the big guns **<center>\n",
    "![](https://www.rei.com/media/2a65e55e-8a10-4f8a-87b9-00445c53140f?size=1020x510)"
   ]
  },
  {
   "cell_type": "markdown",
   "metadata": {
    "slideshow": {
     "slide_type": "subslide"
    }
   },
   "source": [
    "The field of natural language processing (NLP) have developed models for parsing natural language extracting relations and entities.\n",
    "\n",
    "Core tasks include: \n",
    "* 1)Tagging words by their part of speech (POS) to reveal the linguistic role they play in the sentence (e.g., Verb, Noun, Adjective, etc.);\n",
    "* 2) tagging words as named entities (NER) such as places or organizations; \n",
    "* 3) structuring or \"parsing\" sentences into nested phrases that are local to, describe or depend on one another; and \n",
    "* 4) extracting informational claims from those phrases, like the Subject-Verb-Object (SVO)\n",
    "\n",
    "NLTK can do this, however not with state-of-the-art results. So here we tap into other ressources especially the CoreNLP framework developed at Stanford by Christopher Manning and others."
   ]
  },
  {
   "cell_type": "markdown",
   "metadata": {
    "slideshow": {
     "slide_type": "slide"
    }
   },
   "source": [
    "# Named Entity Recognition (NER)\n",
    "To continue our example about extracting names, we can now compare it to state of the art methods for extracting entities. \n",
    "\n",
    "Important to note here, is that: we are way beyond Regular expressions. \n",
    "\n",
    "These are supervised models, trained to recognize entities, from position in sentence, and semantic knowledge about words built into latent representations."
   ]
  },
  {
   "cell_type": "code",
   "execution_count": 143,
   "metadata": {
    "slideshow": {
     "slide_type": "subslide"
    }
   },
   "outputs": [
    {
     "data": {
      "text/plain": [
       "(254, 284)"
      ]
     },
     "execution_count": 143,
     "metadata": {},
     "output_type": "execute_result"
    }
   ],
   "source": [
    "## STANFORDS IMPLEMENTATION\n",
    "stanford_entities = stanford.nerTagger.tag(nltk.word_tokenize(string_sample[0:10000]))\n",
    "## SPACYs implementation\n",
    "import spacy\n",
    "nlp = spacy.load('en')\n",
    "enron_processed_spacy = nlp(string_sample[0:10000])\n",
    "spacy_entities = enron_processed_spacy.ents\n",
    "len([ent for ent in stanford_entities if ent[1]!='O']),len(spacy_entities)"
   ]
  },
  {
   "cell_type": "code",
   "execution_count": 66,
   "metadata": {
    "scrolled": true,
    "slideshow": {
     "slide_type": "subslide"
    }
   },
   "outputs": [
    {
     "data": {
      "text/plain": [
       "[('--', 'PERSON'),\n",
       " ('Sally', 'PERSON'),\n",
       " ('Marshall', 'PERSON'),\n",
       " ('Lucy', 'PERSON'),\n",
       " ('Miller', 'PERSON'),\n",
       " ('Leff', 'PERSON'),\n",
       " ('Dan', 'PERSON'),\n",
       " ('Hickerson', 'PERSON'),\n",
       " ('Gary', 'PERSON'),\n",
       " ('Malcolm', 'PERSON'),\n",
       " ('Rodney', 'PERSON'),\n",
       " ('Hughes', 'ORGANIZATION'),\n",
       " ('James', 'PERSON'),\n",
       " ('A.', 'PERSON'),\n",
       " ('Dimichele', 'PERSON'),\n",
       " ('Rich', 'PERSON'),\n",
       " ('Causey', 'PERSON'),\n",
       " ('Richard', 'PERSON'),\n",
       " ('Hermann', 'PERSON'),\n",
       " ('Robert', 'PERSON'),\n",
       " ('Rick', 'PERSON'),\n",
       " ('Beck', 'PERSON'),\n",
       " ('Sally', 'PERSON'),\n",
       " ('Haedicke', 'PERSON'),\n",
       " ('Mark', 'PERSON'),\n",
       " ('E.', 'PERSON'),\n",
       " ('Hayslett', 'PERSON'),\n",
       " ('Rod', 'PERSON'),\n",
       " ('Shaw', 'PERSON'),\n",
       " ('Eric', 'PERSON'),\n",
       " ('Collins', 'PERSON'),\n",
       " ('Angie', 'PERSON'),\n",
       " ('Hinojosa', 'PERSON'),\n",
       " ('Esmeralda', 'PERSON'),\n",
       " ('Zoch', 'PERSON'),\n",
       " ('Judy', 'PERSON'),\n",
       " ('Elbertson', 'PERSON'),\n",
       " ('Janette', 'PERSON'),\n",
       " ('Valdez', 'LOCATION'),\n",
       " ('Christina', 'PERSON'),\n",
       " ('Heathman', 'PERSON'),\n",
       " ('Karen', 'PERSON'),\n",
       " ('K.', 'PERSON'),\n",
       " ('Westbrook', 'PERSON'),\n",
       " ('Sharron', 'PERSON'),\n",
       " ('Alcantara', 'PERSON'),\n",
       " ('Ana', 'PERSON'),\n",
       " ('Collett', 'PERSON'),\n",
       " ('Crissy', 'PERSON'),\n",
       " ('Blackwood', 'PERSON'),\n",
       " ('Short', 'PERSON'),\n",
       " ('Carol', 'PERSON'),\n",
       " ('Post', 'ORGANIZATION'),\n",
       " ('Petition', 'ORGANIZATION'),\n",
       " ('Meeting', 'ORGANIZATION'),\n",
       " ('Enron', 'ORGANIZATION'),\n",
       " ('Wholesale', 'ORGANIZATION'),\n",
       " ('Meeting', 'ORGANIZATION'),\n",
       " ('Lucy', 'PERSON'),\n",
       " ('Marshall', 'PERSON'),\n",
       " ('Executive', 'ORGANIZATION'),\n",
       " ('Assistant', 'ORGANIZATION'),\n",
       " ('to', 'ORGANIZATION'),\n",
       " ('Jim', 'ORGANIZATION'),\n",
       " ('Fallon', 'ORGANIZATION'),\n",
       " ('Office', 'ORGANIZATION'),\n",
       " ('of', 'ORGANIZATION'),\n",
       " ('the', 'ORGANIZATION'),\n",
       " ('Chairman', 'ORGANIZATION'),\n",
       " ('Enron', 'ORGANIZATION'),\n",
       " ('Broadband', 'ORGANIZATION'),\n",
       " ('Services', 'ORGANIZATION'),\n",
       " ('Office', 'ORGANIZATION'),\n",
       " ('Kathy', 'PERSON'),\n",
       " ('Dana', 'PERSON'),\n",
       " ('Davis', 'PERSON'),\n",
       " ('Edith', 'PERSON'),\n",
       " ('Dana', 'PERSON'),\n",
       " ('DavisHOUECT', 'PERSON'),\n",
       " ('EdithErica', 'ORGANIZATION')]"
      ]
     },
     "execution_count": 66,
     "metadata": {},
     "output_type": "execute_result"
    }
   ],
   "source": [
    "\n",
    "[ent for ent in stanford_entities if ent[1]!='O']\n"
   ]
  },
  {
   "cell_type": "markdown",
   "metadata": {
    "slideshow": {
     "slide_type": "slide"
    }
   },
   "source": [
    "## These entities serves as important merge points for further analysis.\n",
    "e.g. geographical as we spoke about earlier."
   ]
  },
  {
   "cell_type": "code",
   "execution_count": null,
   "metadata": {
    "collapsed": true,
    "slideshow": {
     "slide_type": "subslide"
    }
   },
   "outputs": [],
   "source": [
    "import geopy # install the geopy module: pip install geopy\n",
    "from geopy.geocoders import Nominatim\n",
    "geolocator = Nominatim()\n",
    "Counter([ent.label_ for ent in spacy_entities])\n",
    "for ent in spacy_entities:\n",
    "    if ent.label_=='GPE':\n",
    "        geocoded = geolocator.geocode(ent)\n",
    "        print(ent,geocoded,geocoded.latitude,geocoded.longitude)\n",
    "        \n",
    "        break"
   ]
  },
  {
   "cell_type": "markdown",
   "metadata": {
    "slideshow": {
     "slide_type": "subslide"
    }
   },
   "source": [
    "But also people and organizations."
   ]
  },
  {
   "cell_type": "code",
   "execution_count": 58,
   "metadata": {
    "collapsed": true,
    "slideshow": {
     "slide_type": "subslide"
    }
   },
   "outputs": [],
   "source": [
    "persons_spacy = set()\n",
    "for ent in spacy_entities:\n",
    "    if ent.label_=='PERSON':\n",
    "        persons_spacy.add(str(ent))\n"
   ]
  },
  {
   "cell_type": "code",
   "execution_count": 59,
   "metadata": {
    "slideshow": {
     "slide_type": "subslide"
    }
   },
   "outputs": [
    {
     "data": {
      "text/plain": [
       "(54, 34, 16)"
      ]
     },
     "execution_count": 59,
     "metadata": {},
     "output_type": "execute_result"
    }
   ],
   "source": [
    "persons_stanford = set([ent[0] for ent in stanford_entities if ent[1]=='PERSON'])\n",
    "len(persons_stanford),len(persons_spacy),len(persons_stanford&persons_spacy)"
   ]
  },
  {
   "cell_type": "code",
   "execution_count": 68,
   "metadata": {
    "collapsed": true,
    "slideshow": {
     "slide_type": "subslide"
    }
   },
   "outputs": [],
   "source": [
    "#persons_stanford&persons_spacy\n",
    "#persons_stanford"
   ]
  },
  {
   "cell_type": "markdown",
   "metadata": {
    "slideshow": {
     "slide_type": "slide"
    }
   },
   "source": [
    "# Part-of-Speech (POS) tagging\n",
    "POS-tagging is about classifing the semantic role of each word in a sentence. \n",
    "The Stanford POS tagger uses the [Penn Treebank tag set]('http://repository.upenn.edu/cgi/viewcontent.cgi?article=1603&context=cis_reports') to POS tag words from input sentences. "
   ]
  },
  {
   "cell_type": "markdown",
   "metadata": {
    "slideshow": {
     "slide_type": "subslide"
    }
   },
   "source": [
    "|#. |Tag |Description |\n",
    "|---|----|------------|\n",
    "|1.     |CC     |Coordinating conjunction\n",
    "|2.     |CD     |Cardinal number\n",
    "|3.     |DT     |Determiner\n",
    "|4.     |EX     |Existential there\n",
    "|5.     |FW     |Foreign word\n",
    "|6.     |IN     |Preposition or subordinating conjunction\n",
    "|7.     |JJ     |Adjective\n",
    "|8.     |JJR|   Adjective, comparative\n",
    "|9.     |JJS|   Adjective, superlative\n",
    "|10.|   LS      |List item marker\n",
    "|11.|   MD      |Modal\n",
    "|12.|   NN      |Noun, singular or mass\n",
    "|13.|   NNS     |Noun, plural\n",
    "|14.|   NNP     |Proper noun, singular\n",
    "|15.|   NNPS|   Proper noun, plural\n",
    "|16.|   PDT     |Predeterminer\n",
    "|17.|   POS     |Possessive ending\n",
    "|18.|   PRP     |Personal pronoun\n",
    "|19.|   PRP\\$|  Possessive pronoun\n",
    "|20.|   RB      |Adverb\n",
    "|21.|   RBR     |Adverb, comparative\n",
    "|22.|   RBS     |Adverb, superlative\n",
    "|23.|   RP      |Particle\n",
    "|24.|   SYM     |Symbol\n",
    "|25.|   TO      |to\n",
    "|26.|   UH      |Interjection\n",
    "|27.|   VB      |Verb, base form\n",
    "|28.|   VBD     |Verb, past tense\n",
    "|29.|   VBG     |Verb, gerund or present participle\n",
    "|30.|   VBN     |Verb, past participle\n",
    "|31.|   VBP     |Verb, non-3rd person singular present\n",
    "|32.|   VBZ     |Verb, 3rd person singular present\n",
    "|33.|   WDT     |Wh-determiner\n",
    "|34.|   WP      |Wh-pronoun\n",
    "|35.|   WP$     |Possessive wh-pronoun\n",
    "|36.|   WRB     |Wh-adverb\n"
   ]
  },
  {
   "cell_type": "code",
   "execution_count": 67,
   "metadata": {
    "slideshow": {
     "slide_type": "subslide"
    }
   },
   "outputs": [
    {
     "name": "stdout",
     "output_type": "stream",
     "text": [
      "[[('I', 'PRP'), ('saw', 'VBD'), ('the', 'DT'), ('elephant', 'NN'), ('in', 'IN'), ('my', 'PRP$'), ('pajamas', 'NNS'), ('.', '.')], [('The', 'DT'), ('quick', 'JJ'), ('brown', 'JJ'), ('fox', 'NN'), ('jumped', 'VBD'), ('over', 'IN'), ('the', 'DT'), ('lazy', 'JJ'), ('dog', 'NN'), ('.', '.')], [('While', 'IN'), ('in', 'IN'), ('France', 'NNP'), (',', ','), ('Christine', 'NNP'), ('Lagarde', 'NNP'), ('discussed', 'VBD'), ('short-term', 'JJ'), ('stimulus', 'NN'), ('efforts', 'NNS'), ('in', 'IN'), ('a', 'DT'), ('recent', 'JJ'), ('interview', 'NN'), ('with', 'IN'), ('the', 'DT'), ('Wall', 'NNP'), ('Street', 'NNP'), ('Journal', 'NNP'), ('.', '.')], [('Trayvon', 'NNP'), ('Benjamin', 'NNP'), ('Martin', 'NNP'), ('was', 'VBD'), ('an', 'DT'), ('African', 'NNP'), ('American', 'NNP'), ('from', 'IN'), ('Miami', 'NNP'), ('Gardens', 'NNP'), (',', ','), ('Florida', 'NNP'), (',', ','), ('who', 'WP'), (',', ','), ('at', 'IN'), ('17', 'CD'), ('years', 'NNS'), ('old', 'JJ'), (',', ','), ('was', 'VBD'), ('fatally', 'RB'), ('shot', 'VBN'), ('by', 'IN'), ('George', 'NNP'), ('Zimmerman', 'NNP'), (',', ','), ('a', 'DT'), ('neighborhood', 'NN'), ('watch', 'NN'), ('volunteer', 'NN'), (',', ','), ('in', 'IN'), ('Sanford', 'NNP'), (',', ','), ('Florida', 'NNP'), ('.', '.')], [('Buffalo', 'NNP'), ('buffalo', 'NN'), ('Buffalo', 'NNP'), ('buffalo', 'NN'), ('buffalo', 'NN'), ('buffalo', 'NN'), ('Buffalo', 'NNP'), ('buffalo', 'NN')]]\n"
     ]
    }
   ],
   "source": [
    "text = ['I saw the elephant in my pajamas.', 'The quick brown fox jumped over the lazy dog.', 'While in France, Christine Lagarde discussed short-term stimulus efforts in a recent interview with the Wall Street Journal.', 'Trayvon Benjamin Martin was an African American from Miami Gardens, Florida, who, at 17 years old, was fatally shot by George Zimmerman, a neighborhood watch volunteer, in Sanford, Florida.', 'Buffalo buffalo Buffalo buffalo buffalo buffalo Buffalo buffalo']\n",
    "tokenized_text = [nltk.word_tokenize(t) for t in text]\n",
    "pos_sents = stanford.postTagger.tag_sents(tokenized_text)\n",
    "print(pos_sents)"
   ]
  },
  {
   "cell_type": "code",
   "execution_count": null,
   "metadata": {
    "collapsed": true,
    "slideshow": {
     "slide_type": "subslide"
    }
   },
   "outputs": [],
   "source": [
    "# Under these conditions it might work reasonably well."
   ]
  },
  {
   "cell_type": "code",
   "execution_count": 132,
   "metadata": {
    "collapsed": true,
    "slideshow": {
     "slide_type": "subslide"
    }
   },
   "outputs": [],
   "source": [
    "# lets see what the different persons are doing and saying.\n",
    "pos_tags = stanford.postTagger.tag_sents([nltk.word_tokenize(sent) for sent in nltk.sent_tokenize(string_sample[0:25000])])"
   ]
  },
  {
   "cell_type": "code",
   "execution_count": null,
   "metadata": {
    "collapsed": true,
    "slideshow": {
     "slide_type": "subslide"
    }
   },
   "outputs": [],
   "source": [
    "# other pos-taggers\n",
    "nltk.pos_tag()\n",
    "b = TextBlob(' '.join(enron_df.iloc[0:10].content))\n",
    "b.tags\n",
    "for token in enron_processed_spacy[0:10]:\n",
    "    print(token.text,token.ent_type,token.ent_type_)\n"
   ]
  },
  {
   "cell_type": "code",
   "execution_count": 134,
   "metadata": {
    "slideshow": {
     "slide_type": "subslide"
    }
   },
   "outputs": [
    {
     "data": {
      "text/plain": [
       "{'--': ['settle', 'changing', 'build', 'been'],\n",
       " '-- -- -- -- -- -- -- -- -- -- --': ['Forwarded', 'Forwarded', 'Forwarded'],\n",
       " 'Davis': ['following', 'said', 'began', 'had', 'was', 'kicked', 'resolving'],\n",
       " 'Robert': ['Buy'],\n",
       " 'Shaw': ['took']}"
      ]
     },
     "execution_count": 134,
     "metadata": {},
     "output_type": "execute_result"
    }
   ],
   "source": [
    "verbs = set(['VB','VBD','VBN','VBG'])\n",
    "def get_person2kind(word_classes,skips_allowed=3):\n",
    "    person2kind = {}\n",
    "    for sentence in pos_tags:\n",
    "        active = False\n",
    "        for word,kind in sentence:\n",
    "            if word in persons_stanford:\n",
    "                if active and skip==0:\n",
    "                    person+=(' '+word)\n",
    "                    continue\n",
    "                active = True\n",
    "                skip = 0\n",
    "                person = word\n",
    "                continue\n",
    "            elif active:\n",
    "                if kind in word_classes:\n",
    "                    if person in person2kind:\n",
    "                        person2kind[person].append(word)\n",
    "                    else:\n",
    "                        person2kind[person] = [word]\n",
    "                    active = False\n",
    "                skip+=1\n",
    "                if skip>skips_allowed:\n",
    "                    active = False\n",
    "    return person2kind\n",
    "get_person2kind(verbs)"
   ]
  },
  {
   "cell_type": "markdown",
   "metadata": {
    "slideshow": {
     "slide_type": "slide"
    }
   },
   "source": [
    "While the Core objective in NLP, and AI research more specifically, is to develop generic models, that can handle almost any situation. \n",
    "\n",
    "However one should remember that they were trained on specific samples and datasets. While they might be highly effective under certain conditions, others might yield them useless."
   ]
  },
  {
   "cell_type": "markdown",
   "metadata": {
    "slideshow": {
     "slide_type": "subslide"
    }
   },
   "source": [
    "# Subject-Verb-Object\n"
   ]
  },
  {
   "cell_type": "code",
   "execution_count": 505,
   "metadata": {
    "collapsed": true,
    "scrolled": true,
    "slideshow": {
     "slide_type": "slide"
    }
   },
   "outputs": [],
   "source": [
    "ieDF = stanford.openIE(s)\n"
   ]
  },
  {
   "cell_type": "code",
   "execution_count": 182,
   "metadata": {
    "scrolled": true,
    "slideshow": {
     "slide_type": "subslide"
    }
   },
   "outputs": [
    {
     "data": {
      "text/html": [
       "<div>\n",
       "<style scoped>\n",
       "    .dataframe tbody tr th:only-of-type {\n",
       "        vertical-align: middle;\n",
       "    }\n",
       "\n",
       "    .dataframe tbody tr th {\n",
       "        vertical-align: top;\n",
       "    }\n",
       "\n",
       "    .dataframe thead th {\n",
       "        text-align: right;\n",
       "    }\n",
       "</style>\n",
       "<table border=\"1\" class=\"dataframe\">\n",
       "  <thead>\n",
       "    <tr style=\"text-align: right;\">\n",
       "      <th></th>\n",
       "      <th>certainty</th>\n",
       "      <th>subject</th>\n",
       "      <th>verb</th>\n",
       "      <th>object</th>\n",
       "    </tr>\n",
       "  </thead>\n",
       "  <tbody>\n",
       "    <tr>\n",
       "      <th>0</th>\n",
       "      <td>0.518918</td>\n",
       "      <td>any/dti irregularities/nns</td>\n",
       "      <td>took/vbd</td>\n",
       "      <td>place/nn</td>\n",
       "    </tr>\n",
       "    <tr>\n",
       "      <th>1</th>\n",
       "      <td>1.000000</td>\n",
       "      <td>The/at Fulton/np-tl County/nn-tl Grand/jj-tl J...</td>\n",
       "      <td>has</td>\n",
       "      <td>np $ recent/jj primary/nn election/nn produced...</td>\n",
       "    </tr>\n",
       "    <tr>\n",
       "      <th>2</th>\n",
       "      <td>1.000000</td>\n",
       "      <td>The/at September-October/np term/nn jury/nn ha...</td>\n",
       "      <td>of/in</td>\n",
       "      <td>possible/jj irregularities/nns</td>\n",
       "    </tr>\n",
       "    <tr>\n",
       "      <th>3</th>\n",
       "      <td>1.000000</td>\n",
       "      <td>The/at September-October/np term/nn jury/nn ha...</td>\n",
       "      <td>of/in</td>\n",
       "      <td>possible/jj irregularities/nns</td>\n",
       "    </tr>\n",
       "    <tr>\n",
       "      <th>4</th>\n",
       "      <td>1.000000</td>\n",
       "      <td>The/at September-October/np term/nn jury/nn ha...</td>\n",
       "      <td>of/in</td>\n",
       "      <td>irregularities/nns</td>\n",
       "    </tr>\n",
       "    <tr>\n",
       "      <th>5</th>\n",
       "      <td>1.000000</td>\n",
       "      <td>The/at September-October/np term/nn jury/nn ha...</td>\n",
       "      <td>of/in</td>\n",
       "      <td>irregularities/nns</td>\n",
       "    </tr>\n",
       "    <tr>\n",
       "      <th>6</th>\n",
       "      <td>1.000000</td>\n",
       "      <td>did/dod find/vb</td>\n",
       "      <td>that/cs</td>\n",
       "      <td>many/ap of/in Georgia 's np $ registration/nn ...</td>\n",
       "    </tr>\n",
       "    <tr>\n",
       "      <th>7</th>\n",
       "      <td>1.000000</td>\n",
       "      <td>many/ap of/in Georgia</td>\n",
       "      <td>has</td>\n",
       "      <td>np $ registration/nn and/cc election/nn laws/n...</td>\n",
       "    </tr>\n",
       "    <tr>\n",
       "      <th>8</th>\n",
       "      <td>1.000000</td>\n",
       "      <td>did/dod find/vb</td>\n",
       "      <td>that/cs</td>\n",
       "      <td>many/ap of/in Georgia 's np and/cc election/nn...</td>\n",
       "    </tr>\n",
       "    <tr>\n",
       "      <th>9</th>\n",
       "      <td>1.000000</td>\n",
       "      <td>did/dod find/vb</td>\n",
       "      <td>that/cs</td>\n",
       "      <td>many/ap of/in Georgia 's np and/cc laws/nns ar...</td>\n",
       "    </tr>\n",
       "    <tr>\n",
       "      <th>10</th>\n",
       "      <td>1.000000</td>\n",
       "      <td>did/dod find/vb</td>\n",
       "      <td>that/cs</td>\n",
       "      <td>many/ap of/in Georgia 's np and/cc laws/nns</td>\n",
       "    </tr>\n",
       "    <tr>\n",
       "      <th>11</th>\n",
       "      <td>1.000000</td>\n",
       "      <td>did/dod find/vb</td>\n",
       "      <td>that/cs</td>\n",
       "      <td>many/ap of/in Georgia 's np $ registration/nn ...</td>\n",
       "    </tr>\n",
       "    <tr>\n",
       "      <th>12</th>\n",
       "      <td>1.000000</td>\n",
       "      <td>did/dod find/vb</td>\n",
       "      <td>that/cs</td>\n",
       "      <td>many/ap of/in Georgia 's np $ registration/nn ...</td>\n",
       "    </tr>\n",
       "    <tr>\n",
       "      <th>13</th>\n",
       "      <td>1.000000</td>\n",
       "      <td>did/dod find/vb</td>\n",
       "      <td>that/cs</td>\n",
       "      <td>many/ap of/in Georgia 's np $ registration/nn ...</td>\n",
       "    </tr>\n",
       "    <tr>\n",
       "      <th>14</th>\n",
       "      <td>1.000000</td>\n",
       "      <td>did/dod find/vb</td>\n",
       "      <td>that/cs</td>\n",
       "      <td>many/ap of/in Georgia 's np and/cc election/nn...</td>\n",
       "    </tr>\n",
       "    <tr>\n",
       "      <th>15</th>\n",
       "      <td>1.000000</td>\n",
       "      <td>It/pps</td>\n",
       "      <td>recommended/vbd</td>\n",
       "      <td>that/cs legislators/nns</td>\n",
       "    </tr>\n",
       "    <tr>\n",
       "      <th>16</th>\n",
       "      <td>1.000000</td>\n",
       "      <td>It/pps</td>\n",
       "      <td>recommended/vbd</td>\n",
       "      <td>that/cs Fulton/np legislators/nns</td>\n",
       "    </tr>\n",
       "    <tr>\n",
       "      <th>17</th>\n",
       "      <td>1.000000</td>\n",
       "      <td>The/at grand/jj jury/nn commented/vbd on/in a/...</td>\n",
       "      <td>them/ppo the/at</td>\n",
       "      <td>Atlanta/np and/cc Fulton/np-tl County/nn-tl pu...</td>\n",
       "    </tr>\n",
       "    <tr>\n",
       "      <th>18</th>\n",
       "      <td>1.000000</td>\n",
       "      <td>these/dts</td>\n",
       "      <td>two/cd</td>\n",
       "      <td>offices/nns should/md be/be combined/vbn to/to...</td>\n",
       "    </tr>\n",
       "    <tr>\n",
       "      <th>19</th>\n",
       "      <td>1.000000</td>\n",
       "      <td>believes/vbz</td>\n",
       "      <td>two/cd</td>\n",
       "      <td>offices/nns should/md be/be combined/vbn to/to...</td>\n",
       "    </tr>\n",
       "    <tr>\n",
       "      <th>20</th>\n",
       "      <td>1.000000</td>\n",
       "      <td>these/dts</td>\n",
       "      <td>two/cd</td>\n",
       "      <td>offices/nns be/be combined/vbn to/to achieve/v...</td>\n",
       "    </tr>\n",
       "    <tr>\n",
       "      <th>21</th>\n",
       "      <td>1.000000</td>\n",
       "      <td>these/dts</td>\n",
       "      <td>two/cd</td>\n",
       "      <td>offices/nns should/md be/be combined/vbn to/to...</td>\n",
       "    </tr>\n",
       "    <tr>\n",
       "      <th>22</th>\n",
       "      <td>1.000000</td>\n",
       "      <td>these/dts</td>\n",
       "      <td>two/cd</td>\n",
       "      <td>offices/nns be/be combined/vbn to/to achieve/v...</td>\n",
       "    </tr>\n",
       "    <tr>\n",
       "      <th>23</th>\n",
       "      <td>1.000000</td>\n",
       "      <td>believes/vbz</td>\n",
       "      <td>two/cd</td>\n",
       "      <td>offices/nns be/be combined/vbn to/to achieve/v...</td>\n",
       "    </tr>\n",
       "    <tr>\n",
       "      <th>24</th>\n",
       "      <td>1.000000</td>\n",
       "      <td>believes/vbz</td>\n",
       "      <td>two/cd</td>\n",
       "      <td>offices/nns be/be combined/vbn to/to achieve/v...</td>\n",
       "    </tr>\n",
       "    <tr>\n",
       "      <th>25</th>\n",
       "      <td>1.000000</td>\n",
       "      <td>believes/vbz</td>\n",
       "      <td>two/cd</td>\n",
       "      <td>offices/nns should/md be/be combined/vbn to/to...</td>\n",
       "    </tr>\n",
       "    <tr>\n",
       "      <th>26</th>\n",
       "      <td>0.705757</td>\n",
       "      <td>lacking/vbg in/in experienced/vbn clerical/jj ...</td>\n",
       "      <td>as/cs</td>\n",
       "      <td>a/at result/nn of/in city/nn personnel/nns pol...</td>\n",
       "    </tr>\n",
       "    <tr>\n",
       "      <th>27</th>\n",
       "      <td>0.705757</td>\n",
       "      <td>is/bez lacking/vbg in/in experienced/vbn cleri...</td>\n",
       "      <td>as/cs</td>\n",
       "      <td>a/at result/nn of/in city/nn personnel/nns pol...</td>\n",
       "    </tr>\n",
       "    <tr>\n",
       "      <th>28</th>\n",
       "      <td>1.000000</td>\n",
       "      <td>take/vb steps/nns</td>\n",
       "      <td>to/to</td>\n",
       "      <td>remedy/vb</td>\n",
       "    </tr>\n",
       "    <tr>\n",
       "      <th>29</th>\n",
       "      <td>1.000000</td>\n",
       "      <td>steps/nns</td>\n",
       "      <td>to/to</td>\n",
       "      <td>remedy/vb</td>\n",
       "    </tr>\n",
       "    <tr>\n",
       "      <th>...</th>\n",
       "      <td>...</td>\n",
       "      <td>...</td>\n",
       "      <td>...</td>\n",
       "      <td>...</td>\n",
       "    </tr>\n",
       "    <tr>\n",
       "      <th>303</th>\n",
       "      <td>1.000000</td>\n",
       "      <td>his/pp year/nn as/cs</td>\n",
       "      <td>a/at</td>\n",
       "      <td>legislator/nn</td>\n",
       "    </tr>\n",
       "    <tr>\n",
       "      <th>304</th>\n",
       "      <td>1.000000</td>\n",
       "      <td>in/in his/pp $ year/nn as/cs</td>\n",
       "      <td>a/at</td>\n",
       "      <td>there/ex</td>\n",
       "    </tr>\n",
       "    <tr>\n",
       "      <th>305</th>\n",
       "      <td>1.000000</td>\n",
       "      <td>$ 13th/od year/nn as/cs</td>\n",
       "      <td>a/at</td>\n",
       "      <td>legislator/nn</td>\n",
       "    </tr>\n",
       "    <tr>\n",
       "      <th>306</th>\n",
       "      <td>1.000000</td>\n",
       "      <td>in/in his/pp year/nn as/cs</td>\n",
       "      <td>a/at</td>\n",
       "      <td>legislator/nn</td>\n",
       "    </tr>\n",
       "    <tr>\n",
       "      <th>307</th>\n",
       "      <td>1.000000</td>\n",
       "      <td>his/pp $ 13th/od year/nn as/cs</td>\n",
       "      <td>a/at</td>\n",
       "      <td>said/vbd there/ex</td>\n",
       "    </tr>\n",
       "    <tr>\n",
       "      <th>308</th>\n",
       "      <td>1.000000</td>\n",
       "      <td>in/in year/nn as/cs</td>\n",
       "      <td>a/at</td>\n",
       "      <td>said/vbd there/ex</td>\n",
       "    </tr>\n",
       "    <tr>\n",
       "      <th>309</th>\n",
       "      <td>1.000000</td>\n",
       "      <td>year/nn as/cs</td>\n",
       "      <td>a/at</td>\n",
       "      <td>said/vbd there/ex</td>\n",
       "    </tr>\n",
       "    <tr>\n",
       "      <th>310</th>\n",
       "      <td>1.000000</td>\n",
       "      <td>his/pp $ year/nn as/cs</td>\n",
       "      <td>a/at</td>\n",
       "      <td>there/ex</td>\n",
       "    </tr>\n",
       "    <tr>\n",
       "      <th>311</th>\n",
       "      <td>1.000000</td>\n",
       "      <td>in/in his/pp $ year/nn as/cs</td>\n",
       "      <td>a/at</td>\n",
       "      <td>legislator/nn</td>\n",
       "    </tr>\n",
       "    <tr>\n",
       "      <th>312</th>\n",
       "      <td>1.000000</td>\n",
       "      <td>his/pp $ 13th/od year/nn as/cs</td>\n",
       "      <td>a/at</td>\n",
       "      <td>legislator/nn</td>\n",
       "    </tr>\n",
       "    <tr>\n",
       "      <th>313</th>\n",
       "      <td>1.000000</td>\n",
       "      <td>in/in $ year/nn as/cs</td>\n",
       "      <td>a/at</td>\n",
       "      <td>legislator/nn</td>\n",
       "    </tr>\n",
       "    <tr>\n",
       "      <th>314</th>\n",
       "      <td>1.000000</td>\n",
       "      <td>in/in his/pp year/nn as/cs</td>\n",
       "      <td>a/at</td>\n",
       "      <td>there/ex</td>\n",
       "    </tr>\n",
       "    <tr>\n",
       "      <th>315</th>\n",
       "      <td>1.000000</td>\n",
       "      <td>none/pn of/in Georgia</td>\n",
       "      <td>has</td>\n",
       "      <td>np $ congressmen/nns specifically/rb asked/vbd...</td>\n",
       "    </tr>\n",
       "    <tr>\n",
       "      <th>316</th>\n",
       "      <td>1.000000</td>\n",
       "      <td>The/at resolution/nn</td>\n",
       "      <td>into/in the/at</td>\n",
       "      <td>House/nn-tl hopper/nn Friday/nr</td>\n",
       "    </tr>\n",
       "    <tr>\n",
       "      <th>317</th>\n",
       "      <td>1.000000</td>\n",
       "      <td>It/pps</td>\n",
       "      <td>says/vbz</td>\n",
       "      <td>that/cs</td>\n",
       "    </tr>\n",
       "    <tr>\n",
       "      <th>318</th>\n",
       "      <td>1.000000</td>\n",
       "      <td>who/wps</td>\n",
       "      <td>defeated/vbd</td>\n",
       "      <td>Felix/np Bush/np a/at school/nn principal/nn a...</td>\n",
       "    </tr>\n",
       "    <tr>\n",
       "      <th>319</th>\n",
       "      <td>1.000000</td>\n",
       "      <td>who/wps</td>\n",
       "      <td>defeated/vbd</td>\n",
       "      <td>Felix/np Bush/np a/at school/nn principal/nn a...</td>\n",
       "    </tr>\n",
       "    <tr>\n",
       "      <th>320</th>\n",
       "      <td>1.000000</td>\n",
       "      <td>who/wps</td>\n",
       "      <td>defeated/vbd</td>\n",
       "      <td>Felix/np Bush/np</td>\n",
       "    </tr>\n",
       "    <tr>\n",
       "      <th>321</th>\n",
       "      <td>1.000000</td>\n",
       "      <td>cd votes/nns</td>\n",
       "      <td>in/in</td>\n",
       "      <td>Saturday</td>\n",
       "    </tr>\n",
       "    <tr>\n",
       "      <th>322</th>\n",
       "      <td>1.000000</td>\n",
       "      <td>veiled/vbn threats/nns</td>\n",
       "      <td>of/in</td>\n",
       "      <td>violence/nn</td>\n",
       "    </tr>\n",
       "    <tr>\n",
       "      <th>323</th>\n",
       "      <td>1.000000</td>\n",
       "      <td>It/pps</td>\n",
       "      <td>was/bedz</td>\n",
       "      <td>marked/vbn by/in controversy/nn</td>\n",
       "    </tr>\n",
       "    <tr>\n",
       "      <th>324</th>\n",
       "      <td>1.000000</td>\n",
       "      <td>and/cc veiled/vbn threats/nns</td>\n",
       "      <td>of/in</td>\n",
       "      <td>violence/nn</td>\n",
       "    </tr>\n",
       "    <tr>\n",
       "      <th>325</th>\n",
       "      <td>1.000000</td>\n",
       "      <td>would/md be/be irregularities/nns</td>\n",
       "      <td>at/in the/at</td>\n",
       "      <td>and/cc Williams/np got/vbd himself/ppl a/at pe...</td>\n",
       "    </tr>\n",
       "    <tr>\n",
       "      <th>326</th>\n",
       "      <td>1.000000</td>\n",
       "      <td>be/be irregularities/nns</td>\n",
       "      <td>at/in the/at</td>\n",
       "      <td>Williams/np got/vbd himself/ppl a/at permit/nn...</td>\n",
       "    </tr>\n",
       "    <tr>\n",
       "      <th>327</th>\n",
       "      <td>1.000000</td>\n",
       "      <td>would/md be/be irregularities/nns</td>\n",
       "      <td>at/in the/at</td>\n",
       "      <td>polls/nns</td>\n",
       "    </tr>\n",
       "    <tr>\n",
       "      <th>328</th>\n",
       "      <td>1.000000</td>\n",
       "      <td>be/be irregularities/nns</td>\n",
       "      <td>at/in the/at</td>\n",
       "      <td>polls/nns</td>\n",
       "    </tr>\n",
       "    <tr>\n",
       "      <th>329</th>\n",
       "      <td>1.000000</td>\n",
       "      <td>would/md be/be irregularities/nns</td>\n",
       "      <td>at/in the/at</td>\n",
       "      <td>Williams/np got/vbd himself/ppl a/at permit/nn...</td>\n",
       "    </tr>\n",
       "    <tr>\n",
       "      <th>330</th>\n",
       "      <td>1.000000</td>\n",
       "      <td>be/be irregularities/nns</td>\n",
       "      <td>at/in the/at</td>\n",
       "      <td>and/cc Williams/np got/vbd himself/ppl a/at pe...</td>\n",
       "    </tr>\n",
       "    <tr>\n",
       "      <th>331</th>\n",
       "      <td>1.000000</td>\n",
       "      <td>Sheriff/nn-tl Felix/np Tabb/np said/vbd</td>\n",
       "      <td>his/pp</td>\n",
       "      <td>promise/nn</td>\n",
       "    </tr>\n",
       "    <tr>\n",
       "      <th>332</th>\n",
       "      <td>1.000000</td>\n",
       "      <td>Felix/np Tabb/np said/vbd</td>\n",
       "      <td>his/pp</td>\n",
       "      <td>promise/nn</td>\n",
       "    </tr>\n",
       "  </tbody>\n",
       "</table>\n",
       "<p>333 rows × 4 columns</p>\n",
       "</div>"
      ],
      "text/plain": [
       "     certainty                                            subject  \\\n",
       "0     0.518918                         any/dti irregularities/nns   \n",
       "1     1.000000  The/at Fulton/np-tl County/nn-tl Grand/jj-tl J...   \n",
       "2     1.000000  The/at September-October/np term/nn jury/nn ha...   \n",
       "3     1.000000  The/at September-October/np term/nn jury/nn ha...   \n",
       "4     1.000000  The/at September-October/np term/nn jury/nn ha...   \n",
       "5     1.000000  The/at September-October/np term/nn jury/nn ha...   \n",
       "6     1.000000                                    did/dod find/vb   \n",
       "7     1.000000                              many/ap of/in Georgia   \n",
       "8     1.000000                                    did/dod find/vb   \n",
       "9     1.000000                                    did/dod find/vb   \n",
       "10    1.000000                                    did/dod find/vb   \n",
       "11    1.000000                                    did/dod find/vb   \n",
       "12    1.000000                                    did/dod find/vb   \n",
       "13    1.000000                                    did/dod find/vb   \n",
       "14    1.000000                                    did/dod find/vb   \n",
       "15    1.000000                                             It/pps   \n",
       "16    1.000000                                             It/pps   \n",
       "17    1.000000  The/at grand/jj jury/nn commented/vbd on/in a/...   \n",
       "18    1.000000                                          these/dts   \n",
       "19    1.000000                                       believes/vbz   \n",
       "20    1.000000                                          these/dts   \n",
       "21    1.000000                                          these/dts   \n",
       "22    1.000000                                          these/dts   \n",
       "23    1.000000                                       believes/vbz   \n",
       "24    1.000000                                       believes/vbz   \n",
       "25    1.000000                                       believes/vbz   \n",
       "26    0.705757  lacking/vbg in/in experienced/vbn clerical/jj ...   \n",
       "27    0.705757  is/bez lacking/vbg in/in experienced/vbn cleri...   \n",
       "28    1.000000                                  take/vb steps/nns   \n",
       "29    1.000000                                          steps/nns   \n",
       "..         ...                                                ...   \n",
       "303   1.000000                               his/pp year/nn as/cs   \n",
       "304   1.000000                       in/in his/pp $ year/nn as/cs   \n",
       "305   1.000000                            $ 13th/od year/nn as/cs   \n",
       "306   1.000000                         in/in his/pp year/nn as/cs   \n",
       "307   1.000000                     his/pp $ 13th/od year/nn as/cs   \n",
       "308   1.000000                                in/in year/nn as/cs   \n",
       "309   1.000000                                      year/nn as/cs   \n",
       "310   1.000000                             his/pp $ year/nn as/cs   \n",
       "311   1.000000                       in/in his/pp $ year/nn as/cs   \n",
       "312   1.000000                     his/pp $ 13th/od year/nn as/cs   \n",
       "313   1.000000                              in/in $ year/nn as/cs   \n",
       "314   1.000000                         in/in his/pp year/nn as/cs   \n",
       "315   1.000000                              none/pn of/in Georgia   \n",
       "316   1.000000                               The/at resolution/nn   \n",
       "317   1.000000                                             It/pps   \n",
       "318   1.000000                                            who/wps   \n",
       "319   1.000000                                            who/wps   \n",
       "320   1.000000                                            who/wps   \n",
       "321   1.000000                                       cd votes/nns   \n",
       "322   1.000000                             veiled/vbn threats/nns   \n",
       "323   1.000000                                             It/pps   \n",
       "324   1.000000                      and/cc veiled/vbn threats/nns   \n",
       "325   1.000000                  would/md be/be irregularities/nns   \n",
       "326   1.000000                           be/be irregularities/nns   \n",
       "327   1.000000                  would/md be/be irregularities/nns   \n",
       "328   1.000000                           be/be irregularities/nns   \n",
       "329   1.000000                  would/md be/be irregularities/nns   \n",
       "330   1.000000                           be/be irregularities/nns   \n",
       "331   1.000000            Sheriff/nn-tl Felix/np Tabb/np said/vbd   \n",
       "332   1.000000                          Felix/np Tabb/np said/vbd   \n",
       "\n",
       "                verb                                             object  \n",
       "0           took/vbd                                           place/nn  \n",
       "1                has  np $ recent/jj primary/nn election/nn produced...  \n",
       "2              of/in                     possible/jj irregularities/nns  \n",
       "3              of/in                     possible/jj irregularities/nns  \n",
       "4              of/in                                 irregularities/nns  \n",
       "5              of/in                                 irregularities/nns  \n",
       "6            that/cs  many/ap of/in Georgia 's np $ registration/nn ...  \n",
       "7                has  np $ registration/nn and/cc election/nn laws/n...  \n",
       "8            that/cs  many/ap of/in Georgia 's np and/cc election/nn...  \n",
       "9            that/cs  many/ap of/in Georgia 's np and/cc laws/nns ar...  \n",
       "10           that/cs        many/ap of/in Georgia 's np and/cc laws/nns  \n",
       "11           that/cs  many/ap of/in Georgia 's np $ registration/nn ...  \n",
       "12           that/cs  many/ap of/in Georgia 's np $ registration/nn ...  \n",
       "13           that/cs  many/ap of/in Georgia 's np $ registration/nn ...  \n",
       "14           that/cs  many/ap of/in Georgia 's np and/cc election/nn...  \n",
       "15   recommended/vbd                            that/cs legislators/nns  \n",
       "16   recommended/vbd                  that/cs Fulton/np legislators/nns  \n",
       "17   them/ppo the/at  Atlanta/np and/cc Fulton/np-tl County/nn-tl pu...  \n",
       "18            two/cd  offices/nns should/md be/be combined/vbn to/to...  \n",
       "19            two/cd  offices/nns should/md be/be combined/vbn to/to...  \n",
       "20            two/cd  offices/nns be/be combined/vbn to/to achieve/v...  \n",
       "21            two/cd  offices/nns should/md be/be combined/vbn to/to...  \n",
       "22            two/cd  offices/nns be/be combined/vbn to/to achieve/v...  \n",
       "23            two/cd  offices/nns be/be combined/vbn to/to achieve/v...  \n",
       "24            two/cd  offices/nns be/be combined/vbn to/to achieve/v...  \n",
       "25            two/cd  offices/nns should/md be/be combined/vbn to/to...  \n",
       "26             as/cs  a/at result/nn of/in city/nn personnel/nns pol...  \n",
       "27             as/cs  a/at result/nn of/in city/nn personnel/nns pol...  \n",
       "28             to/to                                          remedy/vb  \n",
       "29             to/to                                          remedy/vb  \n",
       "..               ...                                                ...  \n",
       "303             a/at                                      legislator/nn  \n",
       "304             a/at                                           there/ex  \n",
       "305             a/at                                      legislator/nn  \n",
       "306             a/at                                      legislator/nn  \n",
       "307             a/at                                  said/vbd there/ex  \n",
       "308             a/at                                  said/vbd there/ex  \n",
       "309             a/at                                  said/vbd there/ex  \n",
       "310             a/at                                           there/ex  \n",
       "311             a/at                                      legislator/nn  \n",
       "312             a/at                                      legislator/nn  \n",
       "313             a/at                                      legislator/nn  \n",
       "314             a/at                                           there/ex  \n",
       "315              has  np $ congressmen/nns specifically/rb asked/vbd...  \n",
       "316   into/in the/at                    House/nn-tl hopper/nn Friday/nr  \n",
       "317         says/vbz                                            that/cs  \n",
       "318     defeated/vbd  Felix/np Bush/np a/at school/nn principal/nn a...  \n",
       "319     defeated/vbd  Felix/np Bush/np a/at school/nn principal/nn a...  \n",
       "320     defeated/vbd                                   Felix/np Bush/np  \n",
       "321            in/in                                           Saturday  \n",
       "322            of/in                                        violence/nn  \n",
       "323         was/bedz                    marked/vbn by/in controversy/nn  \n",
       "324            of/in                                        violence/nn  \n",
       "325     at/in the/at  and/cc Williams/np got/vbd himself/ppl a/at pe...  \n",
       "326     at/in the/at  Williams/np got/vbd himself/ppl a/at permit/nn...  \n",
       "327     at/in the/at                                          polls/nns  \n",
       "328     at/in the/at                                          polls/nns  \n",
       "329     at/in the/at  Williams/np got/vbd himself/ppl a/at permit/nn...  \n",
       "330     at/in the/at  and/cc Williams/np got/vbd himself/ppl a/at pe...  \n",
       "331           his/pp                                         promise/nn  \n",
       "332           his/pp                                         promise/nn  \n",
       "\n",
       "[333 rows x 4 columns]"
      ]
     },
     "execution_count": 182,
     "metadata": {},
     "output_type": "execute_result"
    }
   ],
   "source": [
    "ieDF#.object#.apply(lambda x: x.split('/')[:-1:2])\n"
   ]
  },
  {
   "cell_type": "code",
   "execution_count": 206,
   "metadata": {
    "collapsed": true
   },
   "outputs": [],
   "source": [
    "pos_sample = stanford.postTagger.tag_sents([nltk.word_tokenize(sentence) for sentence in nltk.sent_tokenize(enron_sample[0:20000])])\n"
   ]
  },
  {
   "cell_type": "code",
   "execution_count": 213,
   "metadata": {
    "collapsed": true
   },
   "outputs": [],
   "source": [
    "NTarget = 'JJ'\n",
    "#Word = ''\n",
    "NResults = set()\n",
    "\n",
    "for sentence in pos_sample:\n",
    "    adj = False\n",
    "    for ent,kind in sentence:\n",
    "        if kind=='JJ':\n",
    "            adj = ent\n",
    "            continue\n",
    "        if adj:\n",
    "            if kind=='NN':\n",
    "                NResults.add((adj,ent))\n",
    "                adj=False\n",
    "            if kind=='.': # sentence ended\n",
    "                adj = False"
   ]
  },
  {
   "cell_type": "code",
   "execution_count": 214,
   "metadata": {
    "scrolled": true
   },
   "outputs": [
    {
     "data": {
      "text/plain": [
       "{('11th', 'Time'),\n",
       " ('12-month', 'lease'),\n",
       " ('12-month', 'term'),\n",
       " ('Approximate', 'delta'),\n",
       " ('Customized', 'position'),\n",
       " ('above', 'project'),\n",
       " ('active', 'password'),\n",
       " ('additional', 'call'),\n",
       " ('annual/seasonal', 'supply'),\n",
       " ('appropriate', 'entity'),\n",
       " ('appropriate', 'folder'),\n",
       " ('bottom', 'grid'),\n",
       " ('changed', 'position'),\n",
       " ('collar/floor', 'price'),\n",
       " ('complete', 'list'),\n",
       " ('consolidated', 'position'),\n",
       " ('corresponding', 'term'),\n",
       " ('current', 'position'),\n",
       " ('difficult', 'time'),\n",
       " ('economic', 'impact'),\n",
       " ('electric', 'period'),\n",
       " ('entire', 'unit'),\n",
       " ('explicit', 'position'),\n",
       " ('fine', 'PM'),\n",
       " ('first', 'bullet'),\n",
       " ('fixed', 'kWh'),\n",
       " ('flexible', 'position'),\n",
       " ('formal', 'business'),\n",
       " ('forward', 'gas'),\n",
       " ('good', 'CPA'),\n",
       " ('good', 'communication'),\n",
       " ('high', 'level'),\n",
       " ('honest', 'trip'),\n",
       " ('individual', 'position'),\n",
       " ('individual', 'room'),\n",
       " ('informative', 'solution'),\n",
       " ('initial', 'set'),\n",
       " ('instantaneous', 'gamma'),\n",
       " ('interruptible', ')'),\n",
       " ('large', 'number'),\n",
       " ('likely', 'land'),\n",
       " ('main', 'view'),\n",
       " ('many', 'scope'),\n",
       " ('monthly', 'index'),\n",
       " ('much', 'time'),\n",
       " ('multifamily', 'moratorium'),\n",
       " ('national', 'customer'),\n",
       " ('natural', 'gas'),\n",
       " ('net', 'P'),\n",
       " ('new', 'deal'),\n",
       " ('new', 'position'),\n",
       " ('new', 'show'),\n",
       " ('original', 'deal'),\n",
       " ('other', 'capture'),\n",
       " ('other', 'floor'),\n",
       " ('other', 'information'),\n",
       " ('particular', 'order'),\n",
       " ('physical', 'TDS'),\n",
       " ('physical', 'gas'),\n",
       " ('physical/financial', 'transport'),\n",
       " ('possible', 'project'),\n",
       " ('prior', 'deal'),\n",
       " ('quiet', 'turn'),\n",
       " ('real', 'deal'),\n",
       " ('real-time', 'desk'),\n",
       " ('relative', 'importance'),\n",
       " ('round', 'table'),\n",
       " ('second', 'check'),\n",
       " ('serious', 'interest'),\n",
       " ('short', 'window'),\n",
       " ('similar', 'package'),\n",
       " ('single', 'buyer'),\n",
       " ('single', 'point'),\n",
       " ('single', 'set'),\n",
       " ('small', 'percent'),\n",
       " ('square', 'foot'),\n",
       " ('static', 'address'),\n",
       " ('top', 'grid')}"
      ]
     },
     "execution_count": 214,
     "metadata": {},
     "output_type": "execute_result"
    }
   ],
   "source": [
    "NResults"
   ]
  },
  {
   "cell_type": "code",
   "execution_count": null,
   "metadata": {
    "collapsed": true
   },
   "outputs": [],
   "source": [
    "\n",
    "import re\n",
    "pattern = 'million|billion'\n",
    "\n",
    "spans = []\n",
    "for val in re.finditer(pattern,sample):\n",
    "    spans.append(val.span())\n",
    "number_words = set(['million','billion','thousands','trillion'])\n",
    "for sentence in nltk.sent_tokenize(sample):\n",
    "    tokenized_sentence = nltk.word_tokenize(sentence)\n",
    "    for num,word in enumerate(tokenized_sentence):\n",
    "        if word in number_words:\n",
    "            print(tokenized_sentence[num-1],word,tokenized_sentence[num+1])\n",
    "\n"
   ]
  },
  {
   "cell_type": "code",
   "execution_count": 176,
   "metadata": {},
   "outputs": [
    {
     "data": {
      "text/plain": [
       "[([('Federal', '', '')],\n",
       "  'Delete if you are an international student or a domestic student not interested in Federal financial aid.'),\n",
       " ([('Federal', '', ''),\n",
       "   ('July', '', ''),\n",
       "   ('Treasury', '', ''),\n",
       "   ('May', '', '')],\n",
       "  'The interest rates on Federal education loans are variable and change on July 1, based on the 91-day T-Bill rate from the last Treasury auction in May plus a statutory percentage add-on (1.7% in-school, 2.3% in repayment).'),\n",
       " ([('May', '', '')],\n",
       "  'That auction was on May 29, 2001, with a rate of 3.688%, which rounds to 3.69%.'),\n",
       " ([('July', '', ''),\n",
       "   ('In', '', ''),\n",
       "   ('Rate', 'Repayment', ''),\n",
       "   ('Repayment', 'Rate', ''),\n",
       "   ('Rate', 'Direct', ''),\n",
       "   ('Direct', 'Loans', ''),\n",
       "   ('Loans', '', ''),\n",
       "   ('Thus', '', '')],\n",
       "  'According to the formula, the new applicable interest rates are as follows effective July 1: In-School Rate Repayment Rate Direct Loans 5.39% 5.99% Thus, interest rates have dropped by 2.2% and are lower than they have been in many years.'),\n",
       " ([('July', '', '')],\n",
       "  'Students who have not yet consolidated their federal loans should consider consolidating after July 1 in order to lock in these low rates, even (especially) if they are still in school.'),\n",
       " ([('Mark', 'Kantrowitz', ''), ('Kantrowitz', '', ''), ('FinAid', '', '')],\n",
       "  'According to Mark Kantrowitz, publisher of FinAid.com, \"a student with $16,000 in debt who consolidates at 6.0% (5.99% rounded up to the nearest 1/8th of a point) will save $2,233.52 over the lifetime of the loan compared with consolidating at 8.25% (8.19% rounded up to the nearest 1/8th of a point).'),\n",
       " ([('It', '', ''), ('Fed', '', ''), ('May', '', '')],\n",
       "  '\"Caveat: It is possible that the Fed will continue to cut interest rates and that this will continue to be reflected in auction results, so that next May the rates will be even lower.'),\n",
       " ([('Fed', '', ''), ('May', '', '')],\n",
       "  'But there is also the risk that the Fed rate cuts will end, and that the rates next May will be higher.'),\n",
       " ([('July', '', ''), ('June', '', '')],\n",
       "  'Given that the current rates are the lowest in many years and the savings already substantial, the safest course of action is to consolidate after July 1, 2001 and before June 30, 2002.\"'),\n",
       " ([('September', '', '')],\n",
       "  'However, if you are planning to consolidate I would suggest doing so before September 30, 2001 to take advantage of an additional 0.8% interest rate reduction.'),\n",
       " ([('Word', '', '')],\n",
       "  'Refer to the first attached Word file for details on this and the consolidation process.'),\n",
       " ([('If', '', ''), ('Direct', 'Loan', ''), ('Loan', '', ''), ('Word', '', '')],\n",
       "  '*It is not too late to apply for 2001-2002 federal student loans* If you are a U.S. citizen or permanent resident and are interested in borrowing a 5.39% Direct Loan, you may still apply by following the instructions in the second attached Word file.'),\n",
       " ([('Loan', 'Consolidation', ''),\n",
       "   ('Consolidation', 'Eve', ''),\n",
       "   ('Eve', 'June', ''),\n",
       "   ('June', '', ''),\n",
       "   ('Director', '', ''),\n",
       "   ('Financial', 'Aid', ''),\n",
       "   ('Aid', '', ''),\n",
       "   ('MBA', 'Programs', ''),\n",
       "   ('Programs', 'Haas', ''),\n",
       "   ('Haas', 'School', ''),\n",
       "   ('School', '', ''),\n",
       "   ('Business', '', ''),\n",
       "   ('S420C', 'University', ''),\n",
       "   ('University', '', ''),\n",
       "   ('California', '', ''),\n",
       "   ('Berkeley', 'Berkeley', ''),\n",
       "   ('Berkeley', '', ''),\n",
       "   ('CA', '', ''),\n",
       "   ('Kim', '', ''),\n",
       "   ('Twanda', '', '')],\n",
       "  'Regards- debi - Loan Consolidation Eve June 2001.doc - 2001 haas fafsa guide eve.doc _____________________________ debi fidler Director of Financial Aid for MBA Programs Haas School of Business, S420C University of California, Berkeley Berkeley, CA 94720-1900 voice (510) 643-1680 fax (510) 643-6659 Kim, to speed things up, it is a good idea to cc: Twanda on all emails regarding agreements.'),\n",
       " ([('Kim', 'Melodick', ''),\n",
       "   ('Melodick', '', ''),\n",
       "   ('PM', 'To', ''),\n",
       "   ('To', '', ''),\n",
       "   ('Michelle', 'Cash', ''),\n",
       "   ('Cash', '', ''),\n",
       "   ('Subject', '', ''),\n",
       "   ('Don', 'Baughman', ''),\n",
       "   ('Baughman', 'Please', ''),\n",
       "   ('Please', '', ''),\n",
       "   ('Don', 'Baughman', ''),\n",
       "   ('Baughman', '', '')],\n",
       "  'michelle Kim Melodick 06/16/2000 05:21 PM To: Michelle Cash/HOU/ECT@ECT cc: Subject: Don Baughman Please prepare an executable employment agreement for Don Baughman.'),\n",
       " ([('DealBench', 'Development', ''),\n",
       "   ('Development', 'Methodology', ''),\n",
       "   ('Methodology', '', '')],\n",
       "  'Attached is the DealBench Development Methodology that we will be following to sure up the development effort.'),\n",
       " ([('Forwarded', '', ''),\n",
       "   ('Rob', 'Walls', ''),\n",
       "   ('Walls', '', ''),\n",
       "   ('PM', '', ''),\n",
       "   ('Bruce', 'Lundstrom', ''),\n",
       "   ('Lundstrom', '', ''),\n",
       "   ('Sent', '', ''),\n",
       "   ('Wendi', 'Hoelscher', ''),\n",
       "   ('Hoelscher', '', ''),\n",
       "   ('PM', 'To', ''),\n",
       "   ('To', '', ''),\n",
       "   ('Rob', 'Walls', ''),\n",
       "   ('Walls', '', ''),\n",
       "   ('Subject', '', ''),\n",
       "   ('Global', 'Assets', ''),\n",
       "   ('Assets', 'Legal', ''),\n",
       "   ('Legal', '', ''),\n",
       "   ('Rob', '', ''),\n",
       "   ('Attached', '', ''),\n",
       "   ('Randy', 'Young', ''),\n",
       "   ('Young', '', ''),\n",
       "   ('Sandeep', 'Katwala', ''),\n",
       "   ('Katwala', '', ''),\n",
       "   ('Mark', 'Haedicke', ''),\n",
       "   ('Haedicke', '', '')],\n",
       "  'Thanks, -John fyi ----- Forwarded by Rob Walls/NA/Enron on 11/28/2000 04:50 PM ----- Bruce Lundstrom@ENRON_DEVELOPMENT Sent by: Wendi Hoelscher@ENRON_DEVELOPMENT 11/28/2000 04:21 PM To: Rob Walls/NA/Enron@Enron cc: Subject: Global Assets Legal org chart Rob: Attached is a draft org chart previously sent to Randy Young, Sandeep Katwala and Mark Haedicke.'),\n",
       " ([('Bruce', 'Assuming', ''), ('Assuming', '', '')],\n",
       "  \"Thanks, Bruce Assuming today's payments get processed, the attached are payments for tomorrow.\"),\n",
       " ([('Delainey', '', ''),\n",
       "   ('Forwarded', '', ''),\n",
       "   ('David', 'W', ''),\n",
       "   ('Delainey', '', ''),\n",
       "   ('PM', '', ''),\n",
       "   ('From', '', ''),\n",
       "   ('Stuart', 'Zisman', ''),\n",
       "   ('Zisman', '', ''),\n",
       "   ('PM', 'To', ''),\n",
       "   ('To', '', ''),\n",
       "   ('Mark', 'E', ''),\n",
       "   ('Haedicke', '', ''),\n",
       "   ('David', 'W', ''),\n",
       "   ('Delainey', '', ''),\n",
       "   ('Mark', 'Metts', ''),\n",
       "   ('Metts', '', ''),\n",
       "   ('Jeffery', 'Ader', ''),\n",
       "   ('Ader', '', ''),\n",
       "   ('Michael', 'R', ''),\n",
       "   ('Brown', '', ''),\n",
       "   ('Stephen', 'Plauche', ''),\n",
       "   ('Plauche', '', ''),\n",
       "   ('Subject', '', ''),\n",
       "   ('Approval', '', ''),\n",
       "   ('Non', '', ''),\n",
       "   ('Provision', 'Pursuant', ''),\n",
       "   ('Pursuant', '', ''),\n",
       "   ('Interoffice', 'Memorandum', ''),\n",
       "   ('Memorandum', '', ''),\n",
       "   ('Jim', 'Derrick', ''),\n",
       "   ('Derrick', '', ''),\n",
       "   ('Enron', 'Attorneys', ''),\n",
       "   ('Attorneys', '', ''),\n",
       "   ('October', '', ''),\n",
       "   ('Enron', 'North', ''),\n",
       "   ('North', 'America', ''),\n",
       "   ('America', 'Corp', ''),\n",
       "   ('Corp', '', '')],\n",
       "  'Regards Delainey ---------------------- Forwarded by David W Delainey/HOU/ECT on 01/31/2001 03:45 PM --------------------------- From: Stuart Zisman on 01/31/2001 03:06 PM To: Mark E Haedicke/HOU/ECT@ECT, David W Delainey/HOU/ECT@ECT, Mark Metts/NA/Enron@Enron cc: Jeffery Ader/HOU/ECT@ECT, Michael R Brown/LON/ECT@ECT, Stephen Plauche/Corp/Enron@Enron Subject: Approval of a Non-Solicitation Provision Pursuant to an Interoffice Memorandum from Jim Derrick to all Enron Attorneys dated October 27, 1999, I am required to seek approval from each of you prior to signing off on a non-solicitation agreement which affects Enron North America Corp.'),\n",
       " ([('Niagara', 'Mohawk', ''),\n",
       "   ('Mohawk', '', ''),\n",
       "   ('Offer', 'Service', ''),\n",
       "   ('Service', '', '')],\n",
       "  'This non-solicitation agreement is being required by Niagara Mohawk in order to participate in its request for proposal both to outsource the management of its supply portfolio and to provide power to meet its \"Standard Offer Service\" load requirements for a term ending 12/31/06.'),\n",
       " ([('Interested', 'Party', ''),\n",
       "   ('Party', '', ''),\n",
       "   ('Enron', 'North', ''),\n",
       "   ('North', 'America', ''),\n",
       "   ('America', 'Corp', ''),\n",
       "   ('Corp', '', ''),\n",
       "   ('Niagara', 'Mohawk', ''),\n",
       "   ('Mohawk', '', ''),\n",
       "   ('Interested', 'Party', ''),\n",
       "   ('Party', '', ''),\n",
       "   ('Confidentiality', 'Agreement', ''),\n",
       "   ('Agreement', '', ''),\n",
       "   ('Niagara', 'Mohawk', ''),\n",
       "   ('Mohawk', '', ''),\n",
       "   ('Interested', 'Party', ''),\n",
       "   ('Party', '', ''),\n",
       "   ('Transaction', '', ''),\n",
       "   ('Interested', 'Party', ''),\n",
       "   ('Party', '', ''),\n",
       "   ('Interested', 'Party', ''),\n",
       "   ('Party', '', ''),\n",
       "   ('Interested', 'Party', ''),\n",
       "   ('Party', '', ''),\n",
       "   ('Niagara', 'Mohawk', ''),\n",
       "   ('Mohawk', '', '')],\n",
       "  'The proposed non-solicitation language reads as follows: \"The Interested Party [this is defined to be Enron North America Corp.] agrees that, without the prior written consent of Niagara Mohawk, the Interested Party will not for a period of eighteen (18) months from the effective date of this Confidentiality Agreement directly or indirectly solicit for employment any non-union individual who is now employed by Niagara Mohawk, its parent, or any of its affiliates or subsidiaries and who is identified by the Interested Party as a result of its evaluation or otherwise in connection with the Transaction; provided, however, that the Interested Party shall not be prohibited from (i) employing any such individual who contacts the Interested Party on his or her own initiative and without any direct or indirect solicitation by the Interested Party, and (ii) conducting generalized solicitations for employees (which solicitations are not specifically targeted at employees of Niagara Mohawk, its parent, or any of its affiliates or subsidiaries) through the use of media advertisements, professional search firms or otherwise.\"'),\n",
       " ([('Jeff', 'Ader', ''),\n",
       "   ('Ader', '', ''),\n",
       "   ('Michael', 'Brown', ''),\n",
       "   ('Brown', '', '')],\n",
       "  'If you have questions about the underlying commercial transaction, please call either Jeff Ader or Michael Brown.'),\n",
       " ([('Stuart', '', ''),\n",
       "   ('CGoering', '', ''),\n",
       "   ('NYISO_TECH_EXCHANGE', 'Discussion', ''),\n",
       "   ('Discussion', 'List', ''),\n",
       "   ('List', '', ''),\n",
       "   ('The', 'NYISO', ''),\n",
       "   ('NYISO', '', ''),\n",
       "   ('August', '', ''),\n",
       "   ('Real', '', ''),\n",
       "   ('Market', '', ''),\n",
       "   ('ECA20010608B', '', ''),\n",
       "   ('HQ', '', ''),\n",
       "   ('NE', '', ''),\n",
       "   ('OH', '', ''),\n",
       "   ('PJM', '', ''),\n",
       "   ('Prices', '', ''),\n",
       "   ('August', '', ''),\n",
       "   ('Day', '', ''),\n",
       "   ('Market', '', '')],\n",
       "  'Thanks Stuart http://www.oddtodd.com/ CGoering@nyiso.com writes to the NYISO_TECH_EXCHANGE Discussion List: The NYISO is reserving hours beginning 9:00, 10:00, and 12:00-18:00 in the August 13, 2001 Real-Time Market as well as the following hours per ECA20010608B to verify prices: HQ: 0:00-1:00, 4:00-7:00, 11:00, 15:00, 18:00, 21:00 NE: 0:00-1:00, 4:00-7:00, 11:00, 15:00, 18:00, 21:00 OH: 0:00-1:00, 4:00-7:00, 11:00, 15:00, 18:00, 21:00 PJM: 0:00-1:00, 4:00-7:00, 11:00, 15:00, 18:00, 21:00 Prices in the August 14, 2001 Day-Ahead Market are correct.'),\n",
       " ([('Wish', 'You', ''),\n",
       "   ('You', 'Could', ''),\n",
       "   ('Could', 'Copy', ''),\n",
       "   ('Copy', 'DVD', ''),\n",
       "   ('DVD', 'Movies', ''),\n",
       "   ('Movies', '', '')],\n",
       "  'This e-mail information is a copy of the official posting which can be found at the following address on our website: Wish You Could Copy DVD Movies?'),\n",
       " ([('You', 'Can', ''), ('Can', '', '')], 'Now You Can!'),\n",
       " ([('Here', 'For', ''),\n",
       "   ('For', 'Details', ''),\n",
       "   ('Details', '', ''),\n",
       "   ('Message', '', ''),\n",
       "   ('From', '', ''),\n",
       "   ('Cashion', '', ''),\n",
       "   ('Jim', 'Sent', ''),\n",
       "   ('Sent', '', ''),\n",
       "   ('Thursday', '', ''),\n",
       "   ('June', '', ''),\n",
       "   ('AM', 'To', ''),\n",
       "   ('To', '', ''),\n",
       "   ('Campbell', '', ''),\n",
       "   ('Larry', 'F', ''),\n",
       "   ('Subject', '', ''),\n",
       "   ('DEAL', '', ''),\n",
       "   ('DEAL', '', ''),\n",
       "   ('NY', 'TRANS', ''),\n",
       "   ('TRANS', 'ID', ''),\n",
       "   ('ID', '', ''),\n",
       "   ('NY', 'SHOWING', ''),\n",
       "   ('SHOWING', '', ''),\n",
       "   ('MW', 'WHILE', ''),\n",
       "   ('WHILE', 'ENPOWER', ''),\n",
       "   ('ENPOWER', 'IS', ''),\n",
       "   ('IS', 'SHOWING', ''),\n",
       "   ('SHOWING', '', ''),\n",
       "   ('MW', '', '')],\n",
       "  'Click Here For Details i changed it -----Original Message----- From: Cashion, Jim Sent: Thursday, June 28, 2001 10:49 AM To: Campbell, Larry F. Subject: 6/26 - DEAL 664367 6/26 - DEAL 664367, NY TRANS ID 5071111, NY SHOWING 2,963.82 MW WHILE ENPOWER IS SHOWING 2,679 MW')]"
      ]
     },
     "execution_count": 176,
     "metadata": {},
     "output_type": "execute_result"
    }
   ],
   "source": [
    "sample = ' '.join(enron_df.sample(10).content.values)\n",
    "pattern = '[A-Z][a-z]+\\,'\n",
    "explore_regex(pattern,sample)\n",
    "name_regex = re.compile(r\" ([A-Z]\\w+)(?= ([A-Z]\\w*))?([\\'s])?\")\n",
    "#name_pattern = '(([A-Z]{1}[a-z]+)( )*(?[A-Z]{1}[a-z]+))'\n",
    "names = []\n",
    "for sentence in nltk.sent_tokenize(' '.join(enron_df.sample(10).content.values)):\n",
    "    for subsentence in sentence.split('\\n'):\n",
    "        results = name_regex.findall(subsentence.strip()[1:])\n",
    "        if len(results)!=0:\n",
    "        #if results!=None:\n",
    "            names.append((results,subsentence))\n",
    "\n",
    "names"
   ]
  },
  {
   "cell_type": "code",
   "execution_count": 269,
   "metadata": {},
   "outputs": [
    {
     "name": "stdout",
     "output_type": "stream",
     "text": [
      "('Albuquerque, NM 87113', None) ll Power Systems, Inc. > 8725 Pan American Frwy > Albuquerque, NM 87113 > 505-798-6424 > 50\n",
      "('Station, TX 77845', None) t 28th. I mailed it to 4303 Pate Rd. #29, College Station, TX 77845. I will go ahead an\n",
      "('Houston, TX 77024', None) resses for DSL lines: Hunter Shively 10545 Gawain Houston, TX 77024 713 461-4130 Philli\n",
      "('Houston, TX 77055', None) X 77024 713 461-4130 Phillip Allen 8855 Merlin Ct Houston, TX 77055 713 463-8626 Mike G\n",
      "('Houston, TX 77057', None)  77055 713 463-8626 Mike Grigsby 6201 Meadow Lake Houston, TX 77057 713 780-1022 Thanks\n",
      "('McLean, VA 22102-3303', '-3303') CN Power, Inc. 7926 Jones Branch Drive, Suite 630 McLean, VA 22102-3303 Phone (703)893-4330\n",
      "('McLean, VA 22102-3303', '-3303') CN Power, Inc. 7926 Jones Branch Drive, Suite 630 McLean, VA 22102-3303 Phone (703)893-4330\n",
      "('Austin, TX 78761-5427', '-5427') surance Agency, Inc 6000 N., Lamar P.O. Box 15427 Austin, TX 78761-5427 Policy #CBI420478 C\n",
      "('Sterling, VA 20164', None) elligence Press, Inc. 22648 Glenn Drive Suite 305 Sterling, VA 20164 tel: (703) 318-8848\n",
      "('Austin, TX 78761-5427', '-5427') surance Agency, Inc 6000 N., Lamar P.O. Box 15427 Austin, TX 78761-5427 Policy #CBI420478 C\n",
      "('Houston, TX 77055', None)  is 713-646-2391 Mailing address: 8855 Merlin Ct, Houston, TX 77055 Thank you, Phillip \n",
      "('Houston, TX 77002', None) d them to my home or office (1400 Smith, EB3210B, Houston, TX 77002). The broker is Jim\n",
      "('Houston, TX 77055', None) ay. Please send them to my house (8855 Merlin Ct, Houston, TX 77055). Call me if necess\n",
      "('DURANGO, CO 81301', None) 06NOV DOUBLETREE DURANGO 07NOV 501 CAMINO DEL RIO DURANGO, CO 81301 TELEPHONE: (970) 25\n",
      "('Station, TX 77845', None) t 28th. I mailed it to 4303 Pate Rd. #29, College Station, TX 77845. I will go ahead an\n",
      "('Houston, TX 77024', None) resses for DSL lines: Hunter Shively 10545 Gawain Houston, TX 77024 713 461-4130 Philli\n",
      "('Houston, TX 77055', None) X 77024 713 461-4130 Phillip Allen 8855 Merlin Ct Houston, TX 77055 713 463-8626 Mike G\n",
      "('Houston, TX 77057', None)  77055 713 463-8626 Mike Grigsby 6201 Meadow Lake Houston, TX 77057 713 780-1022 Thanks\n",
      "('McLean, VA 22102-3303', '-3303') CN Power, Inc. 7926 Jones Branch Drive, Suite 630 McLean, VA 22102-3303 Phone (703)893-4330\n",
      "('McLean, VA 22102-3303', '-3303') CN Power, Inc. 7926 Jones Branch Drive, Suite 630 McLean, VA 22102-3303 Phone (703)893-4330\n",
      "('Washington, DC 20006', None) onmental Strategies 1775 Eye Street, NW Suite 800 Washington, DC 20006 Phone: +(202) 466-9\n",
      "('Austin, TX 78761-5427', '-5427') surance Agency, Inc 6000 N., Lamar P.O. Box 15427 Austin, TX 78761-5427 Policy #CBI420478 C\n",
      "('Sterling, VA 20164', None) elligence Press, Inc. 22648 Glenn Drive Suite 305 Sterling, VA 20164 tel: (703) 318-8848\n"
     ]
    }
   ],
   "source": [
    "zipcode_pattern = '([^0-9[.\\,\\w]*)?([0-9]{5})(-[0-9]{4})?'\n",
    "zipcode_pattern = '([A-Z]+\\w+, [A-Z]{2} [0-9]{5}(-[0-9]{4})?)'\n",
    "for result in re.finditer(zipcode_pattern,sample):\n",
    "    start,stop = result.span()\n",
    "    print(result.groups(),sample[start-50:stop+20])"
   ]
  },
  {
   "cell_type": "code",
   "execution_count": 273,
   "metadata": {},
   "outputs": [
    {
     "data": {
      "text/plain": [
       "['505-798-6424',\n",
       " '505-798-6050',\n",
       " '505-220-4129',\n",
       " '713-853-7107',\n",
       " '303-575-6490',\n",
       " '512-338-1119',\n",
       " '512-338-1110',\n",
       " '512-748-7495',\n",
       " '512-338-1103',\n",
       " '512-338-1119',\n",
       " '512-338-1110',\n",
       " '512-748-7495',\n",
       " '512-338-1103',\n",
       " '512-338-1119',\n",
       " '512-338-1110',\n",
       " '512-748-7495',\n",
       " '512-338-1103',\n",
       " '713-942-8436',\n",
       " '713-853-3304',\n",
       " '858-450-2554',\n",
       " '713-853-1411',\n",
       " '(713)853-7041',\n",
       " '713-853-5536',\n",
       " '0000000000',\n",
       " '0000000000',\n",
       " '713 646 2391',\n",
       " '251327 1595',\n",
       " '265229 1063',\n",
       " '713 461-4130',\n",
       " '713 463-8626',\n",
       " '713 780-1022',\n",
       " '713-853-7041',\n",
       " '(403) 974-6756',\n",
       " '(403) 974-6756',\n",
       " '713-853-7041',\n",
       " '713-853-1711',\n",
       " '713-646-3239',\n",
       " '(212) 686-6808',\n",
       " '(703)893-4330',\n",
       " '(703)893-4390',\n",
       " '(443)255-7699',\n",
       " '713-853-1803',\n",
       " '(703)893-4330',\n",
       " '(703)893-4390',\n",
       " '(443)255-7699',\n",
       " '713-853-1803',\n",
       " '713-853-1803',\n",
       " '888-271-0949',\n",
       " '(713) 853-9510',\n",
       " '(713) 853-9510',\n",
       " '888-271-0949',\n",
       " '713-853-1411',\n",
       " '713-853-7041',\n",
       " '713-853-1711',\n",
       " '(512)451-6551',\n",
       " '(503-464-8671',\n",
       " '(713) 853-7041',\n",
       " '(203) 355-5059',\n",
       " '713-853-7060',\n",
       " '713-853-7041',\n",
       " '713-853-7041',\n",
       " '713-853-7041',\n",
       " '713-853-7041',\n",
       " '(703) 318-8848',\n",
       " '(703) 318-0597',\n",
       " '713-853-7041',\n",
       " '713-410-4679',\n",
       " '512-930-5832',\n",
       " '0000000000',\n",
       " '(512) 338-1119',\n",
       " '(512)338-1103',\n",
       " '512-295-8052',\n",
       " '(512) 338-1119',\n",
       " '(512)338-1103',\n",
       " '713-853-7041',\n",
       " '(512)451-6551',\n",
       " '202-383-2147',\n",
       " '713-410-4679',\n",
       " '210-271-8386',\n",
       " '888-203-1112',\n",
       " '512-732-0009',\n",
       " '512-732-0010',\n",
       " '512-751-9728',\n",
       " '713-646-2391',\n",
       " '713-853-7041',\n",
       " '713-853-7041',\n",
       " '713-463-8626',\n",
       " '713-646-2391',\n",
       " '713-646-2391',\n",
       " '713-853-7041',\n",
       " '713-646-2391',\n",
       " '713-853-7041',\n",
       " '713 853-3170',\n",
       " '303 575 6478',\n",
       " '713-463-8626',\n",
       " '512-732-0009',\n",
       " '512-732-0010',\n",
       " '512-751-9728',\n",
       " '713-853-7041',\n",
       " '323-658-3874',\n",
       " '323-658-3872',\n",
       " '323-658-3872',\n",
       " '713-463-8626',\n",
       " '713-853-7041',\n",
       " '8774820206',\n",
       " '(713)463-8626',\n",
       " '713-853-7041',\n",
       " '713-464-2391',\n",
       " '713-410-4679',\n",
       " '713-463-8626',\n",
       " '713-853-7069',\n",
       " '713-464-2391',\n",
       " '713-502-9402',\n",
       " '713-667-5889',\n",
       " '713-781-5810',\n",
       " '(713) 853-1575',\n",
       " '(713) 646-3490',\n",
       " '(713) 853-1575',\n",
       " '(713) 646-3490',\n",
       " '(816) 234-4455',\n",
       " '713-410-4679',\n",
       " '713-410-4679',\n",
       " '503-294-9116',\n",
       " '713-463-8626',\n",
       " '713-410-4679',\n",
       " '713-780-1022',\n",
       " '713-408-6256',\n",
       " '713-667-5889',\n",
       " '713-502-9402',\n",
       " '(713)463-8626',\n",
       " '713-853-7041',\n",
       " '(713)781-5810',\n",
       " '(713)781-6614',\n",
       " '713-463-8626',\n",
       " '713-646-2391',\n",
       " '0000000000',\n",
       " '888-271-0949',\n",
       " '403-) 245-3340',\n",
       " '(970) 259-6580',\n",
       " '(713) 853-9510',\n",
       " '(713) 853-9510',\n",
       " '202-383-2147',\n",
       " '713-853-7041',\n",
       " '888-271-0949',\n",
       " '713-853-7041',\n",
       " '303-575-6490',\n",
       " '512-338-1119',\n",
       " '512-338-1110',\n",
       " '512-748-7495',\n",
       " '512-338-1103',\n",
       " '512-338-1119',\n",
       " '512-338-1110',\n",
       " '512-748-7495',\n",
       " '512-338-1103',\n",
       " '512-338-1119',\n",
       " '512-338-1110',\n",
       " '512-748-7495',\n",
       " '512-338-1103',\n",
       " '713-942-8436',\n",
       " '713-853-3304',\n",
       " '858-450-2554',\n",
       " '800-369-2834',\n",
       " '609-514-0870',\n",
       " '(713)853-7041',\n",
       " '713-853-5536',\n",
       " '0000000000',\n",
       " '0000000000',\n",
       " '713 646 2391',\n",
       " '251327 1595',\n",
       " '265229 1063',\n",
       " '713 461-4130',\n",
       " '713 463-8626',\n",
       " '713 780-1022',\n",
       " '(403) 974-6756',\n",
       " '(403) 974-6756',\n",
       " '713-853-7041',\n",
       " '512) 263-0177',\n",
       " '(800) 427-5747',\n",
       " '713-646-3239',\n",
       " '(212) 686-6808',\n",
       " '(703)893-4330',\n",
       " '(703)893-4390',\n",
       " '(443)255-7699',\n",
       " '713-853-1803',\n",
       " '(703)893-4330',\n",
       " '(703)893-4390',\n",
       " '(443)255-7699',\n",
       " '713-853-1803',\n",
       " '713-853-1803',\n",
       " '503-805-2117',\n",
       " '800-424-2908',\n",
       " '720-548-5700',\n",
       " '(202) 466-9176',\n",
       " '(202) 331-4717',\n",
       " '888-271-0949',\n",
       " '(713) 853-9510',\n",
       " '(713) 853-9510',\n",
       " '888-271-0949',\n",
       " '713-853-1411',\n",
       " '713-853-7041',\n",
       " '713-853-1711',\n",
       " '(512)451-6551',\n",
       " '(503-464-8671',\n",
       " '(713) 853-7041',\n",
       " '(203) 355-5059',\n",
       " '713-853-7060',\n",
       " '713-853-7041',\n",
       " '713-853-7041',\n",
       " '713-853-7041',\n",
       " '713-853-7041',\n",
       " '(703) 318-8848',\n",
       " '(703) 318-0597',\n",
       " '713-853-7041',\n",
       " '323-658-3874',\n",
       " '323-658-3872',\n",
       " '323-658-3872',\n",
       " '713-410-4679',\n",
       " '512-930-5832',\n",
       " '0000000000']"
      ]
     },
     "execution_count": 273,
     "metadata": {},
     "output_type": "execute_result"
    }
   ],
   "source": [
    "# tlf numbers.\n",
    "phone_regex = '(\\(?\\d{3}[\\- \\)]*\\d{3}[\\- ]*\\d{4})'\n",
    "re.findall(phone_regex,sample)"
   ]
  },
  {
   "cell_type": "markdown",
   "metadata": {
    "collapsed": true
   },
   "source": [
    "# Danish ressources:\n",
    "* A very nice overview of Danish nlp ressources: http://www2.imm.dtu.dk/pubdb/views/edoc_download.php/6956/pdf/imm6956.pdf\n",
    "* The `polyglot module` (although hard to install) has support for danish among many other languages."
   ]
  }
 ],
 "metadata": {
  "celltoolbar": "Slideshow",
  "kernelspec": {
   "display_name": "Python 3",
   "language": "python",
   "name": "python3"
  },
  "language_info": {
   "codemirror_mode": {
    "name": "ipython",
    "version": 3
   },
   "file_extension": ".py",
   "mimetype": "text/x-python",
   "name": "python",
   "nbconvert_exporter": "python",
   "pygments_lexer": "ipython3",
   "version": "3.6.1"
  },
  "latex_envs": {
   "bibliofile": "biblio.bib",
   "cite_by": "apalike",
   "current_citInitial": 1,
   "eqLabelWithNumbers": true,
   "eqNumInitial": 0
  },
  "toc": {
   "nav_menu": {
    "height": "384px",
    "width": "252px"
   },
   "navigate_menu": true,
   "number_sections": true,
   "sideBar": true,
   "threshold": 4,
   "toc_cell": false,
   "toc_section_display": "block",
   "toc_window_display": false
  }
 },
 "nbformat": 4,
 "nbformat_minor": 2
}
