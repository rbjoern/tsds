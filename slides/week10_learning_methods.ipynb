{
 "cells": [
  {
   "cell_type": "markdown",
   "metadata": {},
   "source": [
    "**<center>Machine Learning 2</center>**\n",
    "***<center>Learning Methods</center>***\n",
    "\n",
    "<center>Snorre Ralund</center>"
   ]
  },
  {
   "cell_type": "markdown",
   "metadata": {},
   "source": [
    "** Agenda **\n",
    "\n",
    "* Introduction and overview of different learning methods: when are why we use them.\n",
    "\n",
    "* Focus on handling practical issues such as: \n",
    "    * Improving performance \n",
    "    * label scarcity\n",
    "        * Unbalanced classes and Rare classes\n",
    "    * High variance data.\n",
    "        * More features (N) than labeled samples (M) \n",
    "        * Sparse input.\n",
    "        * Fat tailed feature distribution.\n",
    "\n",
    "\n",
    "* Feature engineering by transfer learning from *auxilliary tasks* and *unsupervised learning* methods.\n",
    "    * WordVec -- Doc2Vec. \n",
    "    * Topic Modelling\n"
   ]
  },
  {
   "cell_type": "markdown",
   "metadata": {},
   "source": [
    "# Approaches to Learning\n",
    "While the most famous ones (and least meaningful?) are Unsupervised and Supervised Learning, in practice there are other important theoretical approaches that are important to know about.\n",
    "\n",
    "\n",
    "how to **x-->y**?\n",
    "All are part of a the family of **functions**, **models**, **transformations**, **mappings** that converts and input to an output using more or less math and more or less hacky tricks. \n",
    "\n",
    "![](https://mathinsight.org/media/image/image/function_machine.png)"
   ]
  },
  {
   "cell_type": "markdown",
   "metadata": {},
   "source": [
    "Now imagine our ML task as stacking these function machines, that each creates a new transformation"
   ]
  },
  {
   "cell_type": "code",
   "execution_count": 485,
   "metadata": {},
   "outputs": [
    {
     "name": "stdout",
     "output_type": "stream",
     "text": [
      "0 -3\n",
      "1 1\n",
      "2 13\n",
      "3 33\n",
      "4 61\n"
     ]
    }
   ],
   "source": [
    "# stacked functions\n",
    "def f(x):\n",
    "    return x*2\n",
    "def g(x):\n",
    "    return x**2\n",
    "def h(x):\n",
    "    return x-3\n",
    "stacked_functions = [f,g,h] # Imagine it as a machine learning pipeline\n",
    "for x in range(5):\n",
    "    xi = x\n",
    "    for func in stacked_functions:\n",
    "        xi = func(xi)\n",
    "    print(x,xi)"
   ]
  },
  {
   "cell_type": "markdown",
   "metadata": {},
   "source": [
    "** Hand-coded Transformation - Feature engineering.**\n",
    "* Defining Rules.\n",
    "* removing features (e.g. stopwords)\n",
    "* Functional transformations: polynomials, log, exp, sqrt.\n",
    "* Graphbased measures (distances and similarities)."
   ]
  },
  {
   "cell_type": "markdown",
   "metadata": {},
   "source": [
    "\n",
    "## Deep Models\n",
    "\n",
    "**Ensemble learning**\n",
    "* function1 --> output --> function2 --> output --> ...\n",
    "![](https://qph.fs.quoracdn.net/main-qimg-b22447659f3f63822bc97ba3eff8a546-c)\n",
    "* Stacking (use a set of classifiers as input to a meta-classifier).\n",
    "    * No coordination in the training.\n",
    "    * You can think of any independent step in your preprocessing and feature engineering as a form of stacking.\n",
    "* ... stacking can increase ad infinitum to create deep models (e.g deep forests)\n",
    "* Bagging (avoid overfitting by training many classifiers on different random samples)\n",
    "* Boosting (combine classifiers trained sequentially to compensate for each others weaknesses)\n",
    "    * Coordination, but no feedback during training of each classifier.\n",
    "* [**AutoML**](https://github.com/EpistasisLab/tpot)\n",
    "    * Search Algorithms: genetic programming, bayesian optimization.\n",
    "    * Ensemble and stacking tricks, preprocessing.\n",
    "\n",
    "** Deep Learning **\n",
    "* Coordination and feedback between different functions.\n",
    "    * function1 <--> output <--> function2\n",
    "![](https://www.soasta.com/wp-content/uploads/2016/07/Google-ML-deep-learning.png)\n",
    "* Trained via backpropagation (chain-rule of derivatives) of the gradient to each function (node - weight in the network). \n",
    " "
   ]
  },
  {
   "cell_type": "markdown",
   "metadata": {},
   "source": [
    "# Zero-shot, one-shot learning, or learning with label scarcity.\n",
    "In many situations labels can be a scarce ressource, either because money is short, or because ***positive cases*** are rare (skewed distribution of classes). \n",
    "In this case we need to think about ways to overcome this problem. The following three approaches address this problem.\n",
    "\n",
    "** Active Learning ** \n",
    "* Labeling and training at the same time.\n",
    "    * Uncertainty sampling. Choosing which samples to be labeled.\n",
    "    * ... ***FatML***: Expected error reduction: label sample to reduce the model's generalization error.\n",
    "        * Finding samples that look different from what the model has already seen.\n",
    "\n",
    "** Semi-supervised learning **\n",
    "* Self training. Learning from your own labels. \n",
    "    * Throttling (adapt k new labels pr iteration)\n",
    "    * Balancing (select only the most probable predicted labels)\n",
    "* Degenerates if initial performance is too low. \n",
    "* Bad when input is sparse (so co-occurence is low).\n",
    "* Problem with the generalization asssumption the bias is randomly and evenly distributed. However with high variance in the sample, and for domain adaptation this might actually help.\n",
    "\n",
    "** Transfer Learning **\n",
    "* Adapt information from models trained to perform a different task.\n",
    "    * Fine-tuning.\n",
    "    * A form of stacked learning.\n",
    "    * Multi-task learning: If in a deep learning framework where tasks are co-trained. \n",
    "* Adapt information learned by unsupervised methods."
   ]
  },
  {
   "cell_type": "markdown",
   "metadata": {},
   "source": [
    "# Feature Engineering using Unsupervised Learning\n",
    "\n",
    "This is a case of Stacked Learning, where we design a transformation of our input space, and hope that it will benefit our downstream application - i.e. Supervised Classification problem.\n",
    "\n",
    "We transform an input in relation to a loss function that we hope relates our true loss function. \n",
    "\n",
    "Our theoretical understanding of the models should guide our search for socalled benificial *auxilliary tasks*. \n",
    "\n",
    "**Auxilliary tasks**:\n",
    "   * (Word2Vec) Transform words to predict their *context* words : \n",
    "       * This is a catch-all modelling of co-occurence regularities, hopefully capturing both semantic, topical, ideological, and valence of words.\n",
    "   * (Topic Modelling) Transform documents to a vector of latent datadriven topics, to help with our custom topic classification task.\n",
    "   * Learn from big data collections with *Noisy* Labels\n",
    "       * E.g. Tweets labeled with #sarcasm.\n",
    "       * Social media posts labeled with emojis.\n",
    "       --> and use the transformation as input in a sentiment classification task (Felbo et. al 2017)\n",
    "       * Learning to predict the response of a Facebook Post (reactions, comments etc)--> might help us predict controversial and provocative statements."
   ]
  },
  {
   "cell_type": "markdown",
   "metadata": {},
   "source": [
    "## Word2Vec : Continuous embeddings\n",
    "A famous and broadly used ***Auxilliary task***, is the task of predicting words from their context. And more precisely, transform a sparse input of one-hot-encoded words, into a dense continous representation (embedding) designed to predict words from their context.\n",
    "\n",
    "The powerful technique has been used to model many other things than words - e.g. networks (Node2Vec) and sequences (Seq2Vec).\n",
    "\n",
    "![](https://qph.fs.quoracdn.net/main-qimg-e8b83b14d7261d75754a92d0d3605e36)\n"
   ]
  },
  {
   "cell_type": "markdown",
   "metadata": {},
   "source": [
    "## Example (network communities as a transformation)\n",
    "* Imagine you have a Network represented by the following edgelist:[(Bob,Billy),(Bob, Adam),(Billy, Dan),(Billy, John), (John,Adam),(Bob,Anne)...]\n",
    "* You want to **predict** the edges? \n",
    "\n",
    "If you knew the social groups organizing the network, then it would be easy, but how will you find these **latent** classes?\n",
    "\n",
    "(In networks we look for communities), but here we call it a function, a transformation of each node into a latent class, \"hidden\" layer, that will be used to predict the edges. \n",
    "The simple prediction function will be, if Latent Class of Bob is equal to the Latent Class of Billy, predict edge.\n",
    "\n",
    "Suppose each node is in more communities, then we might allow for each node to have more than one Class."
   ]
  },
  {
   "cell_type": "markdown",
   "metadata": {},
   "source": [
    "## example continued"
   ]
  },
  {
   "cell_type": "markdown",
   "metadata": {},
   "source": [
    "* Instead imagine you see a set of social gatherings: [(Billy,Bob),(Billy,Dan,John),(Bob,Anne)]\n",
    "* Now you want to predict who will **show up** given who is present (i.e. the Context).\n",
    "\n",
    "Instead of using shared latent classes to predict the partipation, we might try to represent both the attracting and repulsing forces between the people. E.g. that Bob won't show up to a party when his Arch-Enemy Dan and his brother John is also present.\n",
    "\n",
    "We represent each person in the following way:\n",
    "Dan = [1,0,1], John = [1,0,1], Bob = [-1,1,-1] \n",
    "* <--- nb: we can represent these attracting and repulsing forces using continous embeddings. \n",
    "\n",
    "By calculating the dot product between these vectors, we can see that dot(Bob,Dan) is negative, and use that into a negative prediction. \n",
    "\n"
   ]
  },
  {
   "cell_type": "markdown",
   "metadata": {},
   "source": [
    "## example continued\n",
    "The above intuition is very similar to the Word2Vec model. Words that attract/predict the same words, will be close in space.\n",
    "\n",
    "Furthermore, it is not One word alone that predicts another, but a **\"Gathering\"** of words that predicts the missing word - i.e. a **Context** defined by a window. \n",
    "\n",
    "* Contious Bag of Words (CBOW): Models context as the Mean embedding of each word in the context.\n",
    "\n",
    "![](https://www.tensorflow.org/images/softmax-nplm.png)"
   ]
  },
  {
   "cell_type": "markdown",
   "metadata": {},
   "source": [
    "## How do we find the optimal embeddings?\n",
    "** Impossible to search through all combinations.**\n",
    "* Instead we randomly initialize a Vector (the embeddings) to define which dimensions each word will attract and repulse. And randomly initialize vector that defines which dimensions each word will be attracted to.\n",
    "    * There are **two** Embeddings - hidden layers in deep learning lingo.\n",
    "* Running through document with a window, we define our labeled examples (context-label pairs).\n",
    "* Then we use gradient descent to optimize the embeddings of each word, maximizing the dot product between the context embedding (mean of all words in the context) and the word embedding. \n",
    "    - We use a softmax classifier to predict the Label (the true word missing from the context)."
   ]
  },
  {
   "cell_type": "markdown",
   "metadata": {},
   "source": [
    "### Gradient descent \n",
    "For each parameter we estimate how it will effect our loss function if we change it - i.e. will it help our prediction or not? \n",
    "\n",
    "This is done by taking the derivative of the function $f(w)$ in relation to the parameter $w_i$ : $\\frac{df(w)}{dwi}$ \n",
    "\n",
    "Then we update the parameter in relation to a stepsize *hyperparameter*.\n",
    "\n",
    "**Stochastic Gradient Descent**: means that each update is done using only a sample (a batch) of the data to estimate the gradient."
   ]
  },
  {
   "cell_type": "code",
   "execution_count": 483,
   "metadata": {},
   "outputs": [
    {
     "data": {
      "image/png": "[encoded data removed]",
      "text/plain": [
       "<matplotlib.figure.Figure at 0x1a1b2e9da0>"
      ]
     },
     "metadata": {},
     "output_type": "display_data"
    }
   ],
   "source": [
    "weight_space = np.linspace(-5,5,50)\n",
    "loss = weight_space**2\n",
    "plt.plot(weight_space,loss)\n",
    "plt.scatter(weight_space[0:25][::2],loss[0:25][::2],c=loss[0:25][::-1][::2],cmap=plt.cm.Reds)\n",
    "plt.xlabel('weight')\n",
    "plt.ylabel('loss')\n",
    "plt.xticks([])\n",
    "plt.yticks([])\n",
    "plt.title('Gradient Descent');"
   ]
  },
  {
   "cell_type": "markdown",
   "metadata": {},
   "source": [
    "## Optimization algorithms\n",
    "Given that the number of gradients to calculate is the main bottleneck, there are lots of different optimization algorithms. All vary over how they approximate the gradient and how they dynamically fix step size.\n",
    "\n",
    "![](https://i.imgur.com/pD0hWu5.gif)"
   ]
  },
  {
   "cell_type": "markdown",
   "metadata": {},
   "source": [
    "## Topic modelling\n",
    "Another class of models transforming words and document into continous representations, although sparser, is topic models. We have already talked about them, but I wanted to add them here to test the performance. We focus here on the vanilla topic model: Latent Dirichlet Allocation (LDA).\n",
    "\n",
    "Similar to the Naive Bayes classifier, LDA is also generative model in the bayesian framework. Here we also model the probability of a word given a label, however the labels are in this case latent classes infered by the model. \n",
    "\n",
    "Instead of using Gradient Descent, this method utilizes methods for sampling complex posterior distributions, in this case Gibbs Sampling. By putting in some heavy assumptions about the number of topics, the distribution of topics, the distribution of words accross topics, and their relationship, we can specify a posterier distribution to sample from, that will converge even from random initialization.\n",
    "\n",
    "Consider document $i$, $(i =1, 2, ..., N)$.\n",
    "\n",
    "Suppose there are $M_{i}$ total words and $\\boldsymbol{x}_{i}$ is an $M_{i} \\times 1$ vector, where $x_{im}$ describes the $m^{\\text{th}}$ word used in the document$^{*}$\n",
    "\n",
    "The model assumes $k$ topics.\n",
    "\n",
    "$\\boldsymbol{\\theta}_{k} \\sim \\text{Dirichlet}(\\boldsymbol{1})$\n",
    "\n",
    "$\\alpha_{k} \\sim \\text{Gamma}(\\alpha, \\beta) $\n",
    "\n",
    "$\\boldsymbol{\\pi}_{i}|\\boldsymbol{\\alpha} \\sim \\text{Dirichlet}(\\boldsymbol{\\alpha}) $\n",
    "\n",
    "$\\boldsymbol{\\tau}_{im}| \\boldsymbol{\\pi}_{i} \\sim \\text{Multinomial}(1, \\boldsymbol{\\pi}_{i})$\n",
    "\n",
    "$x_{im} | \\boldsymbol{\\theta}_{k}, \\tau_{imk}=1 \\sim \\text{Multinomial}(1, \\boldsymbol{\\theta}_{k})$\n",
    "\n",
    "--> Generative model specified:\n",
    "\n",
    "$ p(\\boldsymbol{\\pi}, \\boldsymbol{T},\\boldsymbol{\\Theta}, \\boldsymbol{\\alpha}| \\boldsymbol{X})  \\propto p(\\boldsymbol{\\alpha}) p(\\boldsymbol{\\pi}| \\boldsymbol{\\alpha}) p(\\boldsymbol{T}| \\boldsymbol{\\pi}) p(\\boldsymbol{X}| \\boldsymbol{\\theta}, \\boldsymbol{T})$\n",
    "\n"
   ]
  },
  {
   "cell_type": "markdown",
   "metadata": {},
   "source": [
    "However it can be shown that we can just sample from the $\\boldsymbol{\\tau}_{im}$ word-topic assignment of each word of a given document. Which is defined by the shared probability distribution of document2topic distribution and overall the word2topic distribution. \n",
    "\n",
    "P(topic|w,document) = P(topic|w) * P(topic|document)\n",
    "\n",
    "These probabilities can be simply counted from the current topic assignment of each word in each document:\n",
    "* Count the proportions of words assigned to each topic normalized by number of words in the document. \n",
    "* For each word count the proportions of each topic normalized by number of documents it is present in ( - or occurrences, since a word occurring more than once in a document can be assigned to different topics). \n",
    "\n",
    "**Gibbs sampling**\n",
    "Start with random parameters for each distribution, for each iteration you reasign each parameter with samples from the distribution defined by the current parameters.\n",
    "\n",
    "By reassigning the topic assignment of each word-document pair based on this distribution, the distributions converges and slowly the topics emerge. "
   ]
  },
  {
   "cell_type": "markdown",
   "metadata": {},
   "source": [
    "## Topic modelling in python\n",
    "While the Topic modelling research has been dominated by the R community, the Gensim Package is a alright alternative, although if you really like topic modelling I suggest you take a look at the STM and Quanteda R packages."
   ]
  },
  {
   "cell_type": "code",
   "execution_count": null,
   "metadata": {
    "collapsed": true
   },
   "outputs": [],
   "source": [
    "corpus = [tokenizer.tokenize(doc) for doc in train_docs+test_docs] # First we tokenize our corpus\n",
    "D = gensim.corpora.Dictionary(corpus) # A dictionary to index the words.\n",
    "lda_corpus = [D.doc2bow(doc) for doc in corpus] # Then we convert the tokenized documents to Bag of Words."
   ]
  },
  {
   "cell_type": "code",
   "execution_count": null,
   "metadata": {
    "collapsed": true
   },
   "outputs": [],
   "source": [
    "import logging # gensim progres can be seen using the logging package\n",
    "logging.basicConfig(format='%(levelname)s : %(message)s', level=logging.INFO)\n",
    "logging.root.level = logging.INFO  # ipython sometimes messes up the logging setup; restore"
   ]
  },
  {
   "cell_type": "code",
   "execution_count": null,
   "metadata": {
    "collapsed": true
   },
   "outputs": [],
   "source": [
    "#define number of topics and train the model\n",
    "n_topics = 100\n",
    "%time lda = gensim.models.LdaModel(lda_corpus,id2word=D,num_topics=n_topics,passes=20) # Other"
   ]
  },
  {
   "cell_type": "code",
   "execution_count": null,
   "metadata": {
    "collapsed": true
   },
   "outputs": [],
   "source": [
    "lda = gensim.models.LdaModel.load('lda_model')\n"
   ]
  },
  {
   "cell_type": "markdown",
   "metadata": {},
   "source": [
    "Now lets look at what it has found and whether it corresponds witht the original classification scheme."
   ]
  },
  {
   "cell_type": "code",
   "execution_count": null,
   "metadata": {
    "collapsed": true
   },
   "outputs": [],
   "source": [
    "x_lda = [lda[doc_bow] for doc_bow in lda_corpus]\n",
    "def lda_to_dense(tuples,n_topics): # Convert the sparse lda vector to a dense vector\n",
    "    vec = np.zeros(n_topics)\n",
    "    for top,prob in tuples:\n",
    "        vec[top] = prob\n",
    "    return vec\n",
    "x_lda = [lda_to_dense(tuples,n_topics) for tuples in x_lda]"
   ]
  },
  {
   "cell_type": "code",
   "execution_count": null,
   "metadata": {
    "collapsed": true
   },
   "outputs": [],
   "source": [
    "y_df = pd.concat([y_df_train,y_df_test]).reset_index()\n",
    "y_df = y_df.drop('index',axis=1)\n",
    "topic2label = {i:Counter() for i in range(n_topics)}\n",
    "topic2count = Counter()\n",
    "for num,xi in enumerate(x_lda):\n",
    "    top = np.argmax(xi)\n",
    "    topic2count[top]+=1\n",
    "    row = y_df.iloc[num]\n",
    "    topic2label[top].update(row[row!=0].keys())"
   ]
  },
  {
   "cell_type": "code",
   "execution_count": null,
   "metadata": {
    "collapsed": true
   },
   "outputs": [],
   "source": [
    "for top in sorted(topic2label,reverse=True,key=lambda x: topic2count[x])[0:10]:\n",
    "    c = topic2label[top].copy()\n",
    "    n = sum(c.values())\n",
    "    ntop = topic2count[top]\n",
    "    c = Counter({i:count/ntop for i,count in c.items()})\n",
    "    print(top)\n",
    "    print('words',end=': ')\n",
    "    print(lda.show_topic(top))\n",
    "    print('labels',end=': ')\n",
    "    print(c.most_common(5),ntop/n,n)\n",
    "    print()"
   ]
  },
  {
   "cell_type": "markdown",
   "metadata": {},
   "source": [
    "Here we can see that just trusting the discovered topics has a fairly good precision in some cases and in others not so much. \n",
    "\n",
    "**Always** make sure you test the **Actual performance** of the Topic Model on **Hand-Labeled** examples, and not some weird artificial topic coherence measure**"
   ]
  },
  {
   "cell_type": "code",
   "execution_count": null,
   "metadata": {
    "collapsed": true
   },
   "outputs": [],
   "source": [
    "import pyLDAvis # Module for nice interactive viz of the topics.\n",
    "import pyLDAvis.gensim\n",
    "\n",
    "lda_df = pyLDAvis.gensim.prepare(lda, lda_corpus, D)\n",
    "#lda_df[0]['topics'] = lda_df[0].index # PyLDAvis changes the topic index so it does not match gensim.\n"
   ]
  },
  {
   "cell_type": "code",
   "execution_count": null,
   "metadata": {
    "collapsed": true
   },
   "outputs": [],
   "source": [
    "pyLDAvis.display(lda_df)"
   ]
  },
  {
   "cell_type": "code",
   "execution_count": null,
   "metadata": {
    "collapsed": true
   },
   "outputs": [],
   "source": []
  },
  {
   "cell_type": "code",
   "execution_count": null,
   "metadata": {
    "collapsed": true
   },
   "outputs": [],
   "source": [
    "# As this is stacked learning, with no feedback between the processes we should try and experiment with the number of topics.\n",
    "## However this is really costly. \n",
    "performance = []\n",
    "import tqdm\n",
    "##### ########## ########## ########## #####\n",
    "##### DONT RUN UNLESS YOU HAVE TIME##### #####\n",
    "##### ########## ########## ########## #####\n",
    "for n_topics in tqdm.tqdm(range(75,150,5)): # TAKES ABOUT 5 hours to run\n",
    "    lda_temp = gensim.models.LdaModel(lda_corpus,id2word=D,num_topics=n_topics,passes=20)\n",
    "    x_lda = [lda_temp[doc_bow] for doc_bow in lda_corpus]\n",
    "    x_lda = [lda_to_dense(tuples,n_topics) for tuples in x_lda]\n",
    "    for name,x in [('lda',x_lda)]:\n",
    "        xtrain = x[0:len(train_docs)]\n",
    "        xtest = x[len(train_docs):len(docs)]\n",
    "        for col in y_df_train.sum().sort_values().keys()[-50:]:\n",
    "            y_train = y_df_train[col].values\n",
    "            clf = sklearn.linear_model.LogisticRegression()\n",
    "            clf.fit(xtrain,y_train)\n",
    "            y_test = y_df_test[col]\n",
    "            pred = clf.predict(xtest)\n",
    "            scores = get_performance(pred,y_test)\n",
    "            datapoint = {'type':name+'_%d'%n_topics,'task':col}\n",
    "            datapoint.update(scores)\n",
    "            performance.append(datapoint)"
   ]
  },
  {
   "cell_type": "code",
   "execution_count": null,
   "metadata": {
    "collapsed": true
   },
   "outputs": [],
   "source": [
    "#score_df = pd.DataFrame(performance)\n",
    "#score_df.to_csv('topic_model_scores.csv',index=False)\n",
    "score_df = pd.read_csv('topic_model_scores.csv')"
   ]
  },
  {
   "cell_type": "code",
   "execution_count": 609,
   "metadata": {
    "collapsed": true
   },
   "outputs": [],
   "source": [
    "#lda_top = score_df.groupby('task').max().reset_index()\n",
    "#lda_top['type'] = 'lda_best'\n",
    "#lda_top.to_csv('best_lda_score.csv',index=False)\n",
    "lda_top = pd.read_csv('best_lda_score.csv')\n",
    "lda_top = lda_top.merge(pd.DataFrame(list(y_df_train.sum().items()),columns=['task','size']),on='task')"
   ]
  },
  {
   "cell_type": "markdown",
   "metadata": {},
   "source": [
    "# Application: Testing the gain of transfer learning on the Reuters dataset"
   ]
  },
  {
   "cell_type": "code",
   "execution_count": 16,
   "metadata": {
    "collapsed": true
   },
   "outputs": [],
   "source": [
    "# Load data\n",
    "import pandas as pd \n",
    "import numpy as np\n",
    "import gensim\n",
    "from collections import Counter\n",
    "import matplotlib.pyplot as plt\n",
    "%matplotlib inline\n",
    "import re\n",
    "import nltk\n",
    "from nltk.corpus import stopwords, reuters\n",
    "# List of document ids\n",
    "documents = reuters.fileids()\n",
    " \n",
    "# Load training data and test data\n",
    "train_docs_id = list(filter(lambda doc: doc.startswith(\"train\"),\n",
    "                            documents))\n",
    "test_docs_id = list(filter(lambda doc: doc.startswith(\"test\"),\n",
    "                           documents))\n",
    "# Load categories\n",
    "\n",
    "import pandas as pd\n",
    "import numpy as np\n",
    "categories = reuters.categories()\n",
    "cat2index = {cat:num for num, cat in enumerate(categories)}\n",
    "def process_categories(cats):\n",
    "    \"This function takes a list of named categories and converts them into a sparse indicator vector.\"\n",
    "    vec = np.zeros(len(cat2index))\n",
    "    for cat in cats:\n",
    "        idx = cat2index[cat]\n",
    "        vec[idx] = 1\n",
    "    return vec\n",
    "def make_y(fileids):\n",
    "    y_mat = []\n",
    "    for doc in fileids:\n",
    "        y_mat.append(process_categories(reuters.categories(doc)))\n",
    "    return pd.DataFrame(y_mat,columns=categories)\n",
    "y_df_train = make_y(train_docs_id)\n",
    "y_df_test = make_y(test_docs_id)\n",
    "# Documents\n",
    "train_docs = [reuters.raw(doc_id) for doc_id in train_docs_id]\n",
    "test_docs = [reuters.raw(doc_id) for doc_id in test_docs_id]\n",
    "# lemmatizing\n",
    "from nltk.corpus import wordnet\n",
    "\n",
    "def get_wordnet_pos(treebank_tag):\n",
    "\n",
    "    if treebank_tag.startswith('J'):\n",
    "        return wordnet.ADJ\n",
    "    elif treebank_tag.startswith('V'):\n",
    "        return wordnet.VERB\n",
    "    elif treebank_tag.startswith('N'):\n",
    "        return wordnet.NOUN\n",
    "    elif treebank_tag.startswith('R'):\n",
    "        return wordnet.ADV\n",
    "    else:\n",
    "        return ''\n",
    "lemmatizer = nltk.stem.WordNetLemmatizer()\n",
    "def lemmatize(words):\n",
    "    pos_doc = nltk.pos_tag(words)\n",
    "    pos_doc = [(word,get_wordnet_pos(tag)) for word,tag in pos_doc]\n",
    "    return [lemmatizer.lemmatize(word,tag) if tag!='' else word for word,tag in pos_doc]\n",
    "#### NORMALIZATION+TOkenization\n",
    "# Define stopwords\n",
    "from nltk.corpus import stopwords\n",
    "stop_words_nltk = set(stopwords.words('english')) # remember to define as set for performance\n",
    "#own_stop_words = set([\"the\",\"it\",\"she\",\"he\", \"a\",\"trump\",'idiot','failure','weak']) # Define your own list of stopwords\n",
    "\n",
    "#The stemmers and lemmers need to be initialized before being run\n",
    "porter = nltk.stem.porter.PorterStemmer() # \n",
    "snowball = nltk.stem.snowball.SnowballStemmer('english') # a greedy stripper\n",
    "# Normalization using a Class \n",
    "class custom_tokenizer():\n",
    "    def __init__(self,lowercase=False\n",
    "                     ,remove_non_alpha=False\n",
    "                     , stopwords = False\n",
    "                     , stemmer = False\n",
    "                     , lemmer = False,\n",
    "                     tokenizer = nltk.word_tokenize):\n",
    "        self.lowercase = lowercase\n",
    "        self.tokenizer = tokenizer\n",
    "        self.remove_non_alpha = remove_non_alpha\n",
    "        self.lemmer = lemmer\n",
    "        self.stemmer = stemmer\n",
    "        self.stopwords = stopwords\n",
    "        \n",
    "    def tokenize(self,string):\n",
    "        ####### Optional ######\n",
    "        # Filter unwanted elements, or substitute elements using regex here.\n",
    "        ## Examples: \n",
    "        ### different URLS substituted for one __link__ token\n",
    "        ### numbers substituted __number__ token, or separate tokens __zipcode__, __phonenumber__, and __money__.\n",
    "\n",
    "        # preprocess clean strings.\n",
    "        ####### Optional ######\n",
    "\n",
    "        # Split strings into words.\n",
    "        words = self.tokenizer(string)\n",
    "        # Lemmatizing\n",
    "        if self.lemmer:\n",
    "            words = lemmatize(words)\n",
    "        #removing non-words\n",
    "        if self.remove_non_alpha:\n",
    "            words = [w for w in words if w.isalpha()]\n",
    "\n",
    "        # lowering\n",
    "        if self.lowercase:\n",
    "            words = [w.lower() for w in words]\n",
    "        #Now we can use the semmer, if provided\n",
    "        if self.stemmer:\n",
    "            words = [self.stemmer.stem(w) for w in words]\n",
    "\n",
    "        #And remove the stopwords\n",
    "        if self.stopwords:\n",
    "            words = [w for w in words if w not in self.stopwords]\n",
    "        #We will return a list with the stopwords removed\n",
    "        return words\n",
    "\n",
    "configurations = {'stopwords':stop_words_nltk,'stemmer':snowball,'lemmer':True,'remove_non_alpha':True}\n",
    "default = {'lowercase':True,'stopwords':stop_words_nltk}\n",
    "tokenizer = custom_tokenizer(**default) # change configurations here\n",
    "docs = [nltk.word_tokenize(doc) for doc in train_docs+test_docs]\n",
    "\n"
   ]
  },
  {
   "cell_type": "markdown",
   "metadata": {},
   "source": [
    "### Transfer learning from Word2Vec trained on googles news dataset (billions of words)\n",
    "We want to find if a Model using Pretrained vectors from google, performs better than a model only trained on the small Reuters dataset, which might not be big enough to learn a 300 dimensional vector.\n",
    "\n",
    "Instead of using the Vanilla Word2Vec we use the Doc2Vec extension that allows us to embed any kind of tag into the same space as the words. This is done by adding a other vectors to the context predictor - e.g. the document gets its own vector, acting as a kind of memory, helping with attenuating specific dimensions that the average of each word cannot, or one could embed meta data on the document,e.g. category, or even the y labels of the **!Training!** dataset only(otherwise there is a leakage). \n"
   ]
  },
  {
   "cell_type": "code",
   "execution_count": 3,
   "metadata": {},
   "outputs": [
    {
     "name": "stdout",
     "output_type": "stream",
     "text": [
      "[=================================================-] 99.2% 1649.5/1662.8MB downloaded\n"
     ]
    }
   ],
   "source": [
    "# Download embedding. Danish embeddings are also available.\n",
    "import gensim.downloader as api\n",
    "google_w2v = api.load('word2vec-google-news-300')"
   ]
  },
  {
   "cell_type": "code",
   "execution_count": 12,
   "metadata": {
    "collapsed": true
   },
   "outputs": [],
   "source": [
    "import gensim"
   ]
  },
  {
   "cell_type": "code",
   "execution_count": 35,
   "metadata": {
    "collapsed": true
   },
   "outputs": [],
   "source": [
    "# Initialize our own model\n",
    "model = gensim.models.doc2vec.Doc2Vec(vector_size=300, min_count=0, epochs=55)\n",
    "train_corpus = [gensim.models.doc2vec.TaggedDocument(sent,[num]) for num,sent in enumerate(docs)]\n",
    "model.build_vocab(train_corpus)"
   ]
  },
  {
   "cell_type": "code",
   "execution_count": 20,
   "metadata": {},
   "outputs": [
    {
     "data": {
      "text/plain": [
       "63348"
      ]
     },
     "execution_count": 20,
     "metadata": {},
     "output_type": "execute_result"
    }
   ],
   "source": [
    "len(model.wv.vocab) # Tokens are unigrams, with no preprocessing done - even Capital letters are kept."
   ]
  },
  {
   "cell_type": "code",
   "execution_count": 21,
   "metadata": {},
   "outputs": [
    {
     "name": "stderr",
     "output_type": "stream",
     "text": [
      "/Users/axelengbergpallesen/anaconda/lib/python3.6/site-packages/ipykernel_launcher.py:1: DeprecationWarning: Call to deprecated `wv` (Attribute will be removed in 4.0.0, use self instead).\n",
      "  \"\"\"Entry point for launching an IPython kernel.\n"
     ]
    },
    {
     "data": {
      "text/plain": [
       "33222"
      ]
     },
     "execution_count": 21,
     "metadata": {},
     "output_type": "execute_result"
    }
   ],
   "source": [
    "len(set(model.wv.vocab)&set(google_w2v.wv.vocab)) # Overlap between the google vocab and the Reuters dataset."
   ]
  },
  {
   "cell_type": "code",
   "execution_count": 28,
   "metadata": {},
   "outputs": [
    {
     "data": {
      "text/plain": [
       "['SUPRADUR',\n",
       " '565,106',\n",
       " '9.6p',\n",
       " 'cts/bbl',\n",
       " 'respectviely',\n",
       " '1980s',\n",
       " 'oilfileds',\n",
       " '43.2',\n",
       " 'bid/127-1/2',\n",
       " '10,228,600']"
      ]
     },
     "execution_count": 28,
     "metadata": {},
     "output_type": "execute_result"
    }
   ],
   "source": [
    "out = set(model.wv.vocab)-set(google_w2v.wv.vocab) # Which words are not in the google vocab.\n",
    "import random\n",
    "random.sample(out,10) # Very specific numbers and spelling mistakes.\n"
   ]
  },
  {
   "cell_type": "code",
   "execution_count": 50,
   "metadata": {},
   "outputs": [
    {
     "name": "stderr",
     "output_type": "stream",
     "text": [
      "/Users/axelengbergpallesen/anaconda/lib/python3.6/site-packages/ipykernel_launcher.py:8: DeprecationWarning: Call to deprecated `wv` (Attribute will be removed in 4.0.0, use self instead).\n",
      "  \n"
     ]
    }
   ],
   "source": [
    "# Before training we initialize Word Vectors with Pretrained from the google dataset.\n",
    "# add model.\n",
    "new_array = []\n",
    "for num,w in enumerate(model.wv.index2word):\n",
    "    if w in out: # If not in Google Vocab, use the random initialization\n",
    "        new_array.append(model.wv.vectors[num])\n",
    "        continue\n",
    "    new_array.append(google_w2v.wv.wv[w])\n",
    "new_array = np.array(new_array)\n",
    "model.wv.vectors = new_array"
   ]
  },
  {
   "cell_type": "code",
   "execution_count": 53,
   "metadata": {},
   "outputs": [
    {
     "name": "stdout",
     "output_type": "stream",
     "text": [
      "1 loop, best of 3: 5min 42s per loop\n"
     ]
    }
   ],
   "source": [
    "### train model\n",
    "%time model.train(train_corpus,total_examples=model.corpus_count,epochs = 55)"
   ]
  },
  {
   "cell_type": "code",
   "execution_count": 117,
   "metadata": {},
   "outputs": [
    {
     "name": "stdout",
     "output_type": "stream",
     "text": [
      "CPU times: user 10min 43s, sys: 19.4 s, total: 11min 2s\n",
      "Wall time: 23min 34s\n"
     ]
    }
   ],
   "source": [
    "# Train model without initialization\n",
    "model2 = gensim.models.doc2vec.Doc2Vec(vector_size=300, min_count=0, epochs=55)\n",
    "model2.build_vocab(train_corpus)\n",
    "%time model2.train(train_corpus,total_examples=model.corpus_count,epochs = 55)"
   ]
  },
  {
   "cell_type": "markdown",
   "metadata": {},
   "source": [
    "## Now lets run some tests\n",
    "We want to compare the pretrained and without pretrained embeddings, and furthermore we want to see how they perform compared to our Bag of Words methods from last week.\n",
    "\n",
    "The document vectors are not used in this test (due to a surprisingly weak performance - might be an error on my part), instead we construct a document vector by average the embedding of its words."
   ]
  },
  {
   "cell_type": "code",
   "execution_count": 377,
   "metadata": {
    "collapsed": true
   },
   "outputs": [],
   "source": [
    "def get_average_vector(doc,input_model): # Construct a document context vector by averaging each word.\n",
    "    return np.mean(np.array([input_model.wv[w] for w in doc]).T,axis=1)\n",
    "\n",
    "import tqdm\n",
    "\n",
    "def get_performance(pred,y_test,prefix=''):\n",
    "    return {prefix+'recall':sklearn.metrics.recall_score(y_test,pred),\n",
    "           prefix+'precision':sklearn.metrics.precision_score(y_test,pred),\n",
    "            prefix+'accuracy':sklearn.metrics.accuracy_score(y_test,pred),\n",
    "            prefix+'f1':sklearn.metrics.f1_score(y_test,pred)\n",
    "           }\n",
    "performance2 = [] # define container for our experiment."
   ]
  },
  {
   "cell_type": "code",
   "execution_count": 385,
   "metadata": {
    "collapsed": true
   },
   "outputs": [],
   "source": [
    " # Define the two training matrices\n",
    "x_pre,x_no_pre = [get_average_vector(doc,model,out) for doc in docs] , [get_average_vector(doc,model2,out) for doc in docs]\n"
   ]
  },
  {
   "cell_type": "code",
   "execution_count": 382,
   "metadata": {},
   "outputs": [
    {
     "name": "stderr",
     "output_type": "stream",
     "text": [
      "/Users/axelengbergpallesen/anaconda/lib/python3.6/site-packages/sklearn/metrics/classification.py:1135: UndefinedMetricWarning: Precision is ill-defined and being set to 0.0 due to no predicted samples.\n",
      "  'precision', 'predicted', average, warn_for)\n",
      "/Users/axelengbergpallesen/anaconda/lib/python3.6/site-packages/sklearn/metrics/classification.py:1135: UndefinedMetricWarning: F-score is ill-defined and being set to 0.0 due to no predicted samples.\n",
      "  'precision', 'predicted', average, warn_for)\n"
     ]
    }
   ],
   "source": [
    "for name,x in [('pre',x_pre),('no_pre',x_no_pre)]:\n",
    "    xtrain = x[0:len(train_docs)]\n",
    "    xtest = x[len(train_docs):len(docs)]\n",
    "    for col in y_df_train.sum().sort_values().keys()[-50:]: # Run through top 50 classification tasks\n",
    "        y_train = y_df_train[col].values\n",
    "        clf = sklearn.linear_model.LogisticRegression() # Simple linear predictor, pr experience. \n",
    "        clf.fit(xtrain,y_train)\n",
    "        y_test = y_df_test[col] \n",
    "        pred = clf.predict(xtest)\n",
    "        scores = get_performance(pred,y_test) # Measure performance\n",
    "        datapoint = {'type':name,'task':col}\n",
    "        datapoint.update(scores)\n",
    "        performance2.append(datapoint)\n"
   ]
  },
  {
   "cell_type": "code",
   "execution_count": 454,
   "metadata": {},
   "outputs": [
    {
     "data": {
      "text/html": [
       "<div>\n",
       "<style scoped>\n",
       "    .dataframe tbody tr th:only-of-type {\n",
       "        vertical-align: middle;\n",
       "    }\n",
       "\n",
       "    .dataframe tbody tr th {\n",
       "        vertical-align: top;\n",
       "    }\n",
       "\n",
       "    .dataframe thead th {\n",
       "        text-align: right;\n",
       "    }\n",
       "</style>\n",
       "<table border=\"1\" class=\"dataframe\">\n",
       "  <thead>\n",
       "    <tr style=\"text-align: right;\">\n",
       "      <th>task</th>\n",
       "      <th>money-fx</th>\n",
       "      <th>acq</th>\n",
       "      <th>earn</th>\n",
       "    </tr>\n",
       "    <tr>\n",
       "      <th>type</th>\n",
       "      <th></th>\n",
       "      <th></th>\n",
       "      <th></th>\n",
       "    </tr>\n",
       "  </thead>\n",
       "  <tbody>\n",
       "    <tr>\n",
       "      <th>no_pre</th>\n",
       "      <td>0.810667</td>\n",
       "      <td>0.950565</td>\n",
       "      <td>0.981584</td>\n",
       "    </tr>\n",
       "    <tr>\n",
       "      <th>pre</th>\n",
       "      <td>0.823068</td>\n",
       "      <td>0.951507</td>\n",
       "      <td>0.983133</td>\n",
       "    </tr>\n",
       "  </tbody>\n",
       "</table>\n",
       "</div>"
      ],
      "text/plain": [
       "task    money-fx       acq      earn\n",
       "type                                \n",
       "no_pre  0.810667  0.950565  0.981584\n",
       "pre     0.823068  0.951507  0.983133"
      ]
     },
     "execution_count": 454,
     "metadata": {},
     "output_type": "execute_result"
    }
   ],
   "source": [
    "performance_df = pd.DataFrame(performance2)\n",
    "performance_df.groupby('type').apply(lambda x: x.groupby('task').f1.mean())[['money-fx','acq','earn']] # On largest positive sample task"
   ]
  },
  {
   "cell_type": "markdown",
   "metadata": {},
   "source": [
    "On the three largest tasks, measured by number of positive training examples, here we see only a small gain by using the pretrained.\n",
    "\n",
    "However if we look at classes with less positive training we might see a different picture."
   ]
  },
  {
   "cell_type": "code",
   "execution_count": 383,
   "metadata": {},
   "outputs": [
    {
     "data": {
      "text/html": [
       "<div>\n",
       "<style scoped>\n",
       "    .dataframe tbody tr th:only-of-type {\n",
       "        vertical-align: middle;\n",
       "    }\n",
       "\n",
       "    .dataframe tbody tr th {\n",
       "        vertical-align: top;\n",
       "    }\n",
       "\n",
       "    .dataframe thead th {\n",
       "        text-align: right;\n",
       "    }\n",
       "</style>\n",
       "<table border=\"1\" class=\"dataframe\">\n",
       "  <thead>\n",
       "    <tr style=\"text-align: right;\">\n",
       "      <th>task</th>\n",
       "      <th>acq</th>\n",
       "      <th>alum</th>\n",
       "      <th>barley</th>\n",
       "      <th>bop</th>\n",
       "      <th>carcass</th>\n",
       "      <th>cocoa</th>\n",
       "      <th>coffee</th>\n",
       "      <th>copper</th>\n",
       "      <th>corn</th>\n",
       "      <th>cotton</th>\n",
       "      <th>...</th>\n",
       "      <th>soybean</th>\n",
       "      <th>strategic-metal</th>\n",
       "      <th>sugar</th>\n",
       "      <th>tin</th>\n",
       "      <th>trade</th>\n",
       "      <th>veg-oil</th>\n",
       "      <th>wheat</th>\n",
       "      <th>wpi</th>\n",
       "      <th>yen</th>\n",
       "      <th>zinc</th>\n",
       "    </tr>\n",
       "    <tr>\n",
       "      <th>type</th>\n",
       "      <th></th>\n",
       "      <th></th>\n",
       "      <th></th>\n",
       "      <th></th>\n",
       "      <th></th>\n",
       "      <th></th>\n",
       "      <th></th>\n",
       "      <th></th>\n",
       "      <th></th>\n",
       "      <th></th>\n",
       "      <th></th>\n",
       "      <th></th>\n",
       "      <th></th>\n",
       "      <th></th>\n",
       "      <th></th>\n",
       "      <th></th>\n",
       "      <th></th>\n",
       "      <th></th>\n",
       "      <th></th>\n",
       "      <th></th>\n",
       "      <th></th>\n",
       "    </tr>\n",
       "  </thead>\n",
       "  <tbody>\n",
       "    <tr>\n",
       "      <th>no_pre</th>\n",
       "      <td>0.950565</td>\n",
       "      <td>0.076923</td>\n",
       "      <td>0.315789</td>\n",
       "      <td>0.510638</td>\n",
       "      <td>0.000000</td>\n",
       "      <td>0.56</td>\n",
       "      <td>0.755556</td>\n",
       "      <td>0.363636</td>\n",
       "      <td>0.521739</td>\n",
       "      <td>0.166667</td>\n",
       "      <td>...</td>\n",
       "      <td>0.256410</td>\n",
       "      <td>0.0</td>\n",
       "      <td>0.701754</td>\n",
       "      <td>0.0</td>\n",
       "      <td>0.753363</td>\n",
       "      <td>0.304348</td>\n",
       "      <td>0.765625</td>\n",
       "      <td>0.333333</td>\n",
       "      <td>0.0</td>\n",
       "      <td>0.0</td>\n",
       "    </tr>\n",
       "    <tr>\n",
       "      <th>pre</th>\n",
       "      <td>0.951507</td>\n",
       "      <td>0.214286</td>\n",
       "      <td>0.380952</td>\n",
       "      <td>0.533333</td>\n",
       "      <td>0.285714</td>\n",
       "      <td>0.50</td>\n",
       "      <td>0.791667</td>\n",
       "      <td>0.434783</td>\n",
       "      <td>0.574468</td>\n",
       "      <td>0.260870</td>\n",
       "      <td>...</td>\n",
       "      <td>0.380952</td>\n",
       "      <td>0.0</td>\n",
       "      <td>0.724138</td>\n",
       "      <td>0.0</td>\n",
       "      <td>0.747664</td>\n",
       "      <td>0.408163</td>\n",
       "      <td>0.809524</td>\n",
       "      <td>0.333333</td>\n",
       "      <td>0.0</td>\n",
       "      <td>0.0</td>\n",
       "    </tr>\n",
       "  </tbody>\n",
       "</table>\n",
       "<p>2 rows × 50 columns</p>\n",
       "</div>"
      ],
      "text/plain": [
       "task         acq      alum    barley       bop   carcass  cocoa    coffee  \\\n",
       "type                                                                        \n",
       "no_pre  0.950565  0.076923  0.315789  0.510638  0.000000   0.56  0.755556   \n",
       "pre     0.951507  0.214286  0.380952  0.533333  0.285714   0.50  0.791667   \n",
       "\n",
       "task      copper      corn    cotton  ...    soybean  strategic-metal  \\\n",
       "type                                  ...                               \n",
       "no_pre  0.363636  0.521739  0.166667  ...   0.256410              0.0   \n",
       "pre     0.434783  0.574468  0.260870  ...   0.380952              0.0   \n",
       "\n",
       "task       sugar  tin     trade   veg-oil     wheat       wpi  yen  zinc  \n",
       "type                                                                      \n",
       "no_pre  0.701754  0.0  0.753363  0.304348  0.765625  0.333333  0.0   0.0  \n",
       "pre     0.724138  0.0  0.747664  0.408163  0.809524  0.333333  0.0   0.0  \n",
       "\n",
       "[2 rows x 50 columns]"
      ]
     },
     "execution_count": 383,
     "metadata": {},
     "output_type": "execute_result"
    }
   ],
   "source": [
    "\n",
    "performance_df.groupby('type').apply(lambda x: x.groupby('task').f1.mean())"
   ]
  },
  {
   "cell_type": "code",
   "execution_count": 386,
   "metadata": {
    "collapsed": true
   },
   "outputs": [],
   "source": [
    "performance_df = performance_df.merge(pd.DataFrame(list(y_df_train.sum().items()),columns=['task','size']),on='task')"
   ]
  },
  {
   "cell_type": "markdown",
   "metadata": {},
   "source": [
    "## Comparison of the two embeddings performance as a function of positive training examples"
   ]
  },
  {
   "cell_type": "code",
   "execution_count": 391,
   "metadata": {},
   "outputs": [
    {
     "data": {
      "text/html": [
       "<div>\n",
       "<style scoped>\n",
       "    .dataframe tbody tr th:only-of-type {\n",
       "        vertical-align: middle;\n",
       "    }\n",
       "\n",
       "    .dataframe tbody tr th {\n",
       "        vertical-align: top;\n",
       "    }\n",
       "\n",
       "    .dataframe thead th {\n",
       "        text-align: right;\n",
       "    }\n",
       "</style>\n",
       "<table border=\"1\" class=\"dataframe\">\n",
       "  <thead>\n",
       "    <tr style=\"text-align: right;\">\n",
       "      <th></th>\n",
       "      <th>accuracy</th>\n",
       "      <th>f1</th>\n",
       "      <th>precision</th>\n",
       "      <th>recall</th>\n",
       "      <th>size</th>\n",
       "    </tr>\n",
       "    <tr>\n",
       "      <th>type</th>\n",
       "      <th></th>\n",
       "      <th></th>\n",
       "      <th></th>\n",
       "      <th></th>\n",
       "      <th></th>\n",
       "    </tr>\n",
       "  </thead>\n",
       "  <tbody>\n",
       "    <tr>\n",
       "      <th>no_pre</th>\n",
       "      <td>0.990879</td>\n",
       "      <td>0.450286</td>\n",
       "      <td>0.654595</td>\n",
       "      <td>0.386998</td>\n",
       "      <td>347.839286</td>\n",
       "    </tr>\n",
       "    <tr>\n",
       "      <th>pre</th>\n",
       "      <td>0.991406</td>\n",
       "      <td>0.490368</td>\n",
       "      <td>0.731905</td>\n",
       "      <td>0.415442</td>\n",
       "      <td>347.839286</td>\n",
       "    </tr>\n",
       "  </tbody>\n",
       "</table>\n",
       "</div>"
      ],
      "text/plain": [
       "        accuracy        f1  precision    recall        size\n",
       "type                                                       \n",
       "no_pre  0.990879  0.450286   0.654595  0.386998  347.839286\n",
       "pre     0.991406  0.490368   0.731905  0.415442  347.839286"
      ]
     },
     "execution_count": 391,
     "metadata": {},
     "output_type": "execute_result"
    }
   ],
   "source": [
    "performance_df.groupby('type').mean()"
   ]
  },
  {
   "cell_type": "markdown",
   "metadata": {},
   "source": [
    "Overall using the pretrained+finetuned is far better.\n",
    "\n",
    "Lets see how it relates to the small classes."
   ]
  },
  {
   "cell_type": "code",
   "execution_count": 389,
   "metadata": {},
   "outputs": [
    {
     "name": "stderr",
     "output_type": "stream",
     "text": [
      "/Users/axelengbergpallesen/anaconda/lib/python3.6/site-packages/ipykernel_launcher.py:4: FutureWarning: pd.rolling_mean is deprecated for Series and will be removed in a future version, replace with \n",
      "\tSeries.rolling(window=10,center=True).mean()\n",
      "  after removing the cwd from sys.path.\n"
     ]
    },
    {
     "data": {
      "text/plain": [
       "<matplotlib.text.Text at 0x1a1b848438>"
      ]
     },
     "execution_count": 389,
     "metadata": {},
     "output_type": "execute_result"
    },
    {
     "data": {
      "image/png": "[encoded data removed]",
      "text/plain": [
       "<matplotlib.figure.Figure at 0x1a1b819780>"
      ]
     },
     "metadata": {},
     "output_type": "display_data"
    }
   ],
   "source": [
    "def plot_rolling_mean(tempdf):\n",
    "    tempdf = tempdf.sort_values('size')\n",
    "    x,y = tempdf['size'],tempdf['f1']\n",
    "    x,y = pd.rolling_mean(x,window=10,center=True),pd.rolling_mean(y,window=10,center=True)\n",
    "    plt.plot(x,y,label=tempdf['type'].values[0])\n",
    "plt.figure(figsize=(12,8))\n",
    "performance_df.groupby('type').apply(plot_rolling_mean)\n",
    "\n",
    "plt.legend()\n",
    "plt.title('Performance as a function of positive examples')\n",
    "plt.xscale('log')\n",
    "plt.ylabel('f1')\n",
    "plt.xlabel('# positive training examples')"
   ]
  },
  {
   "cell_type": "markdown",
   "metadata": {},
   "source": [
    "Here we see that the gain decreases as the number of examples present in the training data decreases. Suggesting that it is useful for rare classes."
   ]
  },
  {
   "cell_type": "markdown",
   "metadata": {},
   "source": [
    "# Comparison to Bag of Word Models\n",
    "Here we will expect to see a gain especially in terms of learning curve, but also in many cases on the overall performance.\n",
    "\n",
    "However the dataset has a few percularities in the categorization. For instance a classifier should learn to differentiate between documents about wheat and documents about corn. However one might expect that agricultural products will be very close in vector space, and that 300 dimensions will probably be a little small to encode a large difference between the two, making it hard for a model dependent only on the embedding and not the BoW. \n"
   ]
  },
  {
   "cell_type": "code",
   "execution_count": 434,
   "metadata": {
    "collapsed": true
   },
   "outputs": [],
   "source": [
    "#train_docs[2938]  #'wheat'"
   ]
  },
  {
   "cell_type": "code",
   "execution_count": 435,
   "metadata": {
    "collapsed": true
   },
   "outputs": [],
   "source": [
    "#train_docs[3074] #'corn'"
   ]
  },
  {
   "cell_type": "code",
   "execution_count": 441,
   "metadata": {},
   "outputs": [
    {
     "data": {
      "text/plain": [
       "'BENGUET CORP &lt;BE> CALENDAR 1986\\n  Net income 154.7 mln pesos vs 127.5 mln\\n      Operating revenues 4.42 billion vs 3.3 billion\\n      Operating profit 621.2 mln vs 203.4 mln\\n      Earnings per share 4.80 vs 3.95\\n      NOTE: Company statement said gold operations contributed 74\\n  pct of consolidated earnings.\\n  \\n\\n'"
      ]
     },
     "execution_count": 441,
     "metadata": {},
     "output_type": "execute_result"
    }
   ],
   "source": [
    "#train_docs[4823] #'earn'\n",
    "#train_docs[7353] #'earn'"
   ]
  },
  {
   "cell_type": "markdown",
   "metadata": {},
   "source": [
    "## Learning curves\n",
    "Here we want to investigate if the Doc2Vec based models can learn faster, than BoW based models like SVM and Naive Bayes.\n",
    "\n",
    "\n",
    "In theory the density of the embedding models should be better than, but it might also depend on the task:\n",
    "\n",
    "* Is the classification task related to what a context predicting model like Word2Vec and Doc2Vec? \n",
    "    - Are the embeddings granular enough, that it differentiates strongly between Corn and Wheat?\n",
    "\n",
    "* Is the input short (i.e. text snippets) or long, \n",
    "    * The SVM model will be helped by longer snippets, i.e. less sparsity in the document vector. (Wang and Manning 2015)\n",
    " "
   ]
  },
  {
   "cell_type": "code",
   "execution_count": 393,
   "metadata": {
    "collapsed": true
   },
   "outputs": [],
   "source": [
    "test_results = []"
   ]
  },
  {
   "cell_type": "markdown",
   "metadata": {},
   "source": [
    "### Doc2vec learning curve"
   ]
  },
  {
   "cell_type": "code",
   "execution_count": 604,
   "metadata": {
    "scrolled": true
   },
   "outputs": [
    {
     "name": "stderr",
     "output_type": "stream",
     "text": [
      "\n",
      "  0%|          | 0/40 [00:00<?, ?it/s]\u001b[A"
     ]
    },
    {
     "name": "stdout",
     "output_type": "stream",
     "text": [
      "orange\n",
      "----------------"
     ]
    },
    {
     "name": "stderr",
     "output_type": "stream",
     "text": [
      "/Users/axelengbergpallesen/anaconda/lib/python3.6/site-packages/sklearn/metrics/classification.py:1135: UndefinedMetricWarning: Precision is ill-defined and being set to 0.0 due to no predicted samples.\n",
      "  'precision', 'predicted', average, warn_for)\n",
      "/Users/axelengbergpallesen/anaconda/lib/python3.6/site-packages/sklearn/metrics/classification.py:1135: UndefinedMetricWarning: F-score is ill-defined and being set to 0.0 due to no predicted samples.\n",
      "  'precision', 'predicted', average, warn_for)\n"
     ]
    },
    {
     "name": "stdout",
     "output_type": "stream",
     "text": [
      "--------"
     ]
    },
    {
     "name": "stderr",
     "output_type": "stream",
     "text": [
      "\n",
      "Exception in thread Thread-1340:\n",
      "Traceback (most recent call last):\n",
      "  File \"/Users/axelengbergpallesen/anaconda/lib/python3.6/threading.py\", line 916, in _bootstrap_inner\n",
      "    self.run()\n",
      "  File \"/Users/axelengbergpallesen/anaconda/lib/python3.6/site-packages/tqdm/_tqdm.py\", line 144, in run\n",
      "    for instance in self.tqdm_cls._instances:\n",
      "  File \"/Users/axelengbergpallesen/anaconda/lib/python3.6/_weakrefset.py\", line 60, in __iter__\n",
      "    for itemref in self.data:\n",
      "RuntimeError: Set changed size during iteration\n",
      "\n",
      "  2%|▎         | 1/40 [01:16<49:44, 76.53s/it]"
     ]
    },
    {
     "name": "stdout",
     "output_type": "stream",
     "text": [
      "strategic-metal\n",
      "-----------------------------"
     ]
    },
    {
     "name": "stderr",
     "output_type": "stream",
     "text": [
      "\r",
      "  5%|▌         | 2/40 [02:21<44:54, 70.91s/it]"
     ]
    },
    {
     "name": "stdout",
     "output_type": "stream",
     "text": [
      "hog\n",
      "---------------------------------------------------------------------------------------------------------------------------------"
     ]
    },
    {
     "name": "stderr",
     "output_type": "stream",
     "text": [
      "\r",
      "  8%|▊         | 3/40 [03:47<46:50, 75.96s/it]"
     ]
    },
    {
     "name": "stdout",
     "output_type": "stream",
     "text": [
      "rapeseed\n",
      "-------------------------------------------------------------------------"
     ]
    },
    {
     "name": "stderr",
     "output_type": "stream",
     "text": [
      "\r",
      " 10%|█         | 4/40 [05:12<46:54, 78.18s/it]"
     ]
    },
    {
     "name": "stdout",
     "output_type": "stream",
     "text": [
      "tin\n",
      "--------------------------------------------------------"
     ]
    },
    {
     "name": "stderr",
     "output_type": "stream",
     "text": [
      "\r",
      " 12%|█▎        | 5/40 [06:22<44:40, 76.59s/it]"
     ]
    },
    {
     "name": "stdout",
     "output_type": "stream",
     "text": [
      "wpi\n",
      "------------------------------------------------------"
     ]
    },
    {
     "name": "stderr",
     "output_type": "stream",
     "text": [
      "\r",
      " 15%|█▌        | 6/40 [07:06<40:17, 71.10s/it]"
     ]
    },
    {
     "name": "stdout",
     "output_type": "stream",
     "text": [
      "pet-chem\n",
      "-----------------------------------------------"
     ]
    },
    {
     "name": "stderr",
     "output_type": "stream",
     "text": [
      "\r",
      " 18%|█▊        | 7/40 [07:51<37:03, 67.37s/it]"
     ]
    },
    {
     "name": "stdout",
     "output_type": "stream",
     "text": [
      "silver\n",
      "---------------------------------------------------------------------------------------------------------------------------------------------------------------------------------------"
     ]
    },
    {
     "name": "stderr",
     "output_type": "stream",
     "text": [
      "\r",
      " 20%|██        | 8/40 [08:55<35:43, 67.00s/it]"
     ]
    },
    {
     "name": "stdout",
     "output_type": "stream",
     "text": [
      "zinc\n",
      "----------------------------------------"
     ]
    },
    {
     "name": "stderr",
     "output_type": "stream",
     "text": [
      "\r",
      " 22%|██▎       | 9/40 [09:46<33:40, 65.18s/it]"
     ]
    },
    {
     "name": "stdout",
     "output_type": "stream",
     "text": [
      "retail\n",
      "----------------"
     ]
    },
    {
     "name": "stderr",
     "output_type": "stream",
     "text": [
      "\r",
      " 25%|██▌       | 10/40 [10:33<31:40, 63.35s/it]"
     ]
    },
    {
     "name": "stdout",
     "output_type": "stream",
     "text": [
      "sorghum\n",
      "----------------------------------------------------------"
     ]
    },
    {
     "name": "stderr",
     "output_type": "stream",
     "text": [
      "\r",
      " 28%|██▊       | 11/40 [11:19<29:52, 61.81s/it]"
     ]
    },
    {
     "name": "stdout",
     "output_type": "stream",
     "text": [
      "meal-feed\n",
      "------"
     ]
    },
    {
     "name": "stderr",
     "output_type": "stream",
     "text": [
      "\r",
      " 30%|███       | 12/40 [12:08<28:18, 60.68s/it]"
     ]
    },
    {
     "name": "stdout",
     "output_type": "stream",
     "text": [
      "palm-oil\n",
      "-----------------------------------------------"
     ]
    },
    {
     "name": "stderr",
     "output_type": "stream",
     "text": [
      "\r",
      " 32%|███▎      | 13/40 [12:58<26:57, 59.91s/it]"
     ]
    },
    {
     "name": "stdout",
     "output_type": "stream",
     "text": [
      "rice\n",
      "------"
     ]
    },
    {
     "name": "stderr",
     "output_type": "stream",
     "text": [
      "\r",
      " 35%|███▌      | 14/40 [14:43<27:21, 63.13s/it]"
     ]
    },
    {
     "name": "stdout",
     "output_type": "stream",
     "text": [
      "alum\n",
      "-----------------------------------"
     ]
    },
    {
     "name": "stderr",
     "output_type": "stream",
     "text": [
      "\r",
      " 38%|███▊      | 15/40 [17:21<28:56, 69.45s/it]"
     ]
    },
    {
     "name": "stdout",
     "output_type": "stream",
     "text": [
      "gas\n",
      "------------------"
     ]
    },
    {
     "name": "stderr",
     "output_type": "stream",
     "text": [
      "\r",
      " 40%|████      | 16/40 [19:26<29:09, 72.92s/it]"
     ]
    },
    {
     "name": "stdout",
     "output_type": "stream",
     "text": [
      "rubber\n",
      "------------------------"
     ]
    },
    {
     "name": "stderr",
     "output_type": "stream",
     "text": [
      "\r",
      " 42%|████▎     | 17/40 [21:15<28:45, 75.02s/it]"
     ]
    },
    {
     "name": "stdout",
     "output_type": "stream",
     "text": [
      "barley\n",
      "-----------------"
     ]
    },
    {
     "name": "stderr",
     "output_type": "stream",
     "text": [
      "\r",
      " 45%|████▌     | 18/40 [23:42<28:58, 79.03s/it]"
     ]
    },
    {
     "name": "stdout",
     "output_type": "stream",
     "text": [
      "cotton\n",
      "----------"
     ]
    },
    {
     "name": "stderr",
     "output_type": "stream",
     "text": [
      "\r",
      " 48%|████▊     | 19/40 [25:38<28:19, 80.95s/it]"
     ]
    },
    {
     "name": "stdout",
     "output_type": "stream",
     "text": [
      "iron-steel\n",
      "-------"
     ]
    },
    {
     "name": "stderr",
     "output_type": "stream",
     "text": [
      "\r",
      " 50%|█████     | 20/40 [27:27<27:27, 82.36s/it]"
     ]
    },
    {
     "name": "stdout",
     "output_type": "stream",
     "text": [
      "ipi\n",
      "-------------"
     ]
    },
    {
     "name": "stderr",
     "output_type": "stream",
     "text": [
      "\r",
      " 52%|█████▎    | 21/40 [28:34<25:51, 81.65s/it]"
     ]
    },
    {
     "name": "stdout",
     "output_type": "stream",
     "text": [
      "yen\n",
      "-----------------"
     ]
    },
    {
     "name": "stderr",
     "output_type": "stream",
     "text": [
      "\r",
      " 55%|█████▌    | 22/40 [30:08<24:39, 82.22s/it]"
     ]
    },
    {
     "name": "stdout",
     "output_type": "stream",
     "text": [
      "jobs\n",
      "--------"
     ]
    },
    {
     "name": "stderr",
     "output_type": "stream",
     "text": [
      "\r",
      " 57%|█████▊    | 23/40 [32:15<23:50, 84.14s/it]"
     ]
    },
    {
     "name": "stdout",
     "output_type": "stream",
     "text": [
      "copper\n",
      "--------"
     ]
    },
    {
     "name": "stderr",
     "output_type": "stream",
     "text": [
      "\r",
      " 60%|██████    | 24/40 [33:57<22:38, 84.91s/it]"
     ]
    },
    {
     "name": "stdout",
     "output_type": "stream",
     "text": [
      "carcass\n",
      "----------"
     ]
    },
    {
     "name": "stderr",
     "output_type": "stream",
     "text": [
      "\r",
      " 62%|██████▎   | 25/40 [35:16<21:10, 84.67s/it]"
     ]
    },
    {
     "name": "stdout",
     "output_type": "stream",
     "text": [
      "cocoa\n",
      "---"
     ]
    },
    {
     "name": "stderr",
     "output_type": "stream",
     "text": [
      "\r",
      " 65%|██████▌   | 26/40 [36:16<19:31, 83.70s/it]"
     ]
    },
    {
     "name": "stdout",
     "output_type": "stream",
     "text": [
      "reserves\n",
      "------------------"
     ]
    },
    {
     "name": "stderr",
     "output_type": "stream",
     "text": [
      "\r",
      " 68%|██████▊   | 27/40 [37:28<18:02, 83.28s/it]"
     ]
    },
    {
     "name": "stdout",
     "output_type": "stream",
     "text": [
      "cpi\n",
      "-"
     ]
    },
    {
     "name": "stderr",
     "output_type": "stream",
     "text": [
      "\r",
      " 70%|███████   | 28/40 [38:50<16:38, 83.24s/it]"
     ]
    },
    {
     "name": "stdout",
     "output_type": "stream",
     "text": [
      "bop\n",
      "-----"
     ]
    },
    {
     "name": "stderr",
     "output_type": "stream",
     "text": [
      "\r",
      " 72%|███████▎  | 29/40 [40:13<15:15, 83.21s/it]"
     ]
    },
    {
     "name": "stdout",
     "output_type": "stream",
     "text": [
      "nat-gas\n",
      "--------"
     ]
    },
    {
     "name": "stderr",
     "output_type": "stream",
     "text": [
      "\r",
      " 75%|███████▌  | 30/40 [42:04<14:01, 84.16s/it]"
     ]
    },
    {
     "name": "stdout",
     "output_type": "stream",
     "text": [
      "livestock\n",
      "--------"
     ]
    },
    {
     "name": "stderr",
     "output_type": "stream",
     "text": [
      "\r",
      " 78%|███████▊  | 31/40 [43:56<12:45, 85.06s/it]"
     ]
    },
    {
     "name": "stdout",
     "output_type": "stream",
     "text": [
      "soybean\n"
     ]
    },
    {
     "name": "stderr",
     "output_type": "stream",
     "text": [
      "\r",
      " 80%|████████  | 32/40 [46:44<11:41, 87.63s/it]"
     ]
    },
    {
     "name": "stdout",
     "output_type": "stream",
     "text": [
      "veg-oil\n",
      "---"
     ]
    },
    {
     "name": "stderr",
     "output_type": "stream",
     "text": [
      "\r",
      " 82%|████████▎ | 33/40 [48:29<10:17, 88.18s/it]"
     ]
    },
    {
     "name": "stdout",
     "output_type": "stream",
     "text": [
      "gold\n"
     ]
    },
    {
     "name": "stderr",
     "output_type": "stream",
     "text": [
      "\r",
      " 85%|████████▌ | 34/40 [50:07<08:50, 88.47s/it]"
     ]
    },
    {
     "name": "stdout",
     "output_type": "stream",
     "text": [
      "gnp\n",
      "--------"
     ]
    },
    {
     "name": "stderr",
     "output_type": "stream",
     "text": [
      "\r",
      " 88%|████████▊ | 35/40 [51:28<07:21, 88.23s/it]"
     ]
    },
    {
     "name": "stdout",
     "output_type": "stream",
     "text": [
      "coffee\n"
     ]
    },
    {
     "name": "stderr",
     "output_type": "stream",
     "text": [
      "\r",
      " 90%|█████████ | 36/40 [53:01<05:53, 88.38s/it]"
     ]
    },
    {
     "name": "stdout",
     "output_type": "stream",
     "text": [
      "oilseed\n"
     ]
    },
    {
     "name": "stderr",
     "output_type": "stream",
     "text": [
      "\r",
      " 92%|█████████▎| 37/40 [54:46<04:26, 88.82s/it]"
     ]
    },
    {
     "name": "stdout",
     "output_type": "stream",
     "text": [
      "sugar\n"
     ]
    },
    {
     "name": "stderr",
     "output_type": "stream",
     "text": [
      "\r",
      " 95%|█████████▌| 38/40 [56:13<02:57, 88.78s/it]"
     ]
    },
    {
     "name": "stdout",
     "output_type": "stream",
     "text": [
      "dlr\n"
     ]
    },
    {
     "name": "stderr",
     "output_type": "stream",
     "text": [
      "\r",
      " 98%|█████████▊| 39/40 [57:44<01:28, 88.83s/it]"
     ]
    },
    {
     "name": "stdout",
     "output_type": "stream",
     "text": [
      "money-supply\n",
      "-"
     ]
    },
    {
     "name": "stderr",
     "output_type": "stream",
     "text": [
      "100%|██████████| 40/40 [59:58<00:00, 89.96s/it]\n",
      "  0%|          | 0/40 [00:00<?, ?it/s]"
     ]
    },
    {
     "name": "stdout",
     "output_type": "stream",
     "text": [
      "orange\n",
      "-------------------------------------------------------------------------------------------------"
     ]
    },
    {
     "name": "stderr",
     "output_type": "stream",
     "text": [
      "\r",
      "  2%|▎         | 1/40 [01:51<1:12:19, 111.27s/it]"
     ]
    },
    {
     "name": "stdout",
     "output_type": "stream",
     "text": [
      "strategic-metal\n",
      "--------------------------------------------"
     ]
    },
    {
     "name": "stderr",
     "output_type": "stream",
     "text": [
      "\r",
      "  5%|▌         | 2/40 [04:37<1:27:48, 138.65s/it]"
     ]
    },
    {
     "name": "stdout",
     "output_type": "stream",
     "text": [
      "hog\n",
      "--------------------------------------------------"
     ]
    },
    {
     "name": "stderr",
     "output_type": "stream",
     "text": [
      "\r",
      "  8%|▊         | 3/40 [07:07<1:27:52, 142.49s/it]"
     ]
    },
    {
     "name": "stdout",
     "output_type": "stream",
     "text": [
      "rapeseed\n",
      "-----------------------------------------------------------------------------------------------------------------------------------------------------"
     ]
    },
    {
     "name": "stderr",
     "output_type": "stream",
     "text": [
      "\r",
      " 10%|█         | 4/40 [08:12<1:13:51, 123.09s/it]"
     ]
    },
    {
     "name": "stdout",
     "output_type": "stream",
     "text": [
      "tin\n",
      "-------------------------------------------------------------------------------------------"
     ]
    },
    {
     "name": "stderr",
     "output_type": "stream",
     "text": [
      "\r",
      " 12%|█▎        | 5/40 [09:18<1:05:06, 111.62s/it]"
     ]
    },
    {
     "name": "stdout",
     "output_type": "stream",
     "text": [
      "wpi\n",
      "------------------------------------------------------------------"
     ]
    },
    {
     "name": "stderr",
     "output_type": "stream",
     "text": [
      "\r",
      " 15%|█▌        | 6/40 [10:27<59:16, 104.59s/it]  "
     ]
    },
    {
     "name": "stdout",
     "output_type": "stream",
     "text": [
      "pet-chem\n",
      "--------------------------------------------------------------"
     ]
    },
    {
     "name": "stderr",
     "output_type": "stream",
     "text": [
      "\r",
      " 18%|█▊        | 7/40 [11:36<54:43, 99.51s/it] "
     ]
    },
    {
     "name": "stdout",
     "output_type": "stream",
     "text": [
      "silver\n",
      "-------------------"
     ]
    },
    {
     "name": "stderr",
     "output_type": "stream",
     "text": [
      "\r",
      " 20%|██        | 8/40 [12:44<50:58, 95.58s/it]"
     ]
    },
    {
     "name": "stdout",
     "output_type": "stream",
     "text": [
      "zinc\n",
      "-------------------------------------------------"
     ]
    },
    {
     "name": "stderr",
     "output_type": "stream",
     "text": [
      "\r",
      " 22%|██▎       | 9/40 [14:18<49:16, 95.38s/it]"
     ]
    },
    {
     "name": "stdout",
     "output_type": "stream",
     "text": [
      "retail\n",
      "------------------------------------------------------------"
     ]
    },
    {
     "name": "stderr",
     "output_type": "stream",
     "text": [
      "\r",
      " 25%|██▌       | 10/40 [15:30<46:32, 93.09s/it]"
     ]
    },
    {
     "name": "stdout",
     "output_type": "stream",
     "text": [
      "sorghum\n",
      "----------------------------------------------------------------------"
     ]
    },
    {
     "name": "stderr",
     "output_type": "stream",
     "text": [
      "\r",
      " 28%|██▊       | 11/40 [16:39<43:54, 90.84s/it]"
     ]
    },
    {
     "name": "stdout",
     "output_type": "stream",
     "text": [
      "meal-feed\n",
      "-----------------"
     ]
    },
    {
     "name": "stderr",
     "output_type": "stream",
     "text": [
      "\r",
      " 30%|███       | 12/40 [17:58<41:55, 89.86s/it]"
     ]
    },
    {
     "name": "stdout",
     "output_type": "stream",
     "text": [
      "palm-oil\n",
      "---------------------------------------------------"
     ]
    },
    {
     "name": "stderr",
     "output_type": "stream",
     "text": [
      "\r",
      " 32%|███▎      | 13/40 [19:09<39:48, 88.46s/it]"
     ]
    },
    {
     "name": "stdout",
     "output_type": "stream",
     "text": [
      "rice\n",
      "-------------------------"
     ]
    },
    {
     "name": "stderr",
     "output_type": "stream",
     "text": [
      "\r",
      " 35%|███▌      | 14/40 [20:51<38:44, 89.42s/it]"
     ]
    },
    {
     "name": "stdout",
     "output_type": "stream",
     "text": [
      "alum\n",
      "--------------"
     ]
    },
    {
     "name": "stderr",
     "output_type": "stream",
     "text": [
      "\r",
      " 38%|███▊      | 15/40 [22:04<36:47, 88.29s/it]"
     ]
    },
    {
     "name": "stdout",
     "output_type": "stream",
     "text": [
      "gas\n",
      "---------"
     ]
    },
    {
     "name": "stderr",
     "output_type": "stream",
     "text": [
      "\r",
      " 40%|████      | 16/40 [23:20<35:01, 87.54s/it]"
     ]
    },
    {
     "name": "stdout",
     "output_type": "stream",
     "text": [
      "rubber\n",
      "-----------"
     ]
    },
    {
     "name": "stderr",
     "output_type": "stream",
     "text": [
      "\r",
      " 42%|████▎     | 17/40 [24:32<33:12, 86.63s/it]"
     ]
    },
    {
     "name": "stdout",
     "output_type": "stream",
     "text": [
      "barley\n",
      "-------------------------"
     ]
    },
    {
     "name": "stderr",
     "output_type": "stream",
     "text": [
      "\r",
      " 45%|████▌     | 18/40 [25:46<31:29, 85.89s/it]"
     ]
    },
    {
     "name": "stdout",
     "output_type": "stream",
     "text": [
      "cotton\n",
      "------"
     ]
    },
    {
     "name": "stderr",
     "output_type": "stream",
     "text": [
      "\r",
      " 48%|████▊     | 19/40 [26:52<29:42, 84.89s/it]"
     ]
    },
    {
     "name": "stdout",
     "output_type": "stream",
     "text": [
      "iron-steel\n",
      "--------------"
     ]
    },
    {
     "name": "stderr",
     "output_type": "stream",
     "text": [
      "\r",
      " 50%|█████     | 20/40 [28:04<28:04, 84.24s/it]"
     ]
    },
    {
     "name": "stdout",
     "output_type": "stream",
     "text": [
      "ipi\n",
      "---------------------"
     ]
    },
    {
     "name": "stderr",
     "output_type": "stream",
     "text": [
      "\r",
      " 52%|█████▎    | 21/40 [29:23<26:35, 83.99s/it]"
     ]
    },
    {
     "name": "stdout",
     "output_type": "stream",
     "text": [
      "yen\n",
      "--------"
     ]
    },
    {
     "name": "stderr",
     "output_type": "stream",
     "text": [
      "\r",
      " 55%|█████▌    | 22/40 [30:46<25:10, 83.93s/it]"
     ]
    },
    {
     "name": "stdout",
     "output_type": "stream",
     "text": [
      "jobs\n",
      "-----"
     ]
    },
    {
     "name": "stderr",
     "output_type": "stream",
     "text": [
      "\r",
      " 57%|█████▊    | 23/40 [32:08<23:45, 83.87s/it]"
     ]
    },
    {
     "name": "stdout",
     "output_type": "stream",
     "text": [
      "copper\n",
      "------------"
     ]
    },
    {
     "name": "stderr",
     "output_type": "stream",
     "text": [
      "\r",
      " 60%|██████    | 24/40 [33:30<22:20, 83.76s/it]"
     ]
    },
    {
     "name": "stdout",
     "output_type": "stream",
     "text": [
      "carcass\n",
      "---------------------------------"
     ]
    },
    {
     "name": "stderr",
     "output_type": "stream",
     "text": [
      "\r",
      " 62%|██████▎   | 25/40 [34:51<20:54, 83.66s/it]"
     ]
    },
    {
     "name": "stdout",
     "output_type": "stream",
     "text": [
      "cocoa\n",
      "----"
     ]
    },
    {
     "name": "stderr",
     "output_type": "stream",
     "text": [
      "\r",
      " 65%|██████▌   | 26/40 [36:07<19:27, 83.37s/it]"
     ]
    },
    {
     "name": "stdout",
     "output_type": "stream",
     "text": [
      "reserves\n",
      "--------"
     ]
    },
    {
     "name": "stderr",
     "output_type": "stream",
     "text": [
      "\r",
      " 68%|██████▊   | 27/40 [37:29<18:03, 83.32s/it]"
     ]
    },
    {
     "name": "stdout",
     "output_type": "stream",
     "text": [
      "cpi\n",
      "--"
     ]
    },
    {
     "name": "stderr",
     "output_type": "stream",
     "text": [
      "\r",
      " 70%|███████   | 28/40 [39:17<16:50, 84.20s/it]"
     ]
    },
    {
     "name": "stdout",
     "output_type": "stream",
     "text": [
      "bop\n",
      "-----"
     ]
    },
    {
     "name": "stderr",
     "output_type": "stream",
     "text": [
      "\r",
      " 72%|███████▎  | 29/40 [40:41<15:25, 84.18s/it]"
     ]
    },
    {
     "name": "stdout",
     "output_type": "stream",
     "text": [
      "nat-gas\n",
      "-"
     ]
    },
    {
     "name": "stderr",
     "output_type": "stream",
     "text": [
      "\r",
      " 75%|███████▌  | 30/40 [42:00<14:00, 84.00s/it]"
     ]
    },
    {
     "name": "stdout",
     "output_type": "stream",
     "text": [
      "livestock\n",
      "-------"
     ]
    },
    {
     "name": "stderr",
     "output_type": "stream",
     "text": [
      "\r",
      " 78%|███████▊  | 31/40 [43:18<12:34, 83.83s/it]"
     ]
    },
    {
     "name": "stdout",
     "output_type": "stream",
     "text": [
      "soybean\n",
      "--"
     ]
    },
    {
     "name": "stderr",
     "output_type": "stream",
     "text": [
      "\r",
      " 80%|████████  | 32/40 [44:38<11:09, 83.70s/it]"
     ]
    },
    {
     "name": "stdout",
     "output_type": "stream",
     "text": [
      "veg-oil\n",
      "-----"
     ]
    },
    {
     "name": "stderr",
     "output_type": "stream",
     "text": [
      "\r",
      " 82%|████████▎ | 33/40 [45:58<09:45, 83.59s/it]"
     ]
    },
    {
     "name": "stdout",
     "output_type": "stream",
     "text": [
      "gold\n",
      "-"
     ]
    },
    {
     "name": "stderr",
     "output_type": "stream",
     "text": [
      "\r",
      " 85%|████████▌ | 34/40 [47:08<08:19, 83.19s/it]"
     ]
    },
    {
     "name": "stdout",
     "output_type": "stream",
     "text": [
      "gnp\n",
      "-------"
     ]
    },
    {
     "name": "stderr",
     "output_type": "stream",
     "text": [
      "\r",
      " 88%|████████▊ | 35/40 [48:24<06:54, 82.99s/it]"
     ]
    },
    {
     "name": "stdout",
     "output_type": "stream",
     "text": [
      "coffee\n",
      "--"
     ]
    },
    {
     "name": "stderr",
     "output_type": "stream",
     "text": [
      "\r",
      " 90%|█████████ | 36/40 [49:40<05:31, 82.80s/it]"
     ]
    },
    {
     "name": "stdout",
     "output_type": "stream",
     "text": [
      "oilseed\n",
      "-"
     ]
    },
    {
     "name": "stderr",
     "output_type": "stream",
     "text": [
      "\r",
      " 92%|█████████▎| 37/40 [51:07<04:08, 82.92s/it]"
     ]
    },
    {
     "name": "stdout",
     "output_type": "stream",
     "text": [
      "sugar\n"
     ]
    },
    {
     "name": "stderr",
     "output_type": "stream",
     "text": [
      "\r",
      " 95%|█████████▌| 38/40 [52:28<02:45, 82.86s/it]"
     ]
    },
    {
     "name": "stdout",
     "output_type": "stream",
     "text": [
      "dlr\n"
     ]
    },
    {
     "name": "stderr",
     "output_type": "stream",
     "text": [
      "\r",
      " 98%|█████████▊| 39/40 [53:51<01:22, 82.86s/it]"
     ]
    },
    {
     "name": "stdout",
     "output_type": "stream",
     "text": [
      "money-supply\n",
      "-"
     ]
    },
    {
     "name": "stderr",
     "output_type": "stream",
     "text": [
      "100%|██████████| 40/40 [55:35<00:00, 83.40s/it]\n"
     ]
    }
   ],
   "source": [
    "import time\n",
    "for name,x in [('with_pretrained',x_pre),('no_pretrained',x_no_pre)]:\n",
    "    xtrain = np.array(x[0:len(train_docs)])\n",
    "    xtest = np.array(x[len(train_docs):len(docs)])\n",
    "    \n",
    "    for y_col in tqdm.tqdm(y_df_train.sum().sort_values().keys()[-50:]):\n",
    "        y_train = y_df_train[y_col].values\n",
    "        print(y_col)\n",
    "        for size in range(100,len(y_train)+100,100):\n",
    "            clf = sklearn.linear_model.LogisticRegression()\n",
    "            ### train classifier\n",
    "            # Pick random sample\n",
    "            idx = random.sample(list(range(len(xtrain))),min([len(y_train),size]))\n",
    "            temp_train = xtrain[idx]\n",
    "            temp_y = y_train[idx]\n",
    "            while sum(temp_y)<2:\n",
    "                print('-',end='')\n",
    "                idx = random.sample(list(range(len(xtrain))),min([len(y_train),size]))\n",
    "                temp_train = xtrain[idx]\n",
    "                temp_y = y_train[idx]\n",
    "            # log train time\n",
    "            t = time.time()\n",
    "            clf.fit(temp_train,temp_y)\n",
    "            train_time = time.time()-t\n",
    "            t = time.time()\n",
    "            # test classifier\n",
    "            y_test = y_df_test[y_col]\n",
    "            pred = clf.predict(xtest)\n",
    "            # log inference time\n",
    "            infer_time = time.time() - t \n",
    "            datapoint = {'train_time':train_time,'infer_time':infer_time,\n",
    "                         'training_size':size,\n",
    "                         'type':name,'task':y_col,'positive_samples':sum(y_train)}\n",
    "            perf_test = get_performance(pred,y_test)\n",
    "            pred = clf.predict(temp_train)\n",
    "            perf_train = get_performance(pred,temp_y,prefix='train_')\n",
    "            datapoint.update(perf_train)\n",
    "            datapoint.update(perf_test)\n",
    "            test_results.append(datapoint)\n"
   ]
  },
  {
   "cell_type": "markdown",
   "metadata": {},
   "source": [
    "### NB and SVM learning curves"
   ]
  },
  {
   "cell_type": "code",
   "execution_count": 396,
   "metadata": {
    "collapsed": true
   },
   "outputs": [],
   "source": [
    "import sklearn.naive_bayes\n",
    "from sklearn import svm\n",
    "classifiers = {'svm':svm.LinearSVC,'nb':sklearn.naive_bayes.BernoulliNB}\n"
   ]
  },
  {
   "cell_type": "code",
   "execution_count": 397,
   "metadata": {
    "collapsed": true
   },
   "outputs": [],
   "source": [
    "conf = {**default,**{'lemmer':True}}\n",
    "tokenizer = custom_tokenizer(**conf)"
   ]
  },
  {
   "cell_type": "code",
   "execution_count": 253,
   "metadata": {
    "collapsed": true
   },
   "outputs": [],
   "source": [
    "gram = 2\n",
    "vectorizer = sklearn.feature_extraction.text.CountVectorizer(ngram_range=(1,gram),min_df=3,tokenizer=tokenizer.tokenize)\n",
    "# load documents\n",
    "vectorizer.fit(train_docs)\n",
    "n_features = len(vectorizer.vocabulary_)\n",
    "x_bow_train = vectorizer.transform(train_docs)\n",
    "x_bow_test = vectorizer.transform(test_docs)"
   ]
  },
  {
   "cell_type": "code",
   "execution_count": 619,
   "metadata": {
    "scrolled": true
   },
   "outputs": [
    {
     "name": "stderr",
     "output_type": "stream",
     "text": [
      "\r",
      "  0%|          | 0/40 [00:00<?, ?it/s]"
     ]
    },
    {
     "name": "stdout",
     "output_type": "stream",
     "text": [
      "orange\n",
      "--------------------------------------------------------------------------"
     ]
    },
    {
     "name": "stderr",
     "output_type": "stream",
     "text": [
      "/Users/axelengbergpallesen/anaconda/lib/python3.6/site-packages/sklearn/metrics/classification.py:1135: UndefinedMetricWarning: Precision is ill-defined and being set to 0.0 due to no predicted samples.\n",
      "  'precision', 'predicted', average, warn_for)\n",
      "/Users/axelengbergpallesen/anaconda/lib/python3.6/site-packages/sklearn/metrics/classification.py:1135: UndefinedMetricWarning: F-score is ill-defined and being set to 0.0 due to no predicted samples.\n",
      "  'precision', 'predicted', average, warn_for)\n"
     ]
    },
    {
     "name": "stdout",
     "output_type": "stream",
     "text": [
      "-------------------------------------------------------------------------------------------------------------------------------------------------------------------------------------"
     ]
    },
    {
     "name": "stderr",
     "output_type": "stream",
     "text": [
      "\r",
      "  2%|▎         | 1/40 [00:25<16:53, 25.99s/it]"
     ]
    },
    {
     "name": "stdout",
     "output_type": "stream",
     "text": [
      "strategic-metal\n",
      "-------------------------------------------------------------------------------------------------------------------------------------------------------------"
     ]
    },
    {
     "name": "stderr",
     "output_type": "stream",
     "text": [
      "\r",
      "  5%|▌         | 2/40 [01:11<22:44, 35.90s/it]"
     ]
    },
    {
     "name": "stdout",
     "output_type": "stream",
     "text": [
      "hog\n",
      "----------------------------------------------------------------------------------------------------------------------------------------------------------------------------------------------"
     ]
    },
    {
     "name": "stderr",
     "output_type": "stream",
     "text": [
      "\r",
      "  8%|▊         | 3/40 [01:44<21:23, 34.68s/it]"
     ]
    },
    {
     "name": "stdout",
     "output_type": "stream",
     "text": [
      "rapeseed\n",
      "-----------------------------------------------------------------------------------------------------"
     ]
    },
    {
     "name": "stderr",
     "output_type": "stream",
     "text": [
      "\r",
      " 10%|█         | 4/40 [02:20<21:01, 35.03s/it]"
     ]
    },
    {
     "name": "stdout",
     "output_type": "stream",
     "text": [
      "tin\n",
      "------------------------------------------------------------------------------------------"
     ]
    },
    {
     "name": "stderr",
     "output_type": "stream",
     "text": [
      "\r",
      " 12%|█▎        | 5/40 [03:04<21:31, 36.90s/it]"
     ]
    },
    {
     "name": "stdout",
     "output_type": "stream",
     "text": [
      "wpi\n",
      "------------------------------------------------------------------------------------------------------------------"
     ]
    },
    {
     "name": "stderr",
     "output_type": "stream",
     "text": [
      "\r",
      " 15%|█▌        | 6/40 [03:36<20:26, 36.09s/it]"
     ]
    },
    {
     "name": "stdout",
     "output_type": "stream",
     "text": [
      "pet-chem\n",
      "------------------------------------------------------"
     ]
    },
    {
     "name": "stderr",
     "output_type": "stream",
     "text": [
      "\r",
      " 18%|█▊        | 7/40 [04:28<21:05, 38.35s/it]"
     ]
    },
    {
     "name": "stdout",
     "output_type": "stream",
     "text": [
      "silver\n",
      "------------------------------------------------------------------------------------------------------------------------------------"
     ]
    },
    {
     "name": "stderr",
     "output_type": "stream",
     "text": [
      "\r",
      " 20%|██        | 8/40 [05:30<22:00, 41.25s/it]"
     ]
    },
    {
     "name": "stdout",
     "output_type": "stream",
     "text": [
      "zinc\n",
      "-----------------------------------------------------------------------------------------------------------------------------------------------------------------------------------------------------------------------------------"
     ]
    },
    {
     "name": "stderr",
     "output_type": "stream",
     "text": [
      "\r",
      " 22%|██▎       | 9/40 [06:14<21:28, 41.56s/it]"
     ]
    },
    {
     "name": "stdout",
     "output_type": "stream",
     "text": [
      "retail\n",
      "--------------------------------------------------------------------------------"
     ]
    },
    {
     "name": "stderr",
     "output_type": "stream",
     "text": [
      "\r",
      " 25%|██▌       | 10/40 [06:47<20:23, 40.78s/it]"
     ]
    },
    {
     "name": "stdout",
     "output_type": "stream",
     "text": [
      "sorghum\n",
      "--------------------------------------------"
     ]
    },
    {
     "name": "stderr",
     "output_type": "stream",
     "text": [
      "\r",
      " 28%|██▊       | 11/40 [07:22<19:25, 40.18s/it]"
     ]
    },
    {
     "name": "stdout",
     "output_type": "stream",
     "text": [
      "meal-feed\n",
      "--------------------------------------"
     ]
    },
    {
     "name": "stderr",
     "output_type": "stream",
     "text": [
      "\r",
      " 30%|███       | 12/40 [07:58<18:37, 39.91s/it]"
     ]
    },
    {
     "name": "stdout",
     "output_type": "stream",
     "text": [
      "palm-oil\n",
      "------------------------------------------------"
     ]
    },
    {
     "name": "stderr",
     "output_type": "stream",
     "text": [
      "\r",
      " 32%|███▎      | 13/40 [08:46<18:13, 40.51s/it]"
     ]
    },
    {
     "name": "stdout",
     "output_type": "stream",
     "text": [
      "rice\n",
      "-----------------------------"
     ]
    },
    {
     "name": "stderr",
     "output_type": "stream",
     "text": [
      "\r",
      " 35%|███▌      | 14/40 [09:22<17:24, 40.16s/it]"
     ]
    },
    {
     "name": "stdout",
     "output_type": "stream",
     "text": [
      "alum\n",
      "--------------"
     ]
    },
    {
     "name": "stderr",
     "output_type": "stream",
     "text": [
      "\r",
      " 38%|███▊      | 15/40 [10:16<17:07, 41.09s/it]"
     ]
    },
    {
     "name": "stdout",
     "output_type": "stream",
     "text": [
      "gas\n",
      "-------------------------------------------"
     ]
    },
    {
     "name": "stderr",
     "output_type": "stream",
     "text": [
      "\r",
      " 40%|████      | 16/40 [10:44<16:07, 40.30s/it]"
     ]
    },
    {
     "name": "stdout",
     "output_type": "stream",
     "text": [
      "rubber\n",
      "----------------------------"
     ]
    },
    {
     "name": "stderr",
     "output_type": "stream",
     "text": [
      "\r",
      " 42%|████▎     | 17/40 [11:17<15:16, 39.83s/it]"
     ]
    },
    {
     "name": "stdout",
     "output_type": "stream",
     "text": [
      "barley\n",
      "----------------------------------"
     ]
    },
    {
     "name": "stderr",
     "output_type": "stream",
     "text": [
      "\r",
      " 45%|████▌     | 18/40 [11:45<14:22, 39.21s/it]"
     ]
    },
    {
     "name": "stdout",
     "output_type": "stream",
     "text": [
      "cotton\n",
      "----------------------------------------"
     ]
    },
    {
     "name": "stderr",
     "output_type": "stream",
     "text": [
      "\r",
      " 48%|████▊     | 19/40 [12:11<13:28, 38.49s/it]"
     ]
    },
    {
     "name": "stdout",
     "output_type": "stream",
     "text": [
      "iron-steel\n",
      "---------------------------"
     ]
    },
    {
     "name": "stderr",
     "output_type": "stream",
     "text": [
      "\r",
      " 50%|█████     | 20/40 [12:40<12:40, 38.04s/it]"
     ]
    },
    {
     "name": "stdout",
     "output_type": "stream",
     "text": [
      "ipi\n",
      "-----------------"
     ]
    },
    {
     "name": "stderr",
     "output_type": "stream",
     "text": [
      "\r",
      " 52%|█████▎    | 21/40 [13:20<12:04, 38.13s/it]"
     ]
    },
    {
     "name": "stdout",
     "output_type": "stream",
     "text": [
      "yen\n",
      "--------------------"
     ]
    },
    {
     "name": "stderr",
     "output_type": "stream",
     "text": [
      "\r",
      " 55%|█████▌    | 22/40 [14:44<12:03, 40.22s/it]"
     ]
    },
    {
     "name": "stdout",
     "output_type": "stream",
     "text": [
      "jobs\n",
      "--------------------------"
     ]
    },
    {
     "name": "stderr",
     "output_type": "stream",
     "text": [
      "\r",
      " 57%|█████▊    | 23/40 [15:27<11:25, 40.32s/it]"
     ]
    },
    {
     "name": "stdout",
     "output_type": "stream",
     "text": [
      "copper\n",
      "-------------------------------"
     ]
    },
    {
     "name": "stderr",
     "output_type": "stream",
     "text": [
      "\r",
      " 60%|██████    | 24/40 [16:09<10:46, 40.40s/it]"
     ]
    },
    {
     "name": "stdout",
     "output_type": "stream",
     "text": [
      "carcass\n",
      "-----------------------"
     ]
    },
    {
     "name": "stderr",
     "output_type": "stream",
     "text": [
      "\r",
      " 62%|██████▎   | 25/40 [17:00<10:12, 40.81s/it]"
     ]
    },
    {
     "name": "stdout",
     "output_type": "stream",
     "text": [
      "cocoa\n",
      "-------------------"
     ]
    },
    {
     "name": "stderr",
     "output_type": "stream",
     "text": [
      "\r",
      " 65%|██████▌   | 26/40 [17:42<09:32, 40.87s/it]"
     ]
    },
    {
     "name": "stdout",
     "output_type": "stream",
     "text": [
      "reserves\n",
      "----------------------"
     ]
    },
    {
     "name": "stderr",
     "output_type": "stream",
     "text": [
      "\r",
      " 68%|██████▊   | 27/40 [18:27<08:53, 41.02s/it]"
     ]
    },
    {
     "name": "stdout",
     "output_type": "stream",
     "text": [
      "cpi\n",
      "------"
     ]
    },
    {
     "name": "stderr",
     "output_type": "stream",
     "text": [
      "\r",
      " 70%|███████   | 28/40 [19:06<08:11, 40.96s/it]"
     ]
    },
    {
     "name": "stdout",
     "output_type": "stream",
     "text": [
      "bop\n",
      "------"
     ]
    },
    {
     "name": "stderr",
     "output_type": "stream",
     "text": [
      "\r",
      " 72%|███████▎  | 29/40 [20:03<07:36, 41.49s/it]"
     ]
    },
    {
     "name": "stdout",
     "output_type": "stream",
     "text": [
      "nat-gas\n",
      "---"
     ]
    },
    {
     "name": "stderr",
     "output_type": "stream",
     "text": [
      "\r",
      " 75%|███████▌  | 30/40 [20:59<06:59, 41.99s/it]"
     ]
    },
    {
     "name": "stdout",
     "output_type": "stream",
     "text": [
      "livestock\n",
      "---------------"
     ]
    },
    {
     "name": "stderr",
     "output_type": "stream",
     "text": [
      "\r",
      " 78%|███████▊  | 31/40 [21:43<06:18, 42.05s/it]"
     ]
    },
    {
     "name": "stdout",
     "output_type": "stream",
     "text": [
      "soybean\n",
      "------------"
     ]
    },
    {
     "name": "stderr",
     "output_type": "stream",
     "text": [
      "\r",
      " 80%|████████  | 32/40 [23:22<05:50, 43.83s/it]"
     ]
    },
    {
     "name": "stdout",
     "output_type": "stream",
     "text": [
      "veg-oil\n"
     ]
    },
    {
     "name": "stderr",
     "output_type": "stream",
     "text": [
      "\r",
      " 82%|████████▎ | 33/40 [24:00<05:05, 43.65s/it]"
     ]
    },
    {
     "name": "stdout",
     "output_type": "stream",
     "text": [
      "gold\n",
      "--------"
     ]
    },
    {
     "name": "stderr",
     "output_type": "stream",
     "text": [
      "\r",
      " 85%|████████▌ | 34/40 [24:36<04:20, 43.42s/it]"
     ]
    },
    {
     "name": "stdout",
     "output_type": "stream",
     "text": [
      "gnp\n",
      "----------"
     ]
    },
    {
     "name": "stderr",
     "output_type": "stream",
     "text": [
      "\r",
      " 88%|████████▊ | 35/40 [25:16<03:36, 43.33s/it]"
     ]
    },
    {
     "name": "stdout",
     "output_type": "stream",
     "text": [
      "coffee\n",
      "-----"
     ]
    },
    {
     "name": "stderr",
     "output_type": "stream",
     "text": [
      "\r",
      " 90%|█████████ | 36/40 [25:51<02:52, 43.09s/it]"
     ]
    },
    {
     "name": "stdout",
     "output_type": "stream",
     "text": [
      "oilseed\n",
      "-"
     ]
    },
    {
     "name": "stderr",
     "output_type": "stream",
     "text": [
      "\r",
      " 92%|█████████▎| 37/40 [26:20<02:08, 42.73s/it]"
     ]
    },
    {
     "name": "stdout",
     "output_type": "stream",
     "text": [
      "sugar\n",
      "-------"
     ]
    },
    {
     "name": "stderr",
     "output_type": "stream",
     "text": [
      "\r",
      " 95%|█████████▌| 38/40 [27:05<01:25, 42.77s/it]"
     ]
    },
    {
     "name": "stdout",
     "output_type": "stream",
     "text": [
      "dlr\n",
      "--"
     ]
    },
    {
     "name": "stderr",
     "output_type": "stream",
     "text": [
      "\r",
      " 98%|█████████▊| 39/40 [27:37<00:42, 42.49s/it]"
     ]
    },
    {
     "name": "stdout",
     "output_type": "stream",
     "text": [
      "money-supply\n"
     ]
    },
    {
     "name": "stderr",
     "output_type": "stream",
     "text": [
      "100%|██████████| 40/40 [28:01<00:00, 42.03s/it]\n"
     ]
    }
   ],
   "source": [
    "xtrain = x_bow_train\n",
    "xtest = x_bow_test\n",
    "for y_col in tqdm.tqdm(y_df_train.sum().sort_values().keys()[-50:-10]):\n",
    "    y_train = y_df_train[y_col].values\n",
    "    print(y_col)\n",
    "    for classifier in classifiers:\n",
    "        for size in range(100,len(y_train)+100,100):\n",
    "            clf = classifiers[classifier]()\n",
    "            ### train classifier\n",
    "            # Pick random sample\n",
    "            idx = random.sample(list(range(xtrain.shape[0])),min([len(y_train),size]))\n",
    "            temp_train = xtrain[idx]\n",
    "            temp_y = y_train[idx]\n",
    "            while sum(temp_y)<2:\n",
    "                print('-',end='')\n",
    "                idx = random.sample(list(range(xtrain.shape[0])),min([len(y_train),size]))\n",
    "                temp_train = xtrain[idx]\n",
    "                temp_y = y_train[idx]\n",
    "\n",
    "            # log train time\n",
    "            t = time.time()\n",
    "            clf.fit(temp_train,temp_y)\n",
    "            train_time = time.time()-t\n",
    "            t = time.time()\n",
    "            # test classifier\n",
    "            y_test = y_df_test[y_col]\n",
    "            pred = clf.predict(xtest)\n",
    "            # log inference time\n",
    "            infer_time = time.time() - t \n",
    "            datapoint = {'train_time':train_time,'infer_time':infer_time,\n",
    "                         'training_size':size,\n",
    "                         'type':classifier,'task':y_col,'positive_samples':sum(y_train)}\n",
    "            perf_test = get_performance(pred,y_test)\n",
    "            pred = clf.predict(temp_train)\n",
    "            perf_train = get_performance(pred,temp_y,prefix='train_')\n",
    "            datapoint.update(perf_train)\n",
    "            datapoint.update(perf_test)\n",
    "            test_results.append(datapoint)\n"
   ]
  },
  {
   "cell_type": "code",
   "execution_count": 620,
   "metadata": {
    "collapsed": true
   },
   "outputs": [],
   "source": [
    "test_df = pd.DataFrame(test_results)"
   ]
  },
  {
   "cell_type": "code",
   "execution_count": 440,
   "metadata": {
    "scrolled": false
   },
   "outputs": [
    {
     "data": {
      "image/png": "[encoded data removed]",
      "text/plain": [
       "<matplotlib.figure.Figure at 0x1a1b767cf8>"
      ]
     },
     "metadata": {},
     "output_type": "display_data"
    },
    {
     "data": {
      "image/png": "[encoded data removed]",
      "text/plain": [
       "<matplotlib.figure.Figure at 0x1a1b742da0>"
      ]
     },
     "metadata": {},
     "output_type": "display_data"
    },
    {
     "data": {
      "image/png": "[encoded data removed]",
      "text/plain": [
       "<matplotlib.figure.Figure at 0x1a1b746908>"
      ]
     },
     "metadata": {},
     "output_type": "display_data"
    }
   ],
   "source": [
    "for task in set(['acq','earn','money-fx']):#:test_df.task.unique()\n",
    "    \n",
    "    plt.figure(figsize=(12,8))\n",
    "    for name,temp in test_df[test_df['task']==task].groupby('type'):\n",
    "        temp = temp.sort_values('training_size')\n",
    "        plt.plot(temp['training_size'],temp['f1'],label=name,lw=2)\n",
    "    plt.legend()\n",
    "    plt.ylabel('f1-score')\n",
    "    plt.xlabel('Training size')\n",
    "    plt.title(task)\n",
    "    plt.xlim(0,2000)"
   ]
  },
  {
   "cell_type": "markdown",
   "metadata": {},
   "source": [
    "While the SVM far outperforms the Naive Bayes with a very steep learning curve, the doc2vec embeddings are consistently better at these 3 tasks."
   ]
  },
  {
   "cell_type": "code",
   "execution_count": 621,
   "metadata": {
    "collapsed": true
   },
   "outputs": [],
   "source": [
    "max_df = test_df.groupby(['type','task']).max().reset_index()\n",
    "max_df = max_df.merge(pd.DataFrame(list(y_df_train.sum().items()),columns=['task','size']),on='task')\n",
    "# Plus Merge with the topic model best performance.\n",
    "max_df = pd.concat([max_df,lda_top])"
   ]
  },
  {
   "cell_type": "code",
   "execution_count": null,
   "metadata": {
    "collapsed": true
   },
   "outputs": [],
   "source": [
    "# Dump results\n",
    "max_df.to_csv('best_performance.csv',index=False)\n",
    "test_df.to_csv('learning_curves.csv',index=False)"
   ]
  },
  {
   "cell_type": "code",
   "execution_count": 624,
   "metadata": {},
   "outputs": [
    {
     "name": "stderr",
     "output_type": "stream",
     "text": [
      "/Users/axelengbergpallesen/anaconda/lib/python3.6/site-packages/ipykernel_launcher.py:4: FutureWarning: pd.rolling_mean is deprecated for Series and will be removed in a future version, replace with \n",
      "\tSeries.rolling(window=3,center=True).mean()\n",
      "  after removing the cwd from sys.path.\n"
     ]
    },
    {
     "data": {
      "text/plain": [
       "<matplotlib.text.Text at 0x1a1bcc6630>"
      ]
     },
     "execution_count": 624,
     "metadata": {},
     "output_type": "execute_result"
    },
    {
     "data": {
      "image/png": "[encoded data removed]",
      "text/plain": [
       "<matplotlib.figure.Figure at 0x1a1bcb5dd8>"
      ]
     },
     "metadata": {},
     "output_type": "display_data"
    }
   ],
   "source": [
    "def plot_rolling_mean(tempdf,window=3):\n",
    "    tempdf = tempdf.sort_values('size')\n",
    "    x,y = tempdf['size'],tempdf['f1']\n",
    "    x,y = pd.rolling_mean(x,window=window,center=True),pd.rolling_mean(y,window=window,center=True)\n",
    "    plt.plot(x,y,label=tempdf['type'].values[0])\n",
    "plt.figure(figsize=(12,8))\n",
    "max_df.groupby('type').apply(plot_rolling_mean)\n",
    "\n",
    "plt.legend()\n",
    "plt.title('Best Performance as a function of positive examples')\n",
    "plt.xscale('log')\n",
    "plt.ylabel('f1')\n",
    "plt.xlabel('# positive training examples')"
   ]
  },
  {
   "cell_type": "markdown",
   "metadata": {},
   "source": [
    "Here we can see that the Latent Dirichlet Allocation is a far slower learner than the doc2vec with no pretrained embedddings. However for most tasks SVM with bigram features is superior."
   ]
  }
 ],
 "metadata": {
  "kernelspec": {
   "display_name": "Python 3",
   "language": "python",
   "name": "python3"
  },
  "language_info": {
   "codemirror_mode": {
    "name": "ipython",
    "version": 3
   },
   "file_extension": ".py",
   "mimetype": "text/x-python",
   "name": "python",
   "nbconvert_exporter": "python",
   "pygments_lexer": "ipython3",
   "version": "3.6.1"
  },
  "latex_envs": {
   "bibliofile": "biblio.bib",
   "cite_by": "apalike",
   "current_citInitial": 1,
   "eqLabelWithNumbers": true,
   "eqNumInitial": 0
  },
  "toc": {
   "nav_menu": {
    "height": "421px",
    "width": "252px"
   },
   "navigate_menu": true,
   "number_sections": true,
   "sideBar": true,
   "threshold": 4,
   "toc_cell": false,
   "toc_section_display": "block",
   "toc_window_display": false
  }
 },
 "nbformat": 4,
 "nbformat_minor": 2
}
